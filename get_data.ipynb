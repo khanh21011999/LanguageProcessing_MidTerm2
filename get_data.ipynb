{
 "cells": [
  {
   "cell_type": "code",
   "execution_count": 1,
   "metadata": {},
   "outputs": [],
   "source": [
    "import os\n",
    "import pandas as pd\n",
    "import re\n",
    "import requests"
   ]
  },
  {
   "cell_type": "code",
   "execution_count": 2,
   "metadata": {},
   "outputs": [],
   "source": [
    "\n",
    "df = pd.read_excel('assignment1/response.xlsx')\n",
    "df['id'] = df['Thư điện tử'].str[:8]\n",
    "df['folder'] = df.agg('{0[id]}_{0[Họ và đệm]} {0[Tên]}'.format, axis=1)\n",
    "df = df.sort_values(by=['Được hoàn thành'], ascending=False)\n",
    "df.head(1000).to_csv('mycsv.csv')"
   ]
  },
  {
   "cell_type": "code",
   "execution_count": 3,
   "metadata": {},
   "outputs": [],
   "source": [
    "def extract_id(response):\n",
    "    if type(response) != str:\n",
    "        return None\n",
    "    pos = response.find('open?id=')\n",
    "    \n",
    "    if pos == -1:\n",
    "        pos = response.find('/drive/folders')\n",
    "    if pos != -1:\n",
    "        pos += 8\n",
    "        response = response[pos:]\n",
    "        result = re.search(r\"[\\w-]+\", response)\n",
    "        return result.group(0)\n",
    "    else:\n",
    "        return None\n",
    "\n",
    "def download_file_from_google_drive(id, destination, replace=False):\n",
    "    if not replace and os.path.isfile(destination):\n",
    "        print(\"Destination file\", destination, \"exists, download aborted\")\n",
    "        return\n",
    "    URL = \"https://docs.google.com/uc?export=download\"\n",
    "\n",
    "    session = requests.Session()\n",
    "\n",
    "    response = session.get(URL, params = { 'id' : id }, stream = True)\n",
    "    token = get_confirm_token(response)\n",
    "    \n",
    "    if token:\n",
    "        params = { 'id' : id, 'confirm' : token }\n",
    "        response = session.get(URL, params = params, stream = True)\n",
    "\n",
    "    save_response_content(response, destination)    \n",
    "\n",
    "def get_confirm_token(response):\n",
    "    for key, value in response.cookies.items():\n",
    "        if key.startswith('download_warning'):\n",
    "            return value\n",
    "\n",
    "    return None\n",
    "\n",
    "def save_response_content(response, destination):\n",
    "    CHUNK_SIZE = 32768\n",
    "\n",
    "    with open(destination, \"wb\") as f:\n",
    "        for chunk in response.iter_content(CHUNK_SIZE):\n",
    "            if chunk: # filter out keep-alive new chunks\n",
    "                f.write(chunk)\n",
    "\n",
    "def download_response(row):\n",
    "    folder = row['folder']\n",
    "    response = row['Response 1']    \n",
    "    data_file_id = extract_id(response)\n",
    "    if data_file_id is not None:\n",
    "        destination_dir = os.path.join('assignment1', folder)\n",
    "        destination = os.path.join(destination_dir, 'data.zip')\n",
    "        os.makedirs(destination_dir, exist_ok=True)\n",
    "        print(\"Downloading\", data_file_id, '...')\n",
    "        download_file_from_google_drive(data_file_id, destination)\n",
    "        print(\"Done.\")\n",
    "    else:\n",
    "        print(\"Cannot find drive file ID, check response\")\n",
    "\n",
    "def download_by_student_id(student_id):\n",
    "    for r in df.iterrows():\n",
    "        r = r[1]\n",
    "        if r['id'] == student_id:\n",
    "            print(r['folder'], r['Được hoàn thành'], r['Response 1'])\n",
    "            download_response(r)\n",
    " \n",
    "            print('--------------------------------------------------------')\n",
    "\n",
    "        # break # comment this line to process all assignments"
   ]
  },
  {
   "cell_type": "code",
   "execution_count": 5,
   "metadata": {},
   "outputs": [
    {
     "output_type": "stream",
     "name": "stdout",
     "text": "16020191_Đỗ Tuấn Anh 3 Tháng tư 2020  4:36 PM https://github.com/tuananhddo/xltn\n\nhttps://drive.google.com/file/d/1mCGg2ADxjs-lu1u1qBACF54a98Lr4iC0/view?usp=sharing\nCannot find drive file ID, check response\n--------------------------------------------------------\n16020191_Đỗ Tuấn Anh 3 Tháng tư 2020  11:30 AM https://github.com/tuananhddo/xltnn\n\nhttps://drive.google.com/file/d/1mCGg2ADxjs-lu1u1qBACF54a98Lr4iC0/view?usp=sharing\nCannot find drive file ID, check response\n--------------------------------------------------------\n16020191_Đỗ Tuấn Anh 27 Tháng ba 2020  1:29 PM https://github.com/tuananhddo/xltnn\nCannot find drive file ID, check response\n--------------------------------------------------------\n16020191_Đỗ Tuấn Anh - -\nCannot find drive file ID, check response\n--------------------------------------------------------\n"
    }
   ],
   "source": [
    "\n",
    "download_by_student_id('16020191')"
   ]
  },
  {
   "cell_type": "code",
   "execution_count": null,
   "metadata": {},
   "outputs": [],
   "source": []
  }
 ],
 "metadata": {
  "language_info": {
   "codemirror_mode": {
    "name": "ipython",
    "version": 3
   },
   "file_extension": ".py",
   "mimetype": "text/x-python",
   "name": "python",
   "nbconvert_exporter": "python",
   "pygments_lexer": "ipython3",
   "version": "3.7.6-final"
  },
  "orig_nbformat": 2,
  "kernelspec": {
   "name": "python3",
   "display_name": "Python 3"
  }
 },
 "nbformat": 4,
 "nbformat_minor": 2
}