{
 "cells": [
  {
   "cell_type": "code",
   "execution_count": 33,
   "metadata": {},
   "outputs": [],
   "source": [
    "import librosa\n",
    "import numpy as np\n",
    "import os\n",
    "import math\n",
    "from sklearn.cluster import KMeans\n",
    "import hmmlearn.hmm\n",
    "from sklearn.metrics import confusion_matrix\n",
    "import matplotlib.pyplot as plt\n",
    "import pickle"
   ]
  },
  {
   "cell_type": "markdown",
   "metadata": {},
   "source": [
    "## Get MFCC function"
   ]
  },
  {
   "cell_type": "code",
   "execution_count": 34,
   "metadata": {},
   "outputs": [],
   "source": [
    "# read file\n",
    "def get_mfcc(file_path):\n",
    "    y, sr = librosa.load(file_path) # read .wav file\n",
    "    hop_length = math.floor(sr*0.010) # 10ms hop\n",
    "    win_length = math.floor(sr*0.025) # 25ms frame\n",
    "    # mfcc is 12 x T matrix\n",
    "    mfcc = librosa.feature.mfcc(\n",
    "        y, sr, n_mfcc=12, n_fft=1024,\n",
    "        hop_length=hop_length, win_length=win_length)\n",
    "    # substract mean from mfcc --> normalize mfcc\n",
    "    mfcc = mfcc - np.mean(mfcc, axis=1).reshape((-1,1)) \n",
    "    # delta feature 1st order and 2nd order\n",
    "    delta1 = librosa.feature.delta(mfcc, order=1)\n",
    "    delta2 = librosa.feature.delta(mfcc, order=2)\n",
    "    # X is 36 x T\n",
    "    X = np.concatenate([mfcc, delta1, delta2], axis=0) # O^r\n",
    "    # return T x 36 (transpose of X)\n",
    "    return X.T # hmmlearn use T x N matrix"
   ]
  },
  {
   "cell_type": "markdown",
   "metadata": {},
   "source": [
    "## lấy mfcc của tất cả các file trong dir"
   ]
  },
  {
   "cell_type": "code",
   "execution_count": 35,
   "metadata": {},
   "outputs": [],
   "source": [
    "# lấy mfcc của tất cả các file wav trong wav\n",
    "def get_class_data(data_dir):\n",
    "    files = os.listdir(data_dir)\n",
    "    mfcc = [get_mfcc(os.path.join(data_dir,f)) for f in files if f.endswith(\".wav\")]\n",
    "    return mfcc"
   ]
  },
  {
   "cell_type": "markdown",
   "metadata": {},
   "source": [
    "## Hàm Clustering"
   ]
  },
  {
   "cell_type": "code",
   "execution_count": 36,
   "metadata": {},
   "outputs": [],
   "source": [
    "def clustering(X, n_clusters=14):\n",
    "    kmeans = KMeans(n_clusters=n_clusters, n_init=50, random_state=0, verbose=0)\n",
    "    kmeans.fit(X)\n",
    "    print(\"centers\", kmeans.cluster_centers_.shape)\n",
    "    return kmeans"
   ]
  },
  {
   "cell_type": "markdown",
   "metadata": {},
   "source": [
    "## plot biểu đồ predict/true"
   ]
  },
  {
   "cell_type": "code",
   "execution_count": 37,
   "metadata": {},
   "outputs": [],
   "source": [
    "def plotCM(y_true, y_pred, labels):\n",
    "    cm = confusion_matrix(y_true, y_pred, labels)\n",
    "    fig = plt.figure()\n",
    "    ax = fig.add_subplot(111)\n",
    "    cax = ax.matshow(cm)\n",
    "    plt.title('test')\n",
    "    fig.colorbar(cax)\n",
    "    ax.set_xticklabels([''] + labels)\n",
    "    ax.set_yticklabels([''] + labels)\n",
    "    plt.xlabel('predicted')\n",
    "    plt.ylabel('true')\n",
    "    plt.show()"
   ]
  },
  {
   "cell_type": "markdown",
   "metadata": {},
   "source": [
    "## Data"
   ]
  },
  {
   "cell_type": "code",
   "execution_count": 42,
   "metadata": {},
   "outputs": [
    {
     "name": "stdout",
     "output_type": "stream",
     "text": [
      "Load len dataset\n",
      "Load xuong dataset\n",
      "Load trai dataset\n",
      "Load phai dataset\n"
     ]
    }
   ],
   "source": [
    "class_names = ['len', 'xuong', 'trai', 'phai']\n",
    "dataset = {}\n",
    "for cname in class_names:\n",
    "    print(f\"Load {cname} dataset\")\n",
    "    dataset[cname]=get_class_data(os.path.join('data',cname))"
   ]
  },
  {
   "cell_type": "code",
   "execution_count": 43,
   "metadata": {},
   "outputs": [
    {
     "name": "stdout",
     "output_type": "stream",
     "text": [
      "101\n",
      "102\n",
      "102\n",
      "102\n"
     ]
    }
   ],
   "source": [
    "print(len(dataset['len']))\n",
    "print(len(dataset['xuong']))\n",
    "print(len(dataset['trai']))\n",
    "print(len(dataset['phai']))"
   ]
  },
  {
   "cell_type": "code",
   "execution_count": 44,
   "metadata": {},
   "outputs": [
    {
     "name": "stdout",
     "output_type": "stream",
     "text": [
      "Load len testDataSet\n"
     ]
    },
    {
     "ename": "FileNotFoundError",
     "evalue": "[WinError 3] The system cannot find the path specified: 'test\\\\len'",
     "output_type": "error",
     "traceback": [
      "\u001b[1;31m---------------------------------------------------------------------------\u001b[0m",
      "\u001b[1;31mFileNotFoundError\u001b[0m                         Traceback (most recent call last)",
      "\u001b[1;32m<ipython-input-44-b02f4d7c8b4d>\u001b[0m in \u001b[0;36m<module>\u001b[1;34m\u001b[0m\n\u001b[0;32m      4\u001b[0m \u001b[1;32mfor\u001b[0m \u001b[0mcname\u001b[0m \u001b[1;32min\u001b[0m \u001b[0mtestClass_names\u001b[0m\u001b[1;33m:\u001b[0m\u001b[1;33m\u001b[0m\u001b[1;33m\u001b[0m\u001b[0m\n\u001b[0;32m      5\u001b[0m     \u001b[0mprint\u001b[0m\u001b[1;33m(\u001b[0m\u001b[1;34mf\"Load {cname} testDataSet\"\u001b[0m\u001b[1;33m)\u001b[0m\u001b[1;33m\u001b[0m\u001b[1;33m\u001b[0m\u001b[0m\n\u001b[1;32m----> 6\u001b[1;33m     \u001b[0mtestDataSet\u001b[0m\u001b[1;33m[\u001b[0m\u001b[0mcname\u001b[0m\u001b[1;33m]\u001b[0m \u001b[1;33m=\u001b[0m \u001b[0mget_class_data\u001b[0m\u001b[1;33m(\u001b[0m\u001b[0mos\u001b[0m\u001b[1;33m.\u001b[0m\u001b[0mpath\u001b[0m\u001b[1;33m.\u001b[0m\u001b[0mjoin\u001b[0m\u001b[1;33m(\u001b[0m\u001b[1;34m'test'\u001b[0m\u001b[1;33m,\u001b[0m \u001b[0mcname\u001b[0m\u001b[1;33m)\u001b[0m\u001b[1;33m)\u001b[0m\u001b[1;33m\u001b[0m\u001b[1;33m\u001b[0m\u001b[0m\n\u001b[0m\u001b[0;32m      7\u001b[0m     \u001b[0mn_testDataSet\u001b[0m\u001b[1;33m[\u001b[0m\u001b[0mcname\u001b[0m\u001b[1;33m]\u001b[0m \u001b[1;33m=\u001b[0m \u001b[0mlen\u001b[0m\u001b[1;33m(\u001b[0m\u001b[0mtestDataSet\u001b[0m\u001b[1;33m[\u001b[0m\u001b[0mcname\u001b[0m\u001b[1;33m]\u001b[0m\u001b[1;33m)\u001b[0m\u001b[1;33m\u001b[0m\u001b[1;33m\u001b[0m\u001b[0m\n\u001b[0;32m      8\u001b[0m \u001b[0mprint\u001b[0m\u001b[1;33m(\u001b[0m\u001b[0mlen\u001b[0m\u001b[1;33m(\u001b[0m\u001b[0mtestDataSet\u001b[0m\u001b[1;33m[\u001b[0m\u001b[1;34m'len'\u001b[0m\u001b[1;33m]\u001b[0m\u001b[1;33m)\u001b[0m\u001b[1;33m)\u001b[0m\u001b[1;33m\u001b[0m\u001b[1;33m\u001b[0m\u001b[0m\n",
      "\u001b[1;32m<ipython-input-35-df38daaabd5a>\u001b[0m in \u001b[0;36mget_class_data\u001b[1;34m(data_dir)\u001b[0m\n\u001b[0;32m      1\u001b[0m \u001b[1;31m# lấy mfcc của tất cả các file wav trong wav\u001b[0m\u001b[1;33m\u001b[0m\u001b[1;33m\u001b[0m\u001b[1;33m\u001b[0m\u001b[0m\n\u001b[0;32m      2\u001b[0m \u001b[1;32mdef\u001b[0m \u001b[0mget_class_data\u001b[0m\u001b[1;33m(\u001b[0m\u001b[0mdata_dir\u001b[0m\u001b[1;33m)\u001b[0m\u001b[1;33m:\u001b[0m\u001b[1;33m\u001b[0m\u001b[1;33m\u001b[0m\u001b[0m\n\u001b[1;32m----> 3\u001b[1;33m     \u001b[0mfiles\u001b[0m \u001b[1;33m=\u001b[0m \u001b[0mos\u001b[0m\u001b[1;33m.\u001b[0m\u001b[0mlistdir\u001b[0m\u001b[1;33m(\u001b[0m\u001b[0mdata_dir\u001b[0m\u001b[1;33m)\u001b[0m\u001b[1;33m\u001b[0m\u001b[1;33m\u001b[0m\u001b[0m\n\u001b[0m\u001b[0;32m      4\u001b[0m     \u001b[0mmfcc\u001b[0m \u001b[1;33m=\u001b[0m \u001b[1;33m[\u001b[0m\u001b[0mget_mfcc\u001b[0m\u001b[1;33m(\u001b[0m\u001b[0mos\u001b[0m\u001b[1;33m.\u001b[0m\u001b[0mpath\u001b[0m\u001b[1;33m.\u001b[0m\u001b[0mjoin\u001b[0m\u001b[1;33m(\u001b[0m\u001b[0mdata_dir\u001b[0m\u001b[1;33m,\u001b[0m\u001b[0mf\u001b[0m\u001b[1;33m)\u001b[0m\u001b[1;33m)\u001b[0m \u001b[1;32mfor\u001b[0m \u001b[0mf\u001b[0m \u001b[1;32min\u001b[0m \u001b[0mfiles\u001b[0m \u001b[1;32mif\u001b[0m \u001b[0mf\u001b[0m\u001b[1;33m.\u001b[0m\u001b[0mendswith\u001b[0m\u001b[1;33m(\u001b[0m\u001b[1;34m\".wav\"\u001b[0m\u001b[1;33m)\u001b[0m\u001b[1;33m]\u001b[0m\u001b[1;33m\u001b[0m\u001b[1;33m\u001b[0m\u001b[0m\n\u001b[0;32m      5\u001b[0m     \u001b[1;32mreturn\u001b[0m \u001b[0mmfcc\u001b[0m\u001b[1;33m\u001b[0m\u001b[1;33m\u001b[0m\u001b[0m\n",
      "\u001b[1;31mFileNotFoundError\u001b[0m: [WinError 3] The system cannot find the path specified: 'test\\\\len'"
     ]
    }
   ],
   "source": [
    "\"\"\"\n",
    "testClass_names = ['len', 'xuong', 'trai', 'phai']\n",
    "n_testDataSet = {'len': 0, 'xuong': 0, 'trai': 0, 'phai': 0}\n",
    "testDataSet = {}\n",
    "for cname in testClass_names:\n",
    "    print(f\"Load {cname} testDataSet\")\n",
    "    testDataSet[cname] = get_class_data(os.path.join('test', cname))\n",
    "    n_testDataSet[cname] = len(testDataSet[cname])\n",
    "print(len(testDataSet['len']))\n",
    "print(len(testDataSet['xuong']))\n",
    "print(len(testDataSet['trai']))\n",
    "print(len(testDataSet['phai']))\n",
    "print(n_testDataSet)\n",
    "\"\"\""
   ]
  },
  {
   "cell_type": "markdown",
   "metadata": {},
   "source": [
    "## split train test"
   ]
  },
  {
   "cell_type": "code",
   "execution_count": 49,
   "metadata": {},
   "outputs": [
    {
     "name": "stdout",
     "output_type": "stream",
     "text": [
      "80\n",
      "81\n",
      "81\n",
      "81\n"
     ]
    }
   ],
   "source": [
    "trainset = {}\n",
    "testset = {}\n",
    "n_test = {'len': 0, 'xuong': 0, 'trai': 0, 'phai': 0}\n",
    "for cname in class_names:\n",
    "    n = len(dataset[cname])\n",
    "    n_train = math.floor(n*0.8)\n",
    "    trainset[cname] = dataset[cname][:n_train]\n",
    "    testset[cname] = dataset[cname][n_train:]\n",
    "    n_test[cname] += len(testset[cname])\n",
    "    \n",
    "print(len(trainset['len']))\n",
    "print(len(trainset['xuong']))\n",
    "print(len(trainset['trai']))\n",
    "print(len(trainset['phai']))\n"
   ]
  },
  {
   "cell_type": "markdown",
   "metadata": {},
   "source": [
    "## Fit kmeans trên tập train"
   ]
  },
  {
   "cell_type": "code",
   "execution_count": 50,
   "metadata": {},
   "outputs": [
    {
     "name": "stdout",
     "output_type": "stream",
     "text": [
      "vectors (23819, 36)\n",
      "centers (14, 36)\n",
      "centers (14, 36)\n",
      "KMeans(n_clusters=14, n_init=50, random_state=0)\n"
     ]
    }
   ],
   "source": [
    "# Get all vectors in the datasets\n",
    "all_vectors = np.concatenate([np.concatenate(v, axis=0) for k, v in trainset.items()], axis=0)\n",
    "print(\"vectors\", all_vectors.shape)\n",
    "# Run K-Means algorithm to get clusters\n",
    "kmeans = clustering(all_vectors)\n",
    "print(\"centers\", kmeans.cluster_centers_.shape)\n",
    "print(kmeans)\n",
    "fileNameKmeans = 'kmeans.sav'\n",
    "pickle.dump(kmeans, open(fileNameKmeans, 'wb'))"
   ]
  },
  {
   "cell_type": "code",
   "execution_count": 51,
   "metadata": {},
   "outputs": [],
   "source": [
    "for cname in class_names:\n",
    "    trainset[cname] = list([kmeans.predict(v).reshape(-1, 1) for v in trainset[cname]])\n",
    "    testset[cname] = list([kmeans.predict(v).reshape(-1, 1) for v in testset[cname]])\n",
    "#for cname in testClass_names:\n",
    " #   testDataSet[cname] = list([kmeans.predict(v).reshape(-1, 1) for v in testDataSet[cname]])\n",
    "    \n",
    "    "
   ]
  },
  {
   "cell_type": "markdown",
   "metadata": {},
   "source": [
    "# Train"
   ]
  },
  {
   "cell_type": "code",
   "execution_count": 52,
   "metadata": {},
   "outputs": [],
   "source": [
    "models = {}"
   ]
  },
  {
   "cell_type": "markdown",
   "metadata": {},
   "source": [
    "## Models cho 'xuống' 4x3"
   ]
  },
  {
   "cell_type": "code",
   "execution_count": 53,
   "metadata": {},
   "outputs": [
    {
     "name": "stdout",
     "output_type": "stream",
     "text": [
      "training class xuong\n",
      "(5843, 1) [73, 80, 34, 71, 82, 65, 82, 90, 89, 75, 80, 78, 73, 84, 81, 80, 84, 67, 77, 113, 89, 76, 89, 78, 66, 48, 59, 60, 51, 58, 55, 50, 61, 47, 74, 53, 52, 71, 80, 84, 91, 98, 96, 96, 98, 89, 101, 68, 76, 108, 152, 84, 82, 96, 84, 96, 103, 89, 89, 62, 103, 42, 103, 96, 91, 36, 36, 35, 42, 39, 62, 46, 40, 39, 42, 42, 46, 54, 47, 46, 39] 81\n"
     ]
    },
    {
     "name": "stderr",
     "output_type": "stream",
     "text": [
      "         1      -14690.6885             +nan\n",
      "         2       -9373.8555       +5316.8330\n",
      "         3       -7927.1577       +1446.6978\n",
      "         4       -7463.5387        +463.6190\n",
      "         5       -7320.7134        +142.8253\n",
      "         6       -7142.8080        +177.9054\n",
      "         7       -7085.7954         +57.0126\n",
      "         8       -7065.3747         +20.4208\n",
      "         9       -7055.5934          +9.7813\n",
      "        10       -7037.7393         +17.8541\n",
      "        11       -7007.4731         +30.2662\n",
      "        12       -7003.7408          +3.7323\n",
      "        13       -7001.4272          +2.3136\n",
      "        14       -6999.5784          +1.8488\n",
      "        15       -6998.3665          +1.2119\n",
      "        16       -6997.5752          +0.7913\n",
      "        17       -6996.9676          +0.6076\n",
      "        18       -6996.4114          +0.5562\n",
      "        19       -6995.8268          +0.5846\n",
      "        20       -6995.1467          +0.6800\n",
      "        21       -6994.2846          +0.8621\n",
      "        22       -6993.0610          +1.2236\n",
      "        23       -6990.9575          +2.1035\n",
      "        24       -6986.7575          +4.1999\n",
      "        25       -6980.5556          +6.2020\n",
      "        26       -6976.7649          +3.7907\n",
      "        27       -6975.6418          +1.1231\n",
      "        28       -6975.2398          +0.4019\n",
      "        29       -6975.0118          +0.2280\n",
      "        30       -6974.8559          +0.1559\n",
      "        31       -6974.7444          +0.1115\n",
      "        32       -6974.6620          +0.0824\n",
      "        33       -6974.5975          +0.0645\n",
      "        34       -6974.5418          +0.0557\n",
      "        35       -6974.4859          +0.0559\n",
      "        36       -6974.4176          +0.0683\n",
      "        37       -6974.3147          +0.1029\n",
      "        38       -6974.1262          +0.1885\n",
      "        39       -6973.7248          +0.4014\n",
      "        40       -6972.8113          +0.9136\n",
      "        41       -6970.8003          +2.0110\n",
      "        42       -6966.8946          +3.9057\n",
      "        43       -6961.4833          +5.4113\n",
      "        44       -6955.8210          +5.6623\n",
      "        45       -6949.6880          +6.1330\n",
      "        46       -6942.4991          +7.1889\n",
      "        47       -6936.9053          +5.5938\n",
      "        48       -6935.1566          +1.7487\n",
      "        49       -6934.3434          +0.8133\n",
      "        50       -6933.7586          +0.5847\n",
      "        51       -6933.3044          +0.4542\n",
      "        52       -6932.9563          +0.3482\n",
      "        53       -6932.7012          +0.2551\n",
      "        54       -6932.5242          +0.1770\n",
      "        55       -6932.4074          +0.1168\n",
      "        56       -6932.3335          +0.0739\n",
      "        57       -6932.2881          +0.0454\n"
     ]
    },
    {
     "name": "stdout",
     "output_type": "stream",
     "text": [
      "Training done\n"
     ]
    },
    {
     "name": "stderr",
     "output_type": "stream",
     "text": [
      "        58       -6932.2607          +0.0273\n",
      "        59       -6932.2444          +0.0163\n",
      "        60       -6932.2346          +0.0098\n"
     ]
    }
   ],
   "source": [
    "hmm = hmmlearn.hmm.MultinomialHMM(n_components=4*3, random_state=0, n_iter=1000, verbose=True, init_params='e', params='ste')\n",
    "hmm.startprob_ = np.array([0.7, 0.2, 0.1, 0.0, 0.0, 0.0, 0.0, 0.0, 0.0, 0.0, 0.0, 0.0, ])\n",
    "hmm.transmat_ =np.array([\n",
    "    [0.7, 0.2, 0.1, 0.0, 0.0, 0.0, 0.0, 0.0, 0.0, 0.0, 0.0, 0.0, ],\n",
    "    [0.0, 0.7, 0.2, 0.1, 0.0, 0.0, 0.0, 0.0, 0.0, 0.0, 0.0, 0.0, ],\n",
    "    [0.0, 0.0, 0.7, 0.2, 0.1, 0.0, 0.0, 0.0, 0.0, 0.0, 0.0, 0.0, ],\n",
    "    [0.0, 0.0, 0.0, 0.7, 0.2, 0.1, 0.0, 0.0, 0.0, 0.0, 0.0, 0.0, ],\n",
    "    [0.0, 0.0, 0.0, 0.0, 0.7, 0.2, 0.1, 0.0, 0.0, 0.0, 0.0, 0.0, ],\n",
    "    [0.0, 0.0, 0.0, 0.0, 0.0, 0.7, 0.2, 0.1, 0.0, 0.0, 0.0, 0.0, ],\n",
    "    [0.0, 0.0, 0.0, 0.0, 0.0, 0.0, 0.7, 0.2, 0.1, 0.0, 0.0, 0.0, ],\n",
    "    [0.0, 0.0, 0.0, 0.0, 0.0, 0.0, 0.0, 0.7, 0.2, 0.1, 0.0, 0.0, ],\n",
    "    [0.0, 0.0, 0.0, 0.0, 0.0, 0.0, 0.0, 0.0, 0.7, 0.2, 0.1, 0.0, ],\n",
    "    [0.0, 0.0, 0.0, 0.0, 0.0, 0.0, 0.0, 0.0, 0.0, 0.7, 0.2, 0.1, ],\n",
    "    [0.0, 0.0, 0.0, 0.0, 0.0, 0.0, 0.0, 0.0, 0.0, 0.0, 0.7, 0.3, ],\n",
    "    [0.0, 0.0, 0.0, 0.0, 0.0, 0.0, 0.0, 0.0, 0.0, 0.0, 0.0, 1.0, ],])\n",
    "\n",
    "\n",
    "Xbn = np.concatenate(trainset['xuong'])\n",
    "lengths = list([len(x) for x in trainset['xuong']])\n",
    "print(\"training class\", 'xuong')\n",
    "print(Xbn.shape, lengths, len(lengths))\n",
    "hmm.fit(Xbn, lengths=lengths)\n",
    "models['xuong'] = hmm\n",
    "print(\"Training done\")"
   ]
  },
  {
   "cell_type": "markdown",
   "metadata": {},
   "source": [
    "## Models cho 'đã' 2x3"
   ]
  },
  {
   "cell_type": "code",
   "execution_count": 54,
   "metadata": {},
   "outputs": [
    {
     "data": {
      "text/plain": [
       "'\\nhmm = hmmlearn.hmm.MultinomialHMM(n_components=2*3, random_state=0, n_iter=1000, verbose=True, init_params=\\'e\\', params=\\'ste\\')\\nhmm.startprob_ = np.array([0.7, 0.2, 0.1, 0.0, 0.0, 0.0 ])\\nhmm.transmat_ =np.array([\\n    [0.7, 0.2, 0.1, 0.0, 0.0, 0.0],\\n    [0.0, 0.7, 0.2, 0.1, 0.0, 0.0],\\n    [0.0, 0.0, 0.7, 0.2, 0.1, 0.0],\\n    [0.0, 0.0, 0.0, 0.7, 0.2, 0.1],\\n    [0.0, 0.0, 0.0, 0.0, 0.7, 0.3],\\n    [0.0, 0.0, 0.0, 0.0, 0.0, 1.0],])\\n\\nXct = np.concatenate(trainset[\\'da\\'])\\nlengths = list([len(x) for x in trainset[\\'da\\']])\\nprint(\"training class\", \\'da\\')\\nprint(Xct.shape, lengths, len(lengths))\\nhmm.fit(Xct, lengths=lengths)\\nmodels[\\'da\\'] = hmm\\nprint(\"Training done\")'"
      ]
     },
     "execution_count": 54,
     "metadata": {},
     "output_type": "execute_result"
    }
   ],
   "source": [
    "\"\"\"\n",
    "hmm = hmmlearn.hmm.MultinomialHMM(n_components=2*3, random_state=0, n_iter=1000, verbose=True, init_params='e', params='ste')\n",
    "hmm.startprob_ = np.array([0.7, 0.2, 0.1, 0.0, 0.0, 0.0 ])\n",
    "hmm.transmat_ =np.array([\n",
    "    [0.7, 0.2, 0.1, 0.0, 0.0, 0.0],\n",
    "    [0.0, 0.7, 0.2, 0.1, 0.0, 0.0],\n",
    "    [0.0, 0.0, 0.7, 0.2, 0.1, 0.0],\n",
    "    [0.0, 0.0, 0.0, 0.7, 0.2, 0.1],\n",
    "    [0.0, 0.0, 0.0, 0.0, 0.7, 0.3],\n",
    "    [0.0, 0.0, 0.0, 0.0, 0.0, 1.0],])\n",
    "\n",
    "Xct = np.concatenate(trainset['da'])\n",
    "lengths = list([len(x) for x in trainset['da']])\n",
    "print(\"training class\", 'da')\n",
    "print(Xct.shape, lengths, len(lengths))\n",
    "hmm.fit(Xct, lengths=lengths)\n",
    "models['da'] = hmm\n",
    "print(\"Training done\")\"\"\""
   ]
  },
  {
   "cell_type": "markdown",
   "metadata": {},
   "source": [
    "## Models cho 'lên' 3x3"
   ]
  },
  {
   "cell_type": "code",
   "execution_count": 55,
   "metadata": {},
   "outputs": [
    {
     "name": "stdout",
     "output_type": "stream",
     "text": [
      "training class len\n",
      "(6185, 1) [55, 63, 27, 70, 61, 62, 75, 69, 58, 63, 62, 62, 58, 63, 62, 73, 56, 71, 59, 81, 107, 107, 73, 60, 81, 47, 44, 56, 46, 45, 58, 48, 45, 46, 69, 51, 43, 60, 55, 50, 53, 50, 133, 175, 129, 140, 131, 61, 133, 140, 147, 124, 147, 156, 161, 156, 182, 217, 65, 129, 145, 147, 173, 147, 23, 22, 24, 26, 33, 70, 25, 28, 27, 31, 28, 27, 31, 38, 39, 31] 80\n"
     ]
    },
    {
     "name": "stderr",
     "output_type": "stream",
     "text": [
      "         1      -16152.5363             +nan\n",
      "         2      -11233.1910       +4919.3453\n",
      "         3       -9305.0512       +1928.1398\n",
      "         4       -8743.4833        +561.5679\n",
      "         5       -8528.4070        +215.0764\n",
      "         6       -8391.9228        +136.4842\n",
      "         7       -8283.3544        +108.5683\n",
      "         8       -8156.8182        +126.5363\n",
      "         9       -7960.2899        +196.5282\n",
      "        10       -7910.7761         +49.5138\n",
      "        11       -7899.7031         +11.0730\n",
      "        12       -7892.7062          +6.9969\n",
      "        13       -7887.8117          +4.8945\n",
      "        14       -7884.6416          +3.1701\n",
      "        15       -7883.0061          +1.6355\n",
      "        16       -7882.3424          +0.6637\n",
      "        17       -7881.9882          +0.3542\n",
      "        18       -7881.7584          +0.2298\n",
      "        19       -7881.6035          +0.1549\n",
      "        20       -7881.4978          +0.1057\n",
      "        21       -7881.4222          +0.0756\n",
      "        22       -7881.3609          +0.0613\n",
      "        23       -7881.3012          +0.0596\n",
      "        24       -7881.2358          +0.0654\n",
      "        25       -7881.1675          +0.0683\n",
      "        26       -7881.1090          +0.0584\n",
      "        27       -7881.0686          +0.0404\n",
      "        28       -7881.0401          +0.0284\n",
      "        29       -7881.0091          +0.0311\n",
      "        30       -7880.9530          +0.0561\n",
      "        31       -7880.8288          +0.1242\n",
      "        32       -7880.5600          +0.2688\n",
      "        33       -7880.1054          +0.4546\n",
      "        34       -7879.6332          +0.4722\n",
      "        35       -7879.3381          +0.2951\n",
      "        36       -7879.1885          +0.1496\n",
      "        37       -7879.1113          +0.0772\n",
      "        38       -7879.0705          +0.0408\n",
      "        39       -7879.0483          +0.0223\n"
     ]
    },
    {
     "name": "stdout",
     "output_type": "stream",
     "text": [
      "Training done\n"
     ]
    },
    {
     "name": "stderr",
     "output_type": "stream",
     "text": [
      "        40       -7879.0351          +0.0132\n",
      "        41       -7879.0262          +0.0089\n"
     ]
    }
   ],
   "source": [
    "hmm = hmmlearn.hmm.MultinomialHMM(n_components=3*3, random_state=0, n_iter=1000, verbose=True, init_params='e', params='ste')\n",
    "hmm.startprob_ = np.array([0.7, 0.2, 0.1, 0.0, 0.0, 0.0, 0.0, 0.0, 0.0, ])\n",
    "hmm.transmat_ =np.array([\n",
    "    [0.7, 0.2, 0.1, 0.0, 0.0, 0.0, 0.0, 0.0, 0.0, ],\n",
    "    [0.0, 0.7, 0.2, 0.1, 0.0, 0.0, 0.0, 0.0, 0.0, ],\n",
    "    [0.0, 0.0, 0.7, 0.2, 0.1, 0.0, 0.0, 0.0, 0.0, ],\n",
    "    [0.0, 0.0, 0.0, 0.7, 0.2, 0.1, 0.0, 0.0, 0.0, ],\n",
    "    [0.0, 0.0, 0.0, 0.0, 0.7, 0.2, 0.1, 0.0, 0.0, ],\n",
    "    [0.0, 0.0, 0.0, 0.0, 0.0, 0.7, 0.2, 0.1, 0.0, ],\n",
    "    [0.0, 0.0, 0.0, 0.0, 0.0, 0.0, 0.7, 0.2, 0.1, ],\n",
    "    [0.0, 0.0, 0.0, 0.0, 0.0, 0.0, 0.0, 0.7, 0.3, ],\n",
    "    [0.0, 0.0, 0.0, 0.0, 0.0, 0.0, 0.0, 0.0, 1.0, ],])\n",
    "\n",
    "Xvn = np.concatenate(trainset['len'])\n",
    "lengths = list([len(x) for x in trainset['len']])\n",
    "print(\"training class\", 'len')\n",
    "print(Xvn.shape, lengths, len(lengths))\n",
    "hmm.fit(Xvn, lengths=lengths)\n",
    "models['len'] = hmm\n",
    "print(\"Training done\")"
   ]
  },
  {
   "cell_type": "markdown",
   "metadata": {},
   "source": [
    "## Models cho 'trái' 3x3"
   ]
  },
  {
   "cell_type": "code",
   "execution_count": 56,
   "metadata": {},
   "outputs": [
    {
     "name": "stderr",
     "output_type": "stream",
     "text": [
      "         1      -14682.8197             +nan\n"
     ]
    },
    {
     "name": "stdout",
     "output_type": "stream",
     "text": [
      "training class trai\n",
      "(5804, 1) [73, 76, 43, 74, 71, 77, 75, 69, 76, 70, 68, 77, 69, 80, 71, 71, 80, 80, 76, 71, 73, 68, 63, 71, 84, 47, 42, 64, 44, 47, 51, 44, 50, 43, 73, 47, 45, 68, 112, 103, 108, 101, 96, 101, 117, 108, 103, 101, 66, 96, 96, 103, 101, 96, 96, 110, 96, 103, 101, 75, 103, 117, 108, 103, 108, 38, 30, 36, 33, 36, 77, 33, 33, 41, 38, 33, 40, 36, 32, 33, 36] 81\n"
     ]
    },
    {
     "name": "stderr",
     "output_type": "stream",
     "text": [
      "         2      -10245.3486       +4437.4711\n",
      "         3       -8704.6575       +1540.6911\n",
      "         4       -8063.7431        +640.9144\n",
      "         5       -7431.1102        +632.6329\n",
      "         6       -7240.9108        +190.1994\n",
      "         7       -7185.9511         +54.9597\n",
      "         8       -7165.6644         +20.2867\n",
      "         9       -7144.0311         +21.6333\n",
      "        10       -7125.6708         +18.3603\n",
      "        11       -7115.0535         +10.6172\n",
      "        12       -7110.7885          +4.2651\n",
      "        13       -7109.5399          +1.2486\n",
      "        14       -7109.2493          +0.2906\n",
      "        15       -7109.1835          +0.0658\n",
      "        16       -7109.1621          +0.0214\n",
      "        17       -7109.1472          +0.0149\n",
      "        18       -7109.1273          +0.0198\n",
      "        19       -7109.0919          +0.0354\n",
      "        20       -7109.0201          +0.0718\n",
      "        21       -7108.8624          +0.1578\n",
      "        22       -7108.5062          +0.3562\n",
      "        23       -7107.6626          +0.8435\n",
      "        24       -7101.8233          +5.8393\n",
      "        25       -7097.6866          +4.1367\n",
      "        26       -7094.1766          +3.5100\n",
      "        27       -7088.9471          +5.2295\n",
      "        28       -7085.2690          +3.6781\n",
      "        29       -7083.1449          +2.1242\n",
      "        30       -7081.2201          +1.9248\n",
      "        31       -7079.9883          +1.2318\n",
      "        32       -7079.5640          +0.4242\n"
     ]
    },
    {
     "name": "stdout",
     "output_type": "stream",
     "text": [
      "Training done\n"
     ]
    },
    {
     "name": "stderr",
     "output_type": "stream",
     "text": [
      "        33       -7079.4555          +0.1086\n",
      "        34       -7079.4307          +0.0248\n",
      "        35       -7079.4253          +0.0054\n"
     ]
    }
   ],
   "source": [
    "hmm = hmmlearn.hmm.MultinomialHMM(n_components=3*3, random_state=0, n_iter=1000, verbose=True, init_params='e', params='ste')\n",
    "hmm.startprob_ = np.array([0.7, 0.2, 0.1, 0.0, 0.0, 0.0, 0.0, 0.0, 0.0, ])\n",
    "hmm.transmat_ =np.array([\n",
    "    [0.7, 0.2, 0.1, 0.0, 0.0, 0.0, 0.0, 0.0, 0.0, ],\n",
    "    [0.0, 0.7, 0.2, 0.1, 0.0, 0.0, 0.0, 0.0, 0.0, ],\n",
    "    [0.0, 0.0, 0.7, 0.2, 0.1, 0.0, 0.0, 0.0, 0.0, ],\n",
    "    [0.0, 0.0, 0.0, 0.7, 0.2, 0.1, 0.0, 0.0, 0.0, ],\n",
    "    [0.0, 0.0, 0.0, 0.0, 0.7, 0.2, 0.1, 0.0, 0.0, ],\n",
    "    [0.0, 0.0, 0.0, 0.0, 0.0, 0.7, 0.2, 0.1, 0.0, ],\n",
    "    [0.0, 0.0, 0.0, 0.0, 0.0, 0.0, 0.7, 0.2, 0.1, ],\n",
    "    [0.0, 0.0, 0.0, 0.0, 0.0, 0.0, 0.0, 0.7, 0.3, ],\n",
    "    [0.0, 0.0, 0.0, 0.0, 0.0, 0.0, 0.0, 0.0, 1.0, ],])\n",
    "\n",
    "Xvn = np.concatenate(trainset['trai'])\n",
    "lengths = list([len(x) for x in trainset['trai']])\n",
    "print(\"training class\", 'trai')\n",
    "print(Xvn.shape, lengths, len(lengths))\n",
    "hmm.fit(Xvn, lengths=lengths)\n",
    "models['trai'] = hmm\n",
    "print(\"Training done\")"
   ]
  },
  {
   "cell_type": "markdown",
   "metadata": {},
   "source": [
    "## Models cho 'phải' 4x3"
   ]
  },
  {
   "cell_type": "code",
   "execution_count": 57,
   "metadata": {},
   "outputs": [
    {
     "name": "stdout",
     "output_type": "stream",
     "text": [
      "training class phai\n",
      "(5987, 1) [73, 78, 44, 78, 77, 77, 83, 77, 85, 78, 102, 88, 81, 89, 73, 75, 81, 89, 66, 79, 81, 97, 73, 71, 97, 53, 39, 65, 47, 44, 44, 46, 53, 39, 71, 38, 30, 74, 103, 89, 96, 108, 119, 112, 101, 103, 108, 101, 73, 103, 112, 96, 91, 108, 103, 108, 108, 101, 103, 71, 103, 108, 103, 103, 112, 37, 34, 37, 37, 35, 71, 35, 30, 35, 34, 35, 35, 42, 35, 39, 35] 81\n"
     ]
    },
    {
     "name": "stderr",
     "output_type": "stream",
     "text": [
      "         1      -15210.8189             +nan\n",
      "         2      -11044.7449       +4166.0740\n",
      "         3       -9451.3646       +1593.3802\n",
      "         4       -9193.3172        +258.0475\n",
      "         5       -9129.7116         +63.6056\n",
      "         6       -9080.9648         +48.7468\n",
      "         7       -9015.9358         +65.0290\n",
      "         8       -8867.5483        +148.3875\n",
      "         9       -8799.7129         +67.8354\n",
      "        10       -8790.0517          +9.6612\n",
      "        11       -8786.3037          +3.7480\n",
      "        12       -8781.1020          +5.2017\n",
      "        13       -8772.8043          +8.2977\n",
      "        14       -8768.0218          +4.7826\n",
      "        15       -8761.3090          +6.7128\n",
      "        16       -8752.7842          +8.5248\n",
      "        17       -8743.7396          +9.0445\n",
      "        18       -8731.3986         +12.3411\n",
      "        19       -8710.7355         +20.6630\n",
      "        20       -8681.1983         +29.5372\n",
      "        21       -8665.9977         +15.2006\n",
      "        22       -8642.7880         +23.2097\n",
      "        23       -8611.9054         +30.8826\n",
      "        24       -8590.1523         +21.7531\n",
      "        25       -8582.6678          +7.4845\n",
      "        26       -8580.3288          +2.3390\n",
      "        27       -8578.9613          +1.3675\n",
      "        28       -8578.2708          +0.6905\n",
      "        29       -8577.9205          +0.3504\n",
      "        30       -8577.5654          +0.3551\n",
      "        31       -8577.1485          +0.4169\n",
      "        32       -8576.8595          +0.2890\n",
      "        33       -8576.7189          +0.1406\n",
      "        34       -8576.6144          +0.1045\n",
      "        35       -8576.4457          +0.1687\n",
      "        36       -8575.9062          +0.5395\n",
      "        37       -8573.7503          +2.1559\n",
      "        38       -8569.4706          +4.2797\n",
      "        39       -8567.4753          +1.9953\n",
      "        40       -8566.9780          +0.4973\n",
      "        41       -8566.3431          +0.6349\n",
      "        42       -8565.5931          +0.7500\n",
      "        43       -8565.2483          +0.3448\n",
      "        44       -8565.1530          +0.0953\n"
     ]
    },
    {
     "name": "stdout",
     "output_type": "stream",
     "text": [
      "Training done\n"
     ]
    },
    {
     "name": "stderr",
     "output_type": "stream",
     "text": [
      "        45       -8565.1266          +0.0264\n",
      "        46       -8565.1184          +0.0082\n"
     ]
    }
   ],
   "source": [
    "hmm = hmmlearn.hmm.MultinomialHMM(n_components=3*3, random_state=0, n_iter=1000, verbose=True, init_params='e', params='ste')\n",
    "hmm.startprob_ = np.array([0.7, 0.2, 0.1, 0.0, 0.0, 0.0, 0.0, 0.0, 0.0, ])\n",
    "hmm.transmat_ =np.array([\n",
    "    [0.7, 0.2, 0.1, 0.0, 0.0, 0.0, 0.0, 0.0, 0.0, ],\n",
    "    [0.0, 0.7, 0.2, 0.1, 0.0, 0.0, 0.0, 0.0, 0.0, ],\n",
    "    [0.0, 0.0, 0.7, 0.2, 0.1, 0.0, 0.0, 0.0, 0.0, ],\n",
    "    [0.0, 0.0, 0.0, 0.7, 0.2, 0.1, 0.0, 0.0, 0.0, ],\n",
    "    [0.0, 0.0, 0.0, 0.0, 0.7, 0.2, 0.1, 0.0, 0.0, ],\n",
    "    [0.0, 0.0, 0.0, 0.0, 0.0, 0.7, 0.2, 0.1, 0.0, ],\n",
    "    [0.0, 0.0, 0.0, 0.0, 0.0, 0.0, 0.7, 0.2, 0.1, ],\n",
    "    [0.0, 0.0, 0.0, 0.0, 0.0, 0.0, 0.0, 0.7, 0.3, ],\n",
    "    [0.0, 0.0, 0.0, 0.0, 0.0, 0.0, 0.0, 0.0, 1.0, ],])\n",
    "\n",
    "Xvn = np.concatenate(trainset['phai'])\n",
    "lengths = list([len(x) for x in trainset['phai']])\n",
    "print(\"training class\", 'phai')\n",
    "print(Xvn.shape, lengths, len(lengths))\n",
    "hmm.fit(Xvn, lengths=lengths)\n",
    "models['phai'] = hmm\n",
    "print(\"Training done\")"
   ]
  },
  {
   "cell_type": "markdown",
   "metadata": {},
   "source": [
    "## Models cho 'trong' 3x3"
   ]
  },
  {
   "cell_type": "code",
   "execution_count": 58,
   "metadata": {},
   "outputs": [
    {
     "data": {
      "text/plain": [
       "'\\nhmm = hmmlearn.hmm.MultinomialHMM(n_components=3*3, random_state=0, n_iter=1000, verbose=True, init_params=\\'e\\', params=\\'ste\\')\\nhmm.startprob_ = np.array([0.7, 0.2, 0.1, 0.0, 0.0, 0.0, 0.0, 0.0, 0.0, ])\\nhmm.transmat_ =np.array([\\n    [0.7, 0.2, 0.1, 0.0, 0.0, 0.0, 0.0, 0.0, 0.0, ],\\n    [0.0, 0.7, 0.2, 0.1, 0.0, 0.0, 0.0, 0.0, 0.0, ],\\n    [0.0, 0.0, 0.7, 0.2, 0.1, 0.0, 0.0, 0.0, 0.0, ],\\n    [0.0, 0.0, 0.0, 0.7, 0.2, 0.1, 0.0, 0.0, 0.0, ],\\n    [0.0, 0.0, 0.0, 0.0, 0.7, 0.2, 0.1, 0.0, 0.0, ],\\n    [0.0, 0.0, 0.0, 0.0, 0.0, 0.7, 0.2, 0.1, 0.0, ],\\n    [0.0, 0.0, 0.0, 0.0, 0.0, 0.0, 0.7, 0.2, 0.1, ],\\n    [0.0, 0.0, 0.0, 0.0, 0.0, 0.0, 0.0, 0.7, 0.3, ],\\n    [0.0, 0.0, 0.0, 0.0, 0.0, 0.0, 0.0, 0.0, 1.0, ],])\\n\\nXvn = np.concatenate(trainset[\\'trong\\'])\\nlengths = list([len(x) for x in trainset[\\'trong\\']])\\nprint(\"training class\", \\'trong\\')\\nprint(Xvn.shape, lengths, len(lengths))\\nhmm.fit(Xvn, lengths=lengths)\\nmodels[\\'trong\\'] = hmm\\nprint(\"Training done\")\\n'"
      ]
     },
     "execution_count": 58,
     "metadata": {},
     "output_type": "execute_result"
    }
   ],
   "source": [
    "\"\"\"\n",
    "hmm = hmmlearn.hmm.MultinomialHMM(n_components=3*3, random_state=0, n_iter=1000, verbose=True, init_params='e', params='ste')\n",
    "hmm.startprob_ = np.array([0.7, 0.2, 0.1, 0.0, 0.0, 0.0, 0.0, 0.0, 0.0, ])\n",
    "hmm.transmat_ =np.array([\n",
    "    [0.7, 0.2, 0.1, 0.0, 0.0, 0.0, 0.0, 0.0, 0.0, ],\n",
    "    [0.0, 0.7, 0.2, 0.1, 0.0, 0.0, 0.0, 0.0, 0.0, ],\n",
    "    [0.0, 0.0, 0.7, 0.2, 0.1, 0.0, 0.0, 0.0, 0.0, ],\n",
    "    [0.0, 0.0, 0.0, 0.7, 0.2, 0.1, 0.0, 0.0, 0.0, ],\n",
    "    [0.0, 0.0, 0.0, 0.0, 0.7, 0.2, 0.1, 0.0, 0.0, ],\n",
    "    [0.0, 0.0, 0.0, 0.0, 0.0, 0.7, 0.2, 0.1, 0.0, ],\n",
    "    [0.0, 0.0, 0.0, 0.0, 0.0, 0.0, 0.7, 0.2, 0.1, ],\n",
    "    [0.0, 0.0, 0.0, 0.0, 0.0, 0.0, 0.0, 0.7, 0.3, ],\n",
    "    [0.0, 0.0, 0.0, 0.0, 0.0, 0.0, 0.0, 0.0, 1.0, ],])\n",
    "\n",
    "Xvn = np.concatenate(trainset['trong'])\n",
    "lengths = list([len(x) for x in trainset['trong']])\n",
    "print(\"training class\", 'trong')\n",
    "print(Xvn.shape, lengths, len(lengths))\n",
    "hmm.fit(Xvn, lengths=lengths)\n",
    "models['trong'] = hmm\n",
    "print(\"Training done\")\n",
    "\"\"\""
   ]
  },
  {
   "cell_type": "code",
   "execution_count": 59,
   "metadata": {},
   "outputs": [],
   "source": [
    "fileName = 'finalModel.sav'\n",
    "pickle.dump(models, open(fileName, 'wb'))"
   ]
  },
  {
   "cell_type": "markdown",
   "metadata": {},
   "source": [
    "# Test"
   ]
  },
  {
   "cell_type": "code",
   "execution_count": 60,
   "metadata": {},
   "outputs": [
    {
     "name": "stdout",
     "output_type": "stream",
     "text": [
      "Testing\n",
      "len {'xuong': -95.55740760673186, 'len': -63.16441434228789, 'trai': -105.92515600393335, 'phai': -85.58805907082504} predict: len\n",
      "len {'xuong': -58.33229648440963, 'len': -54.69569274079389, 'trai': -42.70947649028012, 'phai': -45.05165169679732} predict: trai\n",
      "len {'xuong': -62.21143166278853, 'len': -53.598039213859565, 'trai': -47.5804933175083, 'phai': -48.202711161621636} predict: trai\n",
      "len {'xuong': -67.16802635122575, 'len': -50.12140452333445, 'trai': -71.59969541926826, 'phai': -60.34240370743968} predict: len\n",
      "len {'xuong': -52.837010458566354, 'len': -41.89652948567186, 'trai': -46.77743367338162, 'phai': -43.78712491534302} predict: len\n",
      "len {'xuong': -52.829338725348634, 'len': -43.99436197176178, 'trai': -53.70396881143902, 'phai': -46.46415170690586} predict: len\n",
      "len {'xuong': -51.62109206554469, 'len': -44.249365397247416, 'trai': -49.24862276225051, 'phai': -42.24021182648359} predict: phai\n",
      "len {'xuong': -47.95142988364638, 'len': -38.40275676520942, 'trai': -46.29005774723904, 'phai': -39.557369277034844} predict: len\n",
      "len {'xuong': -55.69386589283355, 'len': -45.297667117169794, 'trai': -49.36994176733835, 'phai': -42.88139550753395} predict: phai\n",
      "len {'xuong': -52.49349583330404, 'len': -45.262672791830276, 'trai': -48.52287749909632, 'phai': -41.04168180316682} predict: phai\n",
      "len {'xuong': -54.990284736264044, 'len': -52.447124553064405, 'trai': -57.72838242152571, 'phai': -48.37328712008451} predict: phai\n",
      "len {'xuong': -61.12760561772179, 'len': -51.02760003489997, 'trai': -62.37743284410952, 'phai': -57.70779750704628} predict: len\n",
      "len {'xuong': -46.94873670589636, 'len': -51.67068152397446, 'trai': -49.44907481091876, 'phai': -49.71063211268301} predict: xuong\n",
      "len {'xuong': -60.406106638841585, 'len': -51.203830759302356, 'trai': -53.187638233651086, 'phai': -52.57849711329045} predict: len\n",
      "len {'xuong': -47.781496078638305, 'len': -38.59306701960881, 'trai': -44.43595793195152, 'phai': -43.51062935837667} predict: len\n",
      "len {'xuong': -55.24637103943185, 'len': -43.250197860378165, 'trai': -50.96620754967039, 'phai': -48.58025405044864} predict: len\n",
      "len {'xuong': -45.935316250621796, 'len': -36.34779616278898, 'trai': -37.643559119270904, 'phai': -36.94136538789105} predict: len\n",
      "len {'xuong': -44.15403369672464, 'len': -35.41096878824408, 'trai': -39.78956113990851, 'phai': -38.20846900138228} predict: len\n",
      "len {'xuong': -55.072845994202055, 'len': -44.057375451807715, 'trai': -52.2684028162304, 'phai': -48.8315985422986} predict: len\n",
      "len {'xuong': -54.199085374101095, 'len': -43.80361502583437, 'trai': -55.720481124071235, 'phai': -50.28877893908624} predict: len\n",
      "len {'xuong': -54.46417125854514, 'len': -41.60108442597687, 'trai': -44.79803499352526, 'phai': -46.66347741283781} predict: len\n",
      "xuong {'xuong': -90.55149242533737, 'len': -102.98289263601896, 'trai': -152.56450130520884, 'phai': -113.4897782610378} predict: xuong\n",
      "xuong {'xuong': -42.269636955828275, 'len': -95.54480038159679, 'trai': -106.89307440294397, 'phai': -72.19889685660637} predict: xuong\n",
      "xuong {'xuong': -58.72597935539413, 'len': -77.55884562691178, 'trai': -83.2050939070695, 'phai': -66.97900807034506} predict: xuong\n",
      "xuong {'xuong': -52.88134529217301, 'len': -93.20833746114387, 'trai': -103.2165092994422, 'phai': -70.93334469784813} predict: xuong\n",
      "xuong {'xuong': -47.3654158847676, 'len': -94.58584107764575, 'trai': -92.69342744530915, 'phai': -66.85500035220933} predict: xuong\n",
      "xuong {'xuong': -46.803440521294654, 'len': -90.88228436410071, 'trai': -96.60116348088353, 'phai': -67.33153702166553} predict: xuong\n",
      "xuong {'xuong': -46.59772924153213, 'len': -92.38784171122755, 'trai': -94.7368188681059, 'phai': -67.90476268845663} predict: xuong\n",
      "xuong {'xuong': -47.99276583615727, 'len': -91.53302354099718, 'trai': -81.09584367315412, 'phai': -61.4636799590786} predict: xuong\n",
      "xuong {'xuong': -40.85299651726938, 'len': -91.17083874174145, 'trai': -85.92459654088668, 'phai': -63.22448856608443} predict: xuong\n",
      "xuong {'xuong': -52.75949676289395, 'len': -88.90863622050055, 'trai': -104.11397287106999, 'phai': -69.19304653471377} predict: xuong\n",
      "xuong {'xuong': -42.94172867298112, 'len': -82.93933148122214, 'trai': -82.56776369168264, 'phai': -59.33840495307724} predict: xuong\n",
      "xuong {'xuong': -57.688610323921495, 'len': -44.03291111073632, 'trai': -42.768049196401506, 'phai': -43.86749138209405} predict: trai\n",
      "xuong {'xuong': -48.92735245002847, 'len': -37.87566918236951, 'trai': -32.92935855236811, 'phai': -37.15866150247125} predict: trai\n",
      "xuong {'xuong': -55.06663998133891, 'len': -41.709973337265936, 'trai': -41.21076668515195, 'phai': -41.650232888137936} predict: trai\n",
      "xuong {'xuong': -58.03097916353158, 'len': -67.47782300238202, 'trai': -47.75063987009106, 'phai': -56.09040813648584} predict: trai\n",
      "xuong {'xuong': -44.566527450749895, 'len': -45.93443424180089, 'trai': -39.92292494925154, 'phai': -42.56767569980182} predict: trai\n",
      "xuong {'xuong': -40.548481893485, 'len': -34.22053859277606, 'trai': -34.74546602491386, 'phai': -34.77790957598352} predict: len\n",
      "xuong {'xuong': -48.12587250317992, 'len': -37.621602978785354, 'trai': -35.956765280428264, 'phai': -36.701008401801055} predict: trai\n",
      "xuong {'xuong': -47.291641202637095, 'len': -35.47298896490535, 'trai': -32.52191017859579, 'phai': -33.986303988126146} predict: trai\n",
      "xuong {'xuong': -55.02404883921573, 'len': -44.07600263412097, 'trai': -44.03068124907715, 'phai': -38.3554846424178} predict: phai\n",
      "xuong {'xuong': -54.84497731709706, 'len': -42.40976752155996, 'trai': -35.820091627164764, 'phai': -38.19891112563572} predict: trai\n",
      "trai {'xuong': -148.19015172167212, 'len': -131.9468118360371, 'trai': -71.00880757917966, 'phai': -87.07977028537464} predict: trai\n",
      "trai {'xuong': -94.88546371552383, 'len': -94.93704052059563, 'trai': -46.761967731398336, 'phai': -59.0586944518095} predict: trai\n",
      "trai {'xuong': -74.6977932249243, 'len': -78.59429330553928, 'trai': -36.31746249823957, 'phai': -46.83811319902658} predict: trai\n",
      "trai {'xuong': -81.07761404726135, 'len': -86.57738863726838, 'trai': -71.42185645713668, 'phai': -58.052503106660886} predict: phai\n",
      "trai {'xuong': -80.48191525721806, 'len': -86.61297090750246, 'trai': -40.24255066552941, 'phai': -51.37402586579983} predict: trai\n",
      "trai {'xuong': -77.53639014844558, 'len': -82.41205764563831, 'trai': -45.997638747032354, 'phai': -57.63434968838258} predict: trai\n",
      "trai {'xuong': -75.06540450345054, 'len': -71.38191488473527, 'trai': -51.85468755225975, 'phai': -52.54368007446734} predict: trai\n",
      "trai {'xuong': -155.72196230079055, 'len': -99.8215852453945, 'trai': -71.04449524821116, 'phai': -70.87536652615923} predict: phai\n",
      "trai {'xuong': -70.9635928252956, 'len': -83.71262304441238, 'trai': -58.87705985980977, 'phai': -51.64616816260293} predict: phai\n",
      "trai {'xuong': -78.65060397970302, 'len': -80.34950319415606, 'trai': -38.36047157068541, 'phai': -50.71958672393164} predict: trai\n",
      "trai {'xuong': -81.91891773087174, 'len': -88.56368836529096, 'trai': -40.45553844456825, 'phai': -50.9642998985967} predict: trai\n",
      "trai {'xuong': -51.21460787632084, 'len': -40.54657957481379, 'trai': -37.58146645850231, 'phai': -39.48551222617299} predict: trai\n",
      "trai {'xuong': -61.73783109849777, 'len': -48.68238338500859, 'trai': -38.54183091854129, 'phai': -44.395188387782305} predict: trai\n",
      "trai {'xuong': -69.7623746065808, 'len': -54.501370788113334, 'trai': -46.54555193856109, 'phai': -51.298301147226354} predict: trai\n",
      "trai {'xuong': -60.7538637310214, 'len': -45.380026231423386, 'trai': -40.27615591469738, 'phai': -45.58700673178525} predict: trai\n",
      "trai {'xuong': -97.22161126304441, 'len': -64.35320582100192, 'trai': -50.593341673289416, 'phai': -54.29366926209315} predict: trai\n",
      "trai {'xuong': -61.985255187943785, 'len': -49.02533066060076, 'trai': -39.7957180758573, 'phai': -43.85621196558302} predict: trai\n",
      "trai {'xuong': -61.377002741076154, 'len': -44.821251101946714, 'trai': -40.45014637190248, 'phai': -46.11376260359125} predict: trai\n",
      "trai {'xuong': -67.83082551799706, 'len': -55.934959638402404, 'trai': -53.4030229489849, 'phai': -50.68022644350851} predict: phai\n",
      "trai {'xuong': -48.33221081516551, 'len': -38.48392553989467, 'trai': -34.42359576317377, 'phai': -37.91400075037626} predict: trai\n",
      "trai {'xuong': -58.623686408566684, 'len': -44.20591783860405, 'trai': -37.371180074968926, 'phai': -45.83027751059551} predict: trai\n",
      "phai {'xuong': -197.66680396450013, 'len': -164.11376868263068, 'trai': -110.88465515672725, 'phai': -111.88652677666735} predict: trai\n",
      "phai {'xuong': -84.30552111138597, 'len': -87.08384280908419, 'trai': -51.35650594119584, 'phai': -60.06387272070507} predict: trai\n",
      "phai {'xuong': -75.97696616165075, 'len': -74.24464639812155, 'trai': -41.511374993169625, 'phai': -48.69534921970187} predict: trai\n",
      "phai {'xuong': -62.11720006475256, 'len': -54.91616494950944, 'trai': -38.66189794358064, 'phai': -42.01180881562196} predict: trai\n",
      "phai {'xuong': -90.56023799728843, 'len': -83.99548762690155, 'trai': -42.63860877998033, 'phai': -53.04015693366327} predict: trai\n",
      "phai {'xuong': -89.4520790264958, 'len': -89.2200921083672, 'trai': -38.55691996190763, 'phai': -52.30269709356117} predict: trai\n",
      "phai {'xuong': -88.99653474306403, 'len': -96.70670942700058, 'trai': -48.6025688163193, 'phai': -58.08044347278764} predict: trai\n",
      "phai {'xuong': -69.52429174362338, 'len': -70.067404043312, 'trai': -39.59257303635553, 'phai': -47.04993696167663} predict: trai\n",
      "phai {'xuong': -88.61629208228325, 'len': -79.37518639865036, 'trai': -44.34533443615548, 'phai': -54.443450676938326} predict: trai\n",
      "phai {'xuong': -62.430748398326884, 'len': -106.11673719497254, 'trai': -69.47626359278202, 'phai': -61.16198935757825} predict: phai\n",
      "phai {'xuong': -58.30059773164033, 'len': -65.9133910569785, 'trai': -35.84271418407589, 'phai': -48.228588329699065} predict: trai\n",
      "phai {'xuong': -36.19557729987667, 'len': -29.784189907439107, 'trai': -34.77148319791915, 'phai': -33.38720857218681} predict: len\n",
      "phai {'xuong': -39.586191130681996, 'len': -32.839786387241084, 'trai': -32.273279204252034, 'phai': -32.2873163439506} predict: trai\n",
      "phai {'xuong': -35.10158243389557, 'len': -29.645717076215938, 'trai': -34.4779003391354, 'phai': -31.40687842937673} predict: len\n",
      "phai {'xuong': -58.51377880080706, 'len': -46.815525798340914, 'trai': -39.53500125909943, 'phai': -43.8849658424167} predict: trai\n",
      "phai {'xuong': -26.463210571530585, 'len': -24.601792524996558, 'trai': -32.50410505620523, 'phai': -28.556869410343378} predict: len\n",
      "phai {'xuong': -59.22684382871426, 'len': -44.28585361123399, 'trai': -40.95146773884209, 'phai': -46.25920437530166} predict: trai\n",
      "phai {'xuong': -58.316033874681295, 'len': -42.321913855965676, 'trai': -39.3385167353033, 'phai': -43.53682417741126} predict: trai\n",
      "phai {'xuong': -40.13160894450944, 'len': -31.401607767037206, 'trai': -33.65821052352415, 'phai': -35.02392929739865} predict: len\n",
      "phai {'xuong': -33.520782408227454, 'len': -27.883312700419715, 'trai': -30.937579859348237, 'phai': -29.31519861970714} predict: len\n",
      "phai {'xuong': -35.26713039652344, 'len': -27.962914078048545, 'trai': -28.83771535666488, 'phai': -29.537587944025734} predict: len\n"
     ]
    }
   ],
   "source": [
    "print(\"Testing\")\n",
    "n_correct = {'len': 0, 'xuong': 0, 'trai': 0, 'phai': 0}\n",
    "y_true = []\n",
    "y_predict = []\n",
    "labels = ['len', 'xuong', 'trai', 'phai']\n",
    "for true_cname in class_names:\n",
    "    for O in testset[true_cname]:\n",
    "        score = {cname: model.score(O, [len(O)]) for cname, model in models.items()}\n",
    "        if (true_cname == max(score, key=score.get)): n_correct[true_cname] += 1\n",
    "        y_true.append(true_cname)\n",
    "        y_predict.append(max(score, key = score.get))\n",
    "        print(true_cname, score, 'predict:', max(score, key=score.get))"
   ]
  },
  {
   "cell_type": "code",
   "execution_count": 61,
   "metadata": {},
   "outputs": [
    {
     "name": "stdout",
     "output_type": "stream",
     "text": [
      "Accuracy: len 0.6666666666666666\n",
      "Accuracy: xuong 0.5238095238095238\n",
      "Accuracy: trai 0.8095238095238095\n",
      "Accuracy: phai 0.047619047619047616\n"
     ]
    }
   ],
   "source": [
    "for cname in class_names:\n",
    "    print('Accuracy:', cname, n_correct[cname]/n_test[cname])"
   ]
  },
  {
   "cell_type": "code",
   "execution_count": 62,
   "metadata": {},
   "outputs": [
    {
     "name": "stdout",
     "output_type": "stream",
     "text": [
      "All Accuracy: 0.5119047619047619\n"
     ]
    }
   ],
   "source": [
    "print('All Accuracy:', sum(n_correct.values())/sum(n_test.values()))"
   ]
  },
  {
   "cell_type": "code",
   "execution_count": 63,
   "metadata": {},
   "outputs": [
    {
     "name": "stderr",
     "output_type": "stream",
     "text": [
      "C:\\Users\\Admin\\miniconda3\\envs\\voice\\lib\\site-packages\\sklearn\\utils\\validation.py:68: FutureWarning: Pass labels=['len', 'xuong', 'trai', 'phai'] as keyword args. From version 0.25 passing these as positional arguments will result in an error\n",
      "  warnings.warn(\"Pass {} as keyword args. From version 0.25 \"\n"
     ]
    },
    {
     "data": {
      "image/png": "[encoded data removed]",
      "text/plain": [
       "<Figure size 432x288 with 2 Axes>"
      ]
     },
     "metadata": {
      "needs_background": "light"
     },
     "output_type": "display_data"
    }
   ],
   "source": [
    "plotCM(y_true, y_predict, labels)"
   ]
  },
  {
   "cell_type": "code",
   "execution_count": 64,
   "metadata": {},
   "outputs": [
    {
     "name": "stdout",
     "output_type": "stream",
     "text": [
      "{'len': 21, 'xuong': 21, 'trai': 21, 'phai': 21}\n"
     ]
    }
   ],
   "source": [
    "print(n_test)"
   ]
  },
  {
   "cell_type": "markdown",
   "metadata": {},
   "source": [
    "## Test âm thu từ micro"
   ]
  },
  {
   "cell_type": "code",
   "execution_count": null,
   "metadata": {},
   "outputs": [],
   "source": [
    "print(\"Testing testDataSet\")\n",
    "n_correct = {'len': 0, 'xuong': 0, 'trai': 0, 'phai': 0}\n",
    "y_testTrue = []\n",
    "y_testPredict = []\n",
    "labels = ['trai', 'len', 'xuong', 'phai']\n",
    "for true_cname in testClass_names:\n",
    "    for O in testDataSet[true_cname]:\n",
    "        score = {cname: model.score(O, [len(O)]) for cname, model in models.items()}\n",
    "        if (true_cname == max(score, key=score.get)): n_correct[true_cname] += 1\n",
    "        y_testTrue.append(true_cname)\n",
    "        y_testPredict.append(max(score, key = score.get))\n",
    "        print(true_cname, score, 'predict:', max(score, key=score.get))"
   ]
  },
  {
   "cell_type": "code",
   "execution_count": null,
   "metadata": {},
   "outputs": [],
   "source": [
    "#np.around(models['trong'].transmat_, 2)"
   ]
  },
  {
   "cell_type": "code",
   "execution_count": null,
   "metadata": {},
   "outputs": [],
   "source": [
    "for cname in testClass_names:\n",
    "    print('Accuracy:', cname, n_correct[cname]/n_testDataSet[cname])\n",
    "print('All Accuracy:', sum(n_correct.values())/sum(n_testDataSet.values()))"
   ]
  },
  {
   "cell_type": "code",
   "execution_count": null,
   "metadata": {},
   "outputs": [],
   "source": [
    "plotCM(y_testTrue, y_testPredict, labels)"
   ]
  },
  {
   "cell_type": "code",
   "execution_count": null,
   "metadata": {},
   "outputs": [],
   "source": []
  }
 ],
 "metadata": {
  "kernelspec": {
   "display_name": "Python 3",
   "language": "python",
   "name": "python3"
  },
  "language_info": {
   "codemirror_mode": {
    "name": "ipython",
    "version": 3
   },
   "file_extension": ".py",
   "mimetype": "text/x-python",
   "name": "python",
   "nbconvert_exporter": "python",
   "pygments_lexer": "ipython3",
   "version": "3.8.3"
  }
 },
 "nbformat": 4,
 "nbformat_minor": 4
}
