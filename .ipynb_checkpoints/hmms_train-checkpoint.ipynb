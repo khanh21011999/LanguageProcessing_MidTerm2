{
 "cells": [
  {
   "cell_type": "code",
   "execution_count": 1,
   "metadata": {},
   "outputs": [],
   "source": [
    "import librosa\n",
    "import numpy as np\n",
    "import os\n",
    "import math\n",
    "from sklearn.cluster import KMeans\n",
    "import hmmlearn.hmm\n",
    "from sklearn.metrics import confusion_matrix\n",
    "import matplotlib.pyplot as plt\n",
    "import pickle"
   ]
  },
  {
   "cell_type": "markdown",
   "metadata": {},
   "source": [
    "## Get MFCC function"
   ]
  },
  {
   "cell_type": "code",
   "execution_count": 2,
   "metadata": {},
   "outputs": [],
   "source": [
    "# read file\n",
    "def get_mfcc(file_path):\n",
    "    y, sr = librosa.load(file_path) # read .wav file\n",
    "    hop_length = math.floor(sr*0.010) # 10ms hop\n",
    "    win_length = math.floor(sr*0.025) # 25ms frame\n",
    "    # mfcc is 12 x T matrix\n",
    "    mfcc = librosa.feature.mfcc(\n",
    "        y, sr, n_mfcc=12, n_fft=1024,\n",
    "        hop_length=hop_length, win_length=win_length)\n",
    "    # substract mean from mfcc --> normalize mfcc\n",
    "    mfcc = mfcc - np.mean(mfcc, axis=1).reshape((-1,1)) \n",
    "    # delta feature 1st order and 2nd order\n",
    "    delta1 = librosa.feature.delta(mfcc, order=1)\n",
    "    delta2 = librosa.feature.delta(mfcc, order=2)\n",
    "    # X is 36 x T\n",
    "    X = np.concatenate([mfcc, delta1, delta2], axis=0) # O^r\n",
    "    # return T x 36 (transpose of X)\n",
    "    return X.T # hmmlearn use T x N matrix"
   ]
  },
  {
   "cell_type": "markdown",
   "metadata": {},
   "source": [
    "## lấy mfcc của tất cả các file trong dir"
   ]
  },
  {
   "cell_type": "code",
   "execution_count": 3,
   "metadata": {},
   "outputs": [],
   "source": [
    "# lấy mfcc của tất cả các file wav trong wav\n",
    "def get_class_data(data_dir):\n",
    "    files = os.listdir(data_dir)\n",
    "    mfcc = [get_mfcc(os.path.join(data_dir,f)) for f in files if f.endswith(\".wav\")]\n",
    "    return mfcc"
   ]
  },
  {
   "cell_type": "markdown",
   "metadata": {},
   "source": [
    "## Hàm Clustering"
   ]
  },
  {
   "cell_type": "code",
   "execution_count": 4,
   "metadata": {},
   "outputs": [],
   "source": [
    "def clustering(X, n_clusters=14):\n",
    "    kmeans = KMeans(n_clusters=n_clusters, n_init=50, random_state=0, verbose=0)\n",
    "    kmeans.fit(X)\n",
    "    print(\"centers\", kmeans.cluster_centers_.shape)\n",
    "    return kmeans"
   ]
  },
  {
   "cell_type": "markdown",
   "metadata": {},
   "source": [
    "## plot biểu đồ predict/true"
   ]
  },
  {
   "cell_type": "code",
   "execution_count": 5,
   "metadata": {},
   "outputs": [],
   "source": [
    "def plotCM(y_true, y_pred, labels):\n",
    "    cm = confusion_matrix(y_true, y_pred, labels)\n",
    "    fig = plt.figure()\n",
    "    ax = fig.add_subplot(111)\n",
    "    cax = ax.matshow(cm)\n",
    "    plt.title('test')\n",
    "    fig.colorbar(cax)\n",
    "    ax.set_xticklabels([''] + labels)\n",
    "    ax.set_yticklabels([''] + labels)\n",
    "    plt.xlabel('predicted')\n",
    "    plt.ylabel('true')\n",
    "    plt.show()"
   ]
  },
  {
   "cell_type": "markdown",
   "metadata": {},
   "source": [
    "## Data"
   ]
  },
  {
   "cell_type": "code",
   "execution_count": 6,
   "metadata": {},
   "outputs": [
    {
     "name": "stdout",
     "output_type": "stream",
     "text": [
      "Load len dataset\n",
      "Load xuong dataset\n",
      "Load trai dataset\n",
      "Load phai dataset\n"
     ]
    }
   ],
   "source": [
    "class_names = ['len', 'xuong', 'trai', 'phai']\n",
    "dataset = {}\n",
    "for cname in class_names:\n",
    "    print(f\"Load {cname} dataset\")\n",
    "    dataset[cname]=get_class_data(os.path.join('data',cname))"
   ]
  },
  {
   "cell_type": "code",
   "execution_count": 7,
   "metadata": {},
   "outputs": [
    {
     "name": "stdout",
     "output_type": "stream",
     "text": [
      "77\n",
      "77\n",
      "77\n",
      "77\n"
     ]
    }
   ],
   "source": [
    "print(len(dataset['len']))\n",
    "print(len(dataset['xuong']))\n",
    "print(len(dataset['trai']))\n",
    "print(len(dataset['phai']))"
   ]
  },
  {
   "cell_type": "code",
   "execution_count": 8,
   "metadata": {},
   "outputs": [
    {
     "data": {
      "text/plain": [
       "'\\ntestClass_names = [\\'len\\', \\'xuong\\', \\'trai\\', \\'phai\\']\\nn_testDataSet = {\\'len\\': 0, \\'xuong\\': 0, \\'trai\\': 0, \\'phai\\': 0}\\ntestDataSet = {}\\nfor cname in testClass_names:\\n    print(f\"Load {cname} testDataSet\")\\n    testDataSet[cname] = get_class_data(os.path.join(\\'test\\', cname))\\n    n_testDataSet[cname] = len(testDataSet[cname])\\nprint(len(testDataSet[\\'len\\']))\\nprint(len(testDataSet[\\'xuong\\']))\\nprint(len(testDataSet[\\'trai\\']))\\nprint(len(testDataSet[\\'phai\\']))\\nprint(n_testDataSet)\\n'"
      ]
     },
     "execution_count": 8,
     "metadata": {},
     "output_type": "execute_result"
    }
   ],
   "source": [
    "\"\"\"\n",
    "testClass_names = ['len', 'xuong', 'trai', 'phai']\n",
    "n_testDataSet = {'len': 0, 'xuong': 0, 'trai': 0, 'phai': 0}\n",
    "testDataSet = {}\n",
    "for cname in testClass_names:\n",
    "    print(f\"Load {cname} testDataSet\")\n",
    "    testDataSet[cname] = get_class_data(os.path.join('test', cname))\n",
    "    n_testDataSet[cname] = len(testDataSet[cname])\n",
    "print(len(testDataSet['len']))\n",
    "print(len(testDataSet['xuong']))\n",
    "print(len(testDataSet['trai']))\n",
    "print(len(testDataSet['phai']))\n",
    "print(n_testDataSet)\n",
    "\"\"\""
   ]
  },
  {
   "cell_type": "markdown",
   "metadata": {},
   "source": [
    "## split train test"
   ]
  },
  {
   "cell_type": "code",
   "execution_count": 9,
   "metadata": {},
   "outputs": [
    {
     "name": "stdout",
     "output_type": "stream",
     "text": [
      "61\n",
      "61\n",
      "61\n",
      "61\n"
     ]
    }
   ],
   "source": [
    "trainset = {}\n",
    "testset = {}\n",
    "n_test = {'len': 0, 'xuong': 0, 'trai': 0, 'phai': 0}\n",
    "for cname in class_names:\n",
    "    n = len(dataset[cname])\n",
    "    n_train = math.floor(n*0.8)\n",
    "    trainset[cname] = dataset[cname][:n_train]\n",
    "    testset[cname] = dataset[cname][n_train:]\n",
    "    n_test[cname] += len(testset[cname])\n",
    "    \n",
    "print(len(trainset['len']))\n",
    "print(len(trainset['xuong']))\n",
    "print(len(trainset['trai']))\n",
    "print(len(trainset['phai']))\n"
   ]
  },
  {
   "cell_type": "markdown",
   "metadata": {},
   "source": [
    "## Fit kmeans trên tập train"
   ]
  },
  {
   "cell_type": "code",
   "execution_count": 10,
   "metadata": {},
   "outputs": [
    {
     "name": "stdout",
     "output_type": "stream",
     "text": [
      "vectors (13955, 36)\n",
      "centers (14, 36)\n",
      "centers (14, 36)\n",
      "KMeans(n_clusters=14, n_init=50, random_state=0)\n"
     ]
    }
   ],
   "source": [
    "# Get all vectors in the datasets\n",
    "all_vectors = np.concatenate([np.concatenate(v, axis=0) for k, v in trainset.items()], axis=0)\n",
    "print(\"vectors\", all_vectors.shape)\n",
    "# Run K-Means algorithm to get clusters\n",
    "kmeans = clustering(all_vectors)\n",
    "print(\"centers\", kmeans.cluster_centers_.shape)\n",
    "print(kmeans)\n",
    "fileNameKmeans = 'kmeans.sav'\n",
    "pickle.dump(kmeans, open(fileNameKmeans, 'wb'))"
   ]
  },
  {
   "cell_type": "code",
   "execution_count": 11,
   "metadata": {},
   "outputs": [],
   "source": [
    "for cname in class_names:\n",
    "    trainset[cname] = list([kmeans.predict(v).reshape(-1, 1) for v in trainset[cname]])\n",
    "    testset[cname] = list([kmeans.predict(v).reshape(-1, 1) for v in testset[cname]])\n",
    "#for cname in testClass_names:\n",
    " #   testDataSet[cname] = list([kmeans.predict(v).reshape(-1, 1) for v in testDataSet[cname]])\n",
    "    \n",
    "    "
   ]
  },
  {
   "cell_type": "markdown",
   "metadata": {},
   "source": [
    "# Train"
   ]
  },
  {
   "cell_type": "code",
   "execution_count": 12,
   "metadata": {},
   "outputs": [],
   "source": [
    "models = {}"
   ]
  },
  {
   "cell_type": "markdown",
   "metadata": {},
   "source": [
    "## Models cho 'xuống' 4x3"
   ]
  },
  {
   "cell_type": "code",
   "execution_count": 13,
   "metadata": {},
   "outputs": [
    {
     "name": "stdout",
     "output_type": "stream",
     "text": [
      "training class xuong\n",
      "(3749, 1) [73, 80, 34, 71, 82, 65, 82, 90, 89, 75, 80, 78, 73, 84, 81, 80, 84, 67, 77, 113, 89, 76, 89, 78, 66, 48, 59, 60, 51, 58, 55, 50, 61, 47, 74, 53, 52, 71, 76, 62, 36, 36, 35, 42, 39, 62, 46, 40, 39, 42, 42, 46, 54, 47, 46, 39, 69, 44, 36, 38, 38] 61\n"
     ]
    },
    {
     "name": "stderr",
     "output_type": "stream",
     "text": [
      "         1       -9367.7618             +nan\n",
      "         2       -6253.5274       +3114.2344\n",
      "         3       -4551.4146       +1702.1128\n",
      "         4       -4074.5653        +476.8493\n",
      "         5       -3898.3069        +176.2584\n",
      "         6       -3820.0308         +78.2762\n",
      "         7       -3769.1312         +50.8996\n",
      "         8       -3738.3058         +30.8254\n",
      "         9       -3735.3623          +2.9435\n",
      "        10       -3734.6401          +0.7222\n",
      "        11       -3734.2418          +0.3983\n",
      "        12       -3733.8974          +0.3443\n",
      "        13       -3733.5579          +0.3395\n",
      "        14       -3733.1313          +0.4266\n",
      "        15       -3732.0159          +1.1153\n",
      "        16       -3729.9310          +2.0849\n",
      "        17       -3728.7126          +1.2184\n",
      "        18       -3728.0582          +0.6544\n",
      "        19       -3727.4701          +0.5881\n",
      "        20       -3726.9977          +0.4724\n",
      "        21       -3726.6910          +0.3067\n",
      "        22       -3726.5295          +0.1615\n",
      "        23       -3726.4578          +0.0717\n",
      "        24       -3726.4295          +0.0283\n"
     ]
    },
    {
     "name": "stdout",
     "output_type": "stream",
     "text": [
      "Training done\n"
     ]
    },
    {
     "name": "stderr",
     "output_type": "stream",
     "text": [
      "        25       -3726.4190          +0.0105\n",
      "        26       -3726.4152          +0.0038\n"
     ]
    }
   ],
   "source": [
    "hmm = hmmlearn.hmm.MultinomialHMM(n_components=4*3, random_state=0, n_iter=1000, verbose=True, init_params='e', params='ste')\n",
    "hmm.startprob_ = np.array([0.7, 0.2, 0.1, 0.0, 0.0, 0.0, 0.0, 0.0, 0.0, 0.0, 0.0, 0.0, ])\n",
    "hmm.transmat_ =np.array([\n",
    "    [0.7, 0.2, 0.1, 0.0, 0.0, 0.0, 0.0, 0.0, 0.0, 0.0, 0.0, 0.0, ],\n",
    "    [0.0, 0.7, 0.2, 0.1, 0.0, 0.0, 0.0, 0.0, 0.0, 0.0, 0.0, 0.0, ],\n",
    "    [0.0, 0.0, 0.7, 0.2, 0.1, 0.0, 0.0, 0.0, 0.0, 0.0, 0.0, 0.0, ],\n",
    "    [0.0, 0.0, 0.0, 0.7, 0.2, 0.1, 0.0, 0.0, 0.0, 0.0, 0.0, 0.0, ],\n",
    "    [0.0, 0.0, 0.0, 0.0, 0.7, 0.2, 0.1, 0.0, 0.0, 0.0, 0.0, 0.0, ],\n",
    "    [0.0, 0.0, 0.0, 0.0, 0.0, 0.7, 0.2, 0.1, 0.0, 0.0, 0.0, 0.0, ],\n",
    "    [0.0, 0.0, 0.0, 0.0, 0.0, 0.0, 0.7, 0.2, 0.1, 0.0, 0.0, 0.0, ],\n",
    "    [0.0, 0.0, 0.0, 0.0, 0.0, 0.0, 0.0, 0.7, 0.2, 0.1, 0.0, 0.0, ],\n",
    "    [0.0, 0.0, 0.0, 0.0, 0.0, 0.0, 0.0, 0.0, 0.7, 0.2, 0.1, 0.0, ],\n",
    "    [0.0, 0.0, 0.0, 0.0, 0.0, 0.0, 0.0, 0.0, 0.0, 0.7, 0.2, 0.1, ],\n",
    "    [0.0, 0.0, 0.0, 0.0, 0.0, 0.0, 0.0, 0.0, 0.0, 0.0, 0.7, 0.3, ],\n",
    "    [0.0, 0.0, 0.0, 0.0, 0.0, 0.0, 0.0, 0.0, 0.0, 0.0, 0.0, 1.0, ],])\n",
    "\n",
    "\n",
    "Xbn = np.concatenate(trainset['xuong'])\n",
    "lengths = list([len(x) for x in trainset['xuong']])\n",
    "print(\"training class\", 'xuong')\n",
    "print(Xbn.shape, lengths, len(lengths))\n",
    "hmm.fit(Xbn, lengths=lengths)\n",
    "models['xuong'] = hmm\n",
    "print(\"Training done\")"
   ]
  },
  {
   "cell_type": "markdown",
   "metadata": {},
   "source": [
    "## Models cho 'đã' 2x3"
   ]
  },
  {
   "cell_type": "code",
   "execution_count": 14,
   "metadata": {},
   "outputs": [
    {
     "data": {
      "text/plain": [
       "'\\nhmm = hmmlearn.hmm.MultinomialHMM(n_components=2*3, random_state=0, n_iter=1000, verbose=True, init_params=\\'e\\', params=\\'ste\\')\\nhmm.startprob_ = np.array([0.7, 0.2, 0.1, 0.0, 0.0, 0.0 ])\\nhmm.transmat_ =np.array([\\n    [0.7, 0.2, 0.1, 0.0, 0.0, 0.0],\\n    [0.0, 0.7, 0.2, 0.1, 0.0, 0.0],\\n    [0.0, 0.0, 0.7, 0.2, 0.1, 0.0],\\n    [0.0, 0.0, 0.0, 0.7, 0.2, 0.1],\\n    [0.0, 0.0, 0.0, 0.0, 0.7, 0.3],\\n    [0.0, 0.0, 0.0, 0.0, 0.0, 1.0],])\\n\\nXct = np.concatenate(trainset[\\'da\\'])\\nlengths = list([len(x) for x in trainset[\\'da\\']])\\nprint(\"training class\", \\'da\\')\\nprint(Xct.shape, lengths, len(lengths))\\nhmm.fit(Xct, lengths=lengths)\\nmodels[\\'da\\'] = hmm\\nprint(\"Training done\")'"
      ]
     },
     "execution_count": 14,
     "metadata": {},
     "output_type": "execute_result"
    }
   ],
   "source": [
    "\"\"\"\n",
    "hmm = hmmlearn.hmm.MultinomialHMM(n_components=2*3, random_state=0, n_iter=1000, verbose=True, init_params='e', params='ste')\n",
    "hmm.startprob_ = np.array([0.7, 0.2, 0.1, 0.0, 0.0, 0.0 ])\n",
    "hmm.transmat_ =np.array([\n",
    "    [0.7, 0.2, 0.1, 0.0, 0.0, 0.0],\n",
    "    [0.0, 0.7, 0.2, 0.1, 0.0, 0.0],\n",
    "    [0.0, 0.0, 0.7, 0.2, 0.1, 0.0],\n",
    "    [0.0, 0.0, 0.0, 0.7, 0.2, 0.1],\n",
    "    [0.0, 0.0, 0.0, 0.0, 0.7, 0.3],\n",
    "    [0.0, 0.0, 0.0, 0.0, 0.0, 1.0],])\n",
    "\n",
    "Xct = np.concatenate(trainset['da'])\n",
    "lengths = list([len(x) for x in trainset['da']])\n",
    "print(\"training class\", 'da')\n",
    "print(Xct.shape, lengths, len(lengths))\n",
    "hmm.fit(Xct, lengths=lengths)\n",
    "models['da'] = hmm\n",
    "print(\"Training done\")\"\"\""
   ]
  },
  {
   "cell_type": "markdown",
   "metadata": {},
   "source": [
    "## Models cho 'lên' 3x3"
   ]
  },
  {
   "cell_type": "code",
   "execution_count": 15,
   "metadata": {},
   "outputs": [
    {
     "name": "stderr",
     "output_type": "stream",
     "text": [
      "         1       -8123.2957             +nan\n",
      "         2       -5108.1408       +3015.1549\n"
     ]
    },
    {
     "name": "stdout",
     "output_type": "stream",
     "text": [
      "training class len\n",
      "(3148, 1) [55, 63, 27, 70, 61, 62, 75, 69, 58, 63, 62, 62, 58, 63, 62, 73, 56, 71, 59, 81, 107, 107, 73, 60, 81, 47, 44, 56, 46, 45, 58, 48, 45, 46, 69, 51, 43, 60, 61, 65, 23, 22, 24, 26, 33, 70, 25, 28, 27, 31, 28, 27, 31, 38, 39, 31, 59, 31, 33, 35, 25] 61\n"
     ]
    },
    {
     "name": "stderr",
     "output_type": "stream",
     "text": [
      "         3       -4402.8313        +705.3095\n",
      "         4       -4231.1394        +171.6918\n",
      "         5       -4132.4116         +98.7278\n",
      "         6       -4083.3315         +49.0801\n",
      "         7       -4036.0611         +47.2704\n",
      "         8       -3971.6552         +64.4058\n",
      "         9       -3871.0533        +100.6019\n",
      "        10       -3758.2108        +112.8426\n",
      "        11       -3621.9431        +136.2677\n",
      "        12       -3528.8982         +93.0449\n",
      "        13       -3479.0466         +49.8517\n",
      "        14       -3471.0047          +8.0419\n",
      "        15       -3466.8026          +4.2021\n",
      "        16       -3455.2054         +11.5971\n",
      "        17       -3444.4324         +10.7730\n",
      "        18       -3434.6088          +9.8237\n",
      "        19       -3425.6822          +8.9266\n",
      "        20       -3416.3717          +9.3105\n",
      "        21       -3396.8556         +19.5162\n",
      "        22       -3394.0165          +2.8390\n",
      "        23       -3393.7295          +0.2871\n",
      "        24       -3393.6555          +0.0740\n",
      "        25       -3393.6097          +0.0458\n",
      "        26       -3393.5591          +0.0506\n",
      "        27       -3393.4741          +0.0850\n",
      "        28       -3393.2531          +0.2210\n",
      "        29       -3392.4661          +0.7870\n",
      "        30       -3390.6144          +1.8518\n",
      "        31       -3388.7403          +1.8740\n",
      "        32       -3387.1375          +1.6028\n",
      "        33       -3386.6222          +0.5153\n",
      "        34       -3386.5240          +0.0983\n"
     ]
    },
    {
     "name": "stdout",
     "output_type": "stream",
     "text": [
      "Training done\n"
     ]
    },
    {
     "name": "stderr",
     "output_type": "stream",
     "text": [
      "        35       -3386.5027          +0.0212\n",
      "        36       -3386.4982          +0.0045\n"
     ]
    }
   ],
   "source": [
    "hmm = hmmlearn.hmm.MultinomialHMM(n_components=3*3, random_state=0, n_iter=1000, verbose=True, init_params='e', params='ste')\n",
    "hmm.startprob_ = np.array([0.7, 0.2, 0.1, 0.0, 0.0, 0.0, 0.0, 0.0, 0.0, ])\n",
    "hmm.transmat_ =np.array([\n",
    "    [0.7, 0.2, 0.1, 0.0, 0.0, 0.0, 0.0, 0.0, 0.0, ],\n",
    "    [0.0, 0.7, 0.2, 0.1, 0.0, 0.0, 0.0, 0.0, 0.0, ],\n",
    "    [0.0, 0.0, 0.7, 0.2, 0.1, 0.0, 0.0, 0.0, 0.0, ],\n",
    "    [0.0, 0.0, 0.0, 0.7, 0.2, 0.1, 0.0, 0.0, 0.0, ],\n",
    "    [0.0, 0.0, 0.0, 0.0, 0.7, 0.2, 0.1, 0.0, 0.0, ],\n",
    "    [0.0, 0.0, 0.0, 0.0, 0.0, 0.7, 0.2, 0.1, 0.0, ],\n",
    "    [0.0, 0.0, 0.0, 0.0, 0.0, 0.0, 0.7, 0.2, 0.1, ],\n",
    "    [0.0, 0.0, 0.0, 0.0, 0.0, 0.0, 0.0, 0.7, 0.3, ],\n",
    "    [0.0, 0.0, 0.0, 0.0, 0.0, 0.0, 0.0, 0.0, 1.0, ],])\n",
    "\n",
    "Xvn = np.concatenate(trainset['len'])\n",
    "lengths = list([len(x) for x in trainset['len']])\n",
    "print(\"training class\", 'len')\n",
    "print(Xvn.shape, lengths, len(lengths))\n",
    "hmm.fit(Xvn, lengths=lengths)\n",
    "models['len'] = hmm\n",
    "print(\"Training done\")"
   ]
  },
  {
   "cell_type": "markdown",
   "metadata": {},
   "source": [
    "## Models cho 'trái' 3x3"
   ]
  },
  {
   "cell_type": "code",
   "execution_count": 16,
   "metadata": {},
   "outputs": [
    {
     "name": "stderr",
     "output_type": "stream",
     "text": [
      "         1       -8490.4161             +nan\n",
      "         2       -4946.4589       +3543.9572\n",
      "         3       -4273.4802        +672.9786\n"
     ]
    },
    {
     "name": "stdout",
     "output_type": "stream",
     "text": [
      "training class trai\n",
      "(3447, 1) [73, 76, 43, 74, 71, 77, 75, 69, 76, 70, 68, 77, 69, 80, 71, 71, 80, 80, 76, 71, 73, 68, 63, 71, 84, 47, 42, 64, 44, 47, 51, 44, 50, 43, 73, 47, 45, 68, 66, 75, 38, 30, 36, 33, 36, 77, 33, 33, 41, 38, 33, 40, 36, 32, 33, 36, 73, 43, 36, 40, 38] 61\n"
     ]
    },
    {
     "name": "stderr",
     "output_type": "stream",
     "text": [
      "         4       -4076.4512        +197.0290\n",
      "         5       -4032.5196         +43.9316\n",
      "         6       -4021.5219         +10.9977\n",
      "         7       -4018.2741          +3.2478\n",
      "         8       -4017.0403          +1.2338\n",
      "         9       -4016.4707          +0.5696\n",
      "        10       -4016.1587          +0.3120\n",
      "        11       -4015.9561          +0.2026\n",
      "        12       -4015.8057          +0.1503\n",
      "        13       -4015.6843          +0.1214\n",
      "        14       -4015.5807          +0.1036\n",
      "        15       -4015.4880          +0.0927\n",
      "        16       -4015.4004          +0.0876\n",
      "        17       -4015.3123          +0.0881\n",
      "        18       -4015.2182          +0.0941\n",
      "        19       -4015.1126          +0.1056\n",
      "        20       -4014.9909          +0.1217\n",
      "        21       -4014.8496          +0.1413\n",
      "        22       -4014.6880          +0.1616\n",
      "        23       -4014.5085          +0.1795\n",
      "        24       -4014.3177          +0.1908\n",
      "        25       -4014.1254          +0.1924\n",
      "        26       -4013.9424          +0.1830\n",
      "        27       -4013.7782          +0.1642\n",
      "        28       -4013.6388          +0.1393\n",
      "        29       -4013.5262          +0.1126\n",
      "        30       -4013.4389          +0.0873\n",
      "        31       -4013.3734          +0.0655\n",
      "        32       -4013.3255          +0.0479\n",
      "        33       -4013.2911          +0.0344\n",
      "        34       -4013.2666          +0.0244\n",
      "        35       -4013.2495          +0.0171\n",
      "        36       -4013.2375          +0.0120\n"
     ]
    },
    {
     "name": "stdout",
     "output_type": "stream",
     "text": [
      "Training done\n"
     ]
    },
    {
     "name": "stderr",
     "output_type": "stream",
     "text": [
      "        37       -4013.2292          +0.0083\n"
     ]
    }
   ],
   "source": [
    "hmm = hmmlearn.hmm.MultinomialHMM(n_components=3*3, random_state=0, n_iter=1000, verbose=True, init_params='e', params='ste')\n",
    "hmm.startprob_ = np.array([0.7, 0.2, 0.1, 0.0, 0.0, 0.0, 0.0, 0.0, 0.0, ])\n",
    "hmm.transmat_ =np.array([\n",
    "    [0.7, 0.2, 0.1, 0.0, 0.0, 0.0, 0.0, 0.0, 0.0, ],\n",
    "    [0.0, 0.7, 0.2, 0.1, 0.0, 0.0, 0.0, 0.0, 0.0, ],\n",
    "    [0.0, 0.0, 0.7, 0.2, 0.1, 0.0, 0.0, 0.0, 0.0, ],\n",
    "    [0.0, 0.0, 0.0, 0.7, 0.2, 0.1, 0.0, 0.0, 0.0, ],\n",
    "    [0.0, 0.0, 0.0, 0.0, 0.7, 0.2, 0.1, 0.0, 0.0, ],\n",
    "    [0.0, 0.0, 0.0, 0.0, 0.0, 0.7, 0.2, 0.1, 0.0, ],\n",
    "    [0.0, 0.0, 0.0, 0.0, 0.0, 0.0, 0.7, 0.2, 0.1, ],\n",
    "    [0.0, 0.0, 0.0, 0.0, 0.0, 0.0, 0.0, 0.7, 0.3, ],\n",
    "    [0.0, 0.0, 0.0, 0.0, 0.0, 0.0, 0.0, 0.0, 1.0, ],])\n",
    "\n",
    "Xvn = np.concatenate(trainset['trai'])\n",
    "lengths = list([len(x) for x in trainset['trai']])\n",
    "print(\"training class\", 'trai')\n",
    "print(Xvn.shape, lengths, len(lengths))\n",
    "hmm.fit(Xvn, lengths=lengths)\n",
    "models['trai'] = hmm\n",
    "print(\"Training done\")"
   ]
  },
  {
   "cell_type": "markdown",
   "metadata": {},
   "source": [
    "## Models cho 'phải' 4x3"
   ]
  },
  {
   "cell_type": "code",
   "execution_count": 17,
   "metadata": {},
   "outputs": [
    {
     "name": "stderr",
     "output_type": "stream",
     "text": [
      "         1       -9198.7955             +nan\n",
      "         2       -6002.0216       +3196.7739\n",
      "         3       -5294.4434        +707.5782\n"
     ]
    },
    {
     "name": "stdout",
     "output_type": "stream",
     "text": [
      "training class phai\n",
      "(3611, 1) [73, 78, 44, 78, 77, 77, 83, 77, 85, 78, 102, 88, 81, 89, 73, 75, 81, 89, 66, 79, 81, 97, 73, 71, 97, 53, 39, 65, 47, 44, 44, 46, 53, 39, 71, 38, 30, 74, 73, 71, 37, 34, 37, 37, 35, 71, 35, 30, 35, 34, 35, 35, 42, 35, 39, 35, 82, 39, 35, 30, 40] 61\n"
     ]
    },
    {
     "name": "stderr",
     "output_type": "stream",
     "text": [
      "         4       -5035.2668        +259.1765\n",
      "         5       -4905.9051        +129.3617\n",
      "         6       -4847.1369         +58.7682\n",
      "         7       -4831.4173         +15.7196\n",
      "         8       -4823.2490          +8.1684\n",
      "         9       -4801.2800         +21.9690\n",
      "        10       -4694.6898        +106.5902\n",
      "        11       -4502.1748        +192.5150\n",
      "        12       -4438.5891         +63.5858\n",
      "        13       -4425.5851         +13.0040\n",
      "        14       -4421.0461          +4.5390\n",
      "        15       -4416.2163          +4.8298\n",
      "        16       -4399.3660         +16.8503\n",
      "        17       -4393.5653          +5.8007\n",
      "        18       -4390.7050          +2.8603\n",
      "        19       -4388.6123          +2.0927\n",
      "        20       -4387.2048          +1.4076\n",
      "        21       -4386.4775          +0.7273\n",
      "        22       -4386.1847          +0.2928\n",
      "        23       -4386.0833          +0.1014\n"
     ]
    },
    {
     "name": "stdout",
     "output_type": "stream",
     "text": [
      "Training done\n"
     ]
    },
    {
     "name": "stderr",
     "output_type": "stream",
     "text": [
      "        24       -4386.0491          +0.0342\n",
      "        25       -4386.0361          +0.0130\n",
      "        26       -4386.0299          +0.0062\n"
     ]
    }
   ],
   "source": [
    "hmm = hmmlearn.hmm.MultinomialHMM(n_components=3*3, random_state=0, n_iter=1000, verbose=True, init_params='e', params='ste')\n",
    "hmm.startprob_ = np.array([0.7, 0.2, 0.1, 0.0, 0.0, 0.0, 0.0, 0.0, 0.0, ])\n",
    "hmm.transmat_ =np.array([\n",
    "    [0.7, 0.2, 0.1, 0.0, 0.0, 0.0, 0.0, 0.0, 0.0, ],\n",
    "    [0.0, 0.7, 0.2, 0.1, 0.0, 0.0, 0.0, 0.0, 0.0, ],\n",
    "    [0.0, 0.0, 0.7, 0.2, 0.1, 0.0, 0.0, 0.0, 0.0, ],\n",
    "    [0.0, 0.0, 0.0, 0.7, 0.2, 0.1, 0.0, 0.0, 0.0, ],\n",
    "    [0.0, 0.0, 0.0, 0.0, 0.7, 0.2, 0.1, 0.0, 0.0, ],\n",
    "    [0.0, 0.0, 0.0, 0.0, 0.0, 0.7, 0.2, 0.1, 0.0, ],\n",
    "    [0.0, 0.0, 0.0, 0.0, 0.0, 0.0, 0.7, 0.2, 0.1, ],\n",
    "    [0.0, 0.0, 0.0, 0.0, 0.0, 0.0, 0.0, 0.7, 0.3, ],\n",
    "    [0.0, 0.0, 0.0, 0.0, 0.0, 0.0, 0.0, 0.0, 1.0, ],])\n",
    "\n",
    "Xvn = np.concatenate(trainset['phai'])\n",
    "lengths = list([len(x) for x in trainset['phai']])\n",
    "print(\"training class\", 'phai')\n",
    "print(Xvn.shape, lengths, len(lengths))\n",
    "hmm.fit(Xvn, lengths=lengths)\n",
    "models['phai'] = hmm\n",
    "print(\"Training done\")"
   ]
  },
  {
   "cell_type": "markdown",
   "metadata": {},
   "source": [
    "## Models cho 'trong' 3x3"
   ]
  },
  {
   "cell_type": "code",
   "execution_count": 18,
   "metadata": {},
   "outputs": [
    {
     "data": {
      "text/plain": [
       "'\\nhmm = hmmlearn.hmm.MultinomialHMM(n_components=3*3, random_state=0, n_iter=1000, verbose=True, init_params=\\'e\\', params=\\'ste\\')\\nhmm.startprob_ = np.array([0.7, 0.2, 0.1, 0.0, 0.0, 0.0, 0.0, 0.0, 0.0, ])\\nhmm.transmat_ =np.array([\\n    [0.7, 0.2, 0.1, 0.0, 0.0, 0.0, 0.0, 0.0, 0.0, ],\\n    [0.0, 0.7, 0.2, 0.1, 0.0, 0.0, 0.0, 0.0, 0.0, ],\\n    [0.0, 0.0, 0.7, 0.2, 0.1, 0.0, 0.0, 0.0, 0.0, ],\\n    [0.0, 0.0, 0.0, 0.7, 0.2, 0.1, 0.0, 0.0, 0.0, ],\\n    [0.0, 0.0, 0.0, 0.0, 0.7, 0.2, 0.1, 0.0, 0.0, ],\\n    [0.0, 0.0, 0.0, 0.0, 0.0, 0.7, 0.2, 0.1, 0.0, ],\\n    [0.0, 0.0, 0.0, 0.0, 0.0, 0.0, 0.7, 0.2, 0.1, ],\\n    [0.0, 0.0, 0.0, 0.0, 0.0, 0.0, 0.0, 0.7, 0.3, ],\\n    [0.0, 0.0, 0.0, 0.0, 0.0, 0.0, 0.0, 0.0, 1.0, ],])\\n\\nXvn = np.concatenate(trainset[\\'trong\\'])\\nlengths = list([len(x) for x in trainset[\\'trong\\']])\\nprint(\"training class\", \\'trong\\')\\nprint(Xvn.shape, lengths, len(lengths))\\nhmm.fit(Xvn, lengths=lengths)\\nmodels[\\'trong\\'] = hmm\\nprint(\"Training done\")\\n'"
      ]
     },
     "execution_count": 18,
     "metadata": {},
     "output_type": "execute_result"
    }
   ],
   "source": [
    "\"\"\"\n",
    "hmm = hmmlearn.hmm.MultinomialHMM(n_components=3*3, random_state=0, n_iter=1000, verbose=True, init_params='e', params='ste')\n",
    "hmm.startprob_ = np.array([0.7, 0.2, 0.1, 0.0, 0.0, 0.0, 0.0, 0.0, 0.0, ])\n",
    "hmm.transmat_ =np.array([\n",
    "    [0.7, 0.2, 0.1, 0.0, 0.0, 0.0, 0.0, 0.0, 0.0, ],\n",
    "    [0.0, 0.7, 0.2, 0.1, 0.0, 0.0, 0.0, 0.0, 0.0, ],\n",
    "    [0.0, 0.0, 0.7, 0.2, 0.1, 0.0, 0.0, 0.0, 0.0, ],\n",
    "    [0.0, 0.0, 0.0, 0.7, 0.2, 0.1, 0.0, 0.0, 0.0, ],\n",
    "    [0.0, 0.0, 0.0, 0.0, 0.7, 0.2, 0.1, 0.0, 0.0, ],\n",
    "    [0.0, 0.0, 0.0, 0.0, 0.0, 0.7, 0.2, 0.1, 0.0, ],\n",
    "    [0.0, 0.0, 0.0, 0.0, 0.0, 0.0, 0.7, 0.2, 0.1, ],\n",
    "    [0.0, 0.0, 0.0, 0.0, 0.0, 0.0, 0.0, 0.7, 0.3, ],\n",
    "    [0.0, 0.0, 0.0, 0.0, 0.0, 0.0, 0.0, 0.0, 1.0, ],])\n",
    "\n",
    "Xvn = np.concatenate(trainset['trong'])\n",
    "lengths = list([len(x) for x in trainset['trong']])\n",
    "print(\"training class\", 'trong')\n",
    "print(Xvn.shape, lengths, len(lengths))\n",
    "hmm.fit(Xvn, lengths=lengths)\n",
    "models['trong'] = hmm\n",
    "print(\"Training done\")\n",
    "\"\"\""
   ]
  },
  {
   "cell_type": "code",
   "execution_count": 19,
   "metadata": {},
   "outputs": [],
   "source": [
    "fileName = 'finalModel.sav'\n",
    "pickle.dump(models, open(fileName, 'wb'))"
   ]
  },
  {
   "cell_type": "markdown",
   "metadata": {},
   "source": [
    "# Test"
   ]
  },
  {
   "cell_type": "code",
   "execution_count": 20,
   "metadata": {},
   "outputs": [
    {
     "name": "stdout",
     "output_type": "stream",
     "text": [
      "Testing\n",
      "len {'xuong': -52.797996869608056, 'len': -34.81290368831855, 'trai': -61.52771562625452, 'phai': -52.3686519807195} predict: len\n",
      "len {'xuong': -59.055418557568544, 'len': -35.91409357617227, 'trai': -72.16110487764092, 'phai': -61.21995813987789} predict: len\n",
      "len {'xuong': -61.38371946998141, 'len': -40.31876037853903, 'trai': -52.19972967760419, 'phai': -45.62690268436745} predict: len\n",
      "len {'xuong': -60.774526734315366, 'len': -40.20991801868971, 'trai': -77.11625607705291, 'phai': -63.966354643890284} predict: len\n",
      "len {'xuong': -55.64954084963771, 'len': -34.78035157832635, 'trai': -69.25599371558974, 'phai': -57.390785678343775} predict: len\n",
      "len {'xuong': -56.956630945442996, 'len': -40.80875210257586, 'trai': -83.34208568758005, 'phai': -66.55607285776412} predict: len\n",
      "len {'xuong': -70.16715170377981, 'len': -41.00112751310226, 'trai': -69.31228184588876, 'phai': -60.70086703121396} predict: len\n",
      "len {'xuong': -39.48137815283001, 'len': -inf, 'trai': -30.080801935298254, 'phai': -38.4747122821985} predict: trai\n",
      "len {'xuong': -71.24950273901474, 'len': -45.054821855101494, 'trai': -114.4310508642536, 'phai': -62.81801762319962} predict: len\n",
      "len {'xuong': -46.259747763879346, 'len': -47.62257842445141, 'trai': -48.52077690894138, 'phai': -46.44455359167853} predict: xuong\n",
      "len {'xuong': -63.421424520636506, 'len': -39.941177500044, 'trai': -60.70234835721159, 'phai': -57.82176304719506} predict: len\n",
      "len {'xuong': -50.69771742238657, 'len': -42.060571036226314, 'trai': -49.113346616611295, 'phai': -46.49414041992924} predict: len\n",
      "len {'xuong': -50.95991472630825, 'len': -37.747220606462115, 'trai': -51.36270739469031, 'phai': -43.124620921209385} predict: len\n",
      "len {'xuong': -57.741137127398105, 'len': -43.89825992156918, 'trai': -56.67302162068803, 'phai': -51.66726651445648} predict: len\n",
      "len {'xuong': -61.88486863701671, 'len': -45.77114695957054, 'trai': -61.20418347985046, 'phai': -55.671506730069765} predict: len\n",
      "len {'xuong': -63.81032847152532, 'len': -41.10422620139808, 'trai': -62.94224892481084, 'phai': -59.14974302564219} predict: len\n",
      "xuong {'xuong': -36.75747050986948, 'len': -inf, 'trai': -72.33811264663285, 'phai': -50.02237566836298} predict: xuong\n",
      "xuong {'xuong': -38.7503779069073, 'len': -inf, 'trai': -64.11850207029836, 'phai': -42.86515178903523} predict: xuong\n",
      "xuong {'xuong': -31.683862240869225, 'len': -inf, 'trai': -56.7414782795038, 'phai': -39.15001906720128} predict: xuong\n",
      "xuong {'xuong': -38.921304001367695, 'len': -inf, 'trai': -68.53170154996951, 'phai': -47.71975695906168} predict: xuong\n",
      "xuong {'xuong': -40.36484307084204, 'len': -inf, 'trai': -84.60504853574292, 'phai': -61.15837556651315} predict: xuong\n",
      "xuong {'xuong': -44.95718175825888, 'len': -inf, 'trai': -73.98733403176965, 'phai': -51.72159364888603} predict: xuong\n",
      "xuong {'xuong': -47.65083634258094, 'len': -67.817506987552, 'trai': -29.30653420364118, 'phai': -31.797846443050606} predict: trai\n",
      "xuong {'xuong': -41.58230341083138, 'len': -51.37954044941403, 'trai': -51.586293201587445, 'phai': -42.55499222195793} predict: xuong\n",
      "xuong {'xuong': -54.14058699344339, 'len': -71.90323699330634, 'trai': -29.998158404424093, 'phai': -31.404960003180438} predict: trai\n",
      "xuong {'xuong': -42.076961732901395, 'len': -69.6204188080885, 'trai': -28.372935253657772, 'phai': -33.17126042421495} predict: trai\n",
      "xuong {'xuong': -41.12157234038741, 'len': -59.12066414594875, 'trai': -29.19706261666517, 'phai': -31.04305562202893} predict: trai\n",
      "xuong {'xuong': -35.373586353411724, 'len': -inf, 'trai': -25.782653989679975, 'phai': -27.51155413912364} predict: trai\n",
      "xuong {'xuong': -52.50104735709849, 'len': -54.82741955251053, 'trai': -40.730827703010924, 'phai': -35.990728446582445} predict: phai\n",
      "xuong {'xuong': -43.39183182734941, 'len': -57.12133308184079, 'trai': -27.748208622568026, 'phai': -29.96886050366711} predict: trai\n",
      "xuong {'xuong': -62.172181885367266, 'len': -59.123845340474226, 'trai': -48.46685710612505, 'phai': -36.33566588463651} predict: phai\n",
      "xuong {'xuong': -66.48169550331849, 'len': -62.70347136483282, 'trai': -54.90321714233241, 'phai': -47.135120593966015} predict: phai\n",
      "trai {'xuong': -929.6574018776535, 'len': -inf, 'trai': -59.68644815698247, 'phai': -63.43488329866089} predict: trai\n",
      "trai {'xuong': -74.36583368326916, 'len': -inf, 'trai': -53.53379673150232, 'phai': -52.13383245673191} predict: phai\n",
      "trai {'xuong': -112.57808341353287, 'len': -inf, 'trai': -62.21292865297192, 'phai': -62.06320431287273} predict: phai\n",
      "trai {'xuong': -83.8248116503868, 'len': -inf, 'trai': -54.683809706259616, 'phai': -56.19309370681838} predict: trai\n",
      "trai {'xuong': -81.4457240843109, 'len': -inf, 'trai': -50.39996839356373, 'phai': -45.782305014497425} predict: phai\n",
      "trai {'xuong': -940.7074503266213, 'len': -inf, 'trai': -56.258405344332985, 'phai': -63.72864565447393} predict: trai\n",
      "trai {'xuong': -48.69130983322561, 'len': -60.30509840566303, 'trai': -23.921574056751204, 'phai': -25.792441989300453} predict: trai\n",
      "trai {'xuong': -389.4897220520013, 'len': -986.8814244311665, 'trai': -63.83381284931864, 'phai': -59.85661105927117} predict: phai\n",
      "trai {'xuong': -416.39736497664614, 'len': -125.9915736910867, 'trai': -42.70735192360491, 'phai': -46.21939653623874} predict: trai\n",
      "trai {'xuong': -51.23134591603144, 'len': -68.2604263921085, 'trai': -28.444146766659856, 'phai': -31.317552950587356} predict: trai\n",
      "trai {'xuong': -94.83070099856661, 'len': -93.17633386472679, 'trai': -65.26662046283133, 'phai': -70.56102660869188} predict: trai\n",
      "trai {'xuong': -379.95530395016, 'len': -113.1450978593423, 'trai': -35.99935888957791, 'phai': -42.365822039645664} predict: trai\n",
      "trai {'xuong': -366.5728162918838, 'len': -107.25730337572885, 'trai': -33.05693327744285, 'phai': -38.027027536848486} predict: trai\n",
      "trai {'xuong': -531.7524785168644, 'len': -inf, 'trai': -109.98051154332735, 'phai': -87.99995293151892} predict: phai\n",
      "trai {'xuong': -44.04861966683547, 'len': -50.21488963652756, 'trai': -26.931584553604345, 'phai': -24.430661850368192} predict: phai\n",
      "trai {'xuong': -243.35502299752451, 'len': -96.51867705762913, 'trai': -35.67837785589967, 'phai': -36.64296732110505} predict: trai\n",
      "phai {'xuong': -600.3480304332678, 'len': -inf, 'trai': -65.43469214301287, 'phai': -87.8014595261214} predict: trai\n",
      "phai {'xuong': -822.5844273834227, 'len': -inf, 'trai': -132.62986452748578, 'phai': -73.26376301034256} predict: phai\n",
      "phai {'xuong': -647.711245072441, 'len': -inf, 'trai': -61.09929966348801, 'phai': -50.3206833211056} predict: phai\n",
      "phai {'xuong': -94.95783074761806, 'len': -inf, 'trai': -56.692173919876446, 'phai': -46.0015489272775} predict: phai\n",
      "phai {'xuong': -81.86112429191168, 'len': -inf, 'trai': -64.2357303769319, 'phai': -48.129601396302476} predict: phai\n",
      "phai {'xuong': -486.2993739867183, 'len': -inf, 'trai': -51.99749163083949, 'phai': -43.018820968512664} predict: phai\n",
      "phai {'xuong': -33.98083465317417, 'len': -34.610802135272195, 'trai': -27.12505291204409, 'phai': -24.22918928633976} predict: phai\n",
      "phai {'xuong': -42.97799310782393, 'len': -36.0986638140584, 'trai': -36.089287165670335, 'phai': -30.901740127262197} predict: phai\n",
      "phai {'xuong': -32.8923471163882, 'len': -33.67597078392021, 'trai': -31.131934447412277, 'phai': -27.07781754076008} predict: phai\n",
      "phai {'xuong': -503.39110274267756, 'len': -872.1854270082765, 'trai': -57.937025871995125, 'phai': -50.14174699564264} predict: phai\n",
      "phai {'xuong': -19.651470816135042, 'len': -23.22163200254502, 'trai': -27.216429911190005, 'phai': -21.133037439899912} predict: xuong\n",
      "phai {'xuong': -49.84059094825963, 'len': -60.90484206561716, 'trai': -29.37317485036083, 'phai': -26.748681625722483} predict: phai\n",
      "phai {'xuong': -46.651247335698834, 'len': -59.3660607963375, 'trai': -29.143079324927868, 'phai': -28.347858190612293} predict: phai\n",
      "phai {'xuong': -37.50562987566969, 'len': -39.51738037778666, 'trai': -28.44244003062646, 'phai': -23.700144487495148} predict: phai\n",
      "phai {'xuong': -27.629827576197563, 'len': -32.232692549750695, 'trai': -26.05684567247061, 'phai': -23.038756770586154} predict: phai\n",
      "phai {'xuong': -34.80448780334696, 'len': -32.86900841014559, 'trai': -27.057690661580413, 'phai': -25.617721060189} predict: phai\n"
     ]
    }
   ],
   "source": [
    "print(\"Testing\")\n",
    "n_correct = {'len': 0, 'xuong': 0, 'trai': 0, 'phai': 0}\n",
    "y_true = []\n",
    "y_predict = []\n",
    "labels = ['len', 'xuong', 'trai', 'phai']\n",
    "for true_cname in class_names:\n",
    "    for O in testset[true_cname]:\n",
    "        score = {cname: model.score(O, [len(O)]) for cname, model in models.items()}\n",
    "        if (true_cname == max(score, key=score.get)): n_correct[true_cname] += 1\n",
    "        y_true.append(true_cname)\n",
    "        y_predict.append(max(score, key = score.get))\n",
    "        print(true_cname, score, 'predict:', max(score, key=score.get))"
   ]
  },
  {
   "cell_type": "code",
   "execution_count": 21,
   "metadata": {},
   "outputs": [
    {
     "name": "stdout",
     "output_type": "stream",
     "text": [
      "Accuracy: len 0.875\n",
      "Accuracy: xuong 0.4375\n",
      "Accuracy: trai 0.625\n",
      "Accuracy: phai 0.875\n"
     ]
    }
   ],
   "source": [
    "for cname in class_names:\n",
    "    print('Accuracy:', cname, n_correct[cname]/n_test[cname])"
   ]
  },
  {
   "cell_type": "code",
   "execution_count": 22,
   "metadata": {},
   "outputs": [
    {
     "name": "stdout",
     "output_type": "stream",
     "text": [
      "All Accuracy: 0.703125\n"
     ]
    }
   ],
   "source": [
    "print('All Accuracy:', sum(n_correct.values())/sum(n_test.values()))"
   ]
  },
  {
   "cell_type": "code",
   "execution_count": 23,
   "metadata": {},
   "outputs": [
    {
     "name": "stderr",
     "output_type": "stream",
     "text": [
      "C:\\Users\\Admin\\miniconda3\\envs\\voice\\lib\\site-packages\\sklearn\\utils\\validation.py:68: FutureWarning: Pass labels=['len', 'xuong', 'trai', 'phai'] as keyword args. From version 0.25 passing these as positional arguments will result in an error\n",
      "  warnings.warn(\"Pass {} as keyword args. From version 0.25 \"\n"
     ]
    },
    {
     "data": {
      "image/png": "[encoded data removed]",
      "text/plain": [
       "<Figure size 432x288 with 2 Axes>"
      ]
     },
     "metadata": {
      "needs_background": "light"
     },
     "output_type": "display_data"
    }
   ],
   "source": [
    "plotCM(y_true, y_predict, labels)"
   ]
  },
  {
   "cell_type": "code",
   "execution_count": 24,
   "metadata": {},
   "outputs": [
    {
     "name": "stdout",
     "output_type": "stream",
     "text": [
      "{'len': 16, 'xuong': 16, 'trai': 16, 'phai': 16}\n"
     ]
    }
   ],
   "source": [
    "print(n_test)"
   ]
  },
  {
   "cell_type": "markdown",
   "metadata": {},
   "source": [
    "## Test âm thu từ micro"
   ]
  },
  {
   "cell_type": "code",
   "execution_count": 25,
   "metadata": {},
   "outputs": [
    {
     "name": "stdout",
     "output_type": "stream",
     "text": [
      "Testing testDataSet\n"
     ]
    },
    {
     "ename": "NameError",
     "evalue": "name 'testClass_names' is not defined",
     "output_type": "error",
     "traceback": [
      "\u001b[1;31m---------------------------------------------------------------------------\u001b[0m",
      "\u001b[1;31mNameError\u001b[0m                                 Traceback (most recent call last)",
      "\u001b[1;32m<ipython-input-25-a0fa2d00018c>\u001b[0m in \u001b[0;36m<module>\u001b[1;34m\u001b[0m\n\u001b[0;32m      4\u001b[0m \u001b[0my_testPredict\u001b[0m \u001b[1;33m=\u001b[0m \u001b[1;33m[\u001b[0m\u001b[1;33m]\u001b[0m\u001b[1;33m\u001b[0m\u001b[1;33m\u001b[0m\u001b[0m\n\u001b[0;32m      5\u001b[0m \u001b[0mlabels\u001b[0m \u001b[1;33m=\u001b[0m \u001b[1;33m[\u001b[0m\u001b[1;34m'trai'\u001b[0m\u001b[1;33m,\u001b[0m \u001b[1;34m'len'\u001b[0m\u001b[1;33m,\u001b[0m \u001b[1;34m'xuong'\u001b[0m\u001b[1;33m,\u001b[0m \u001b[1;34m'phai'\u001b[0m\u001b[1;33m]\u001b[0m\u001b[1;33m\u001b[0m\u001b[1;33m\u001b[0m\u001b[0m\n\u001b[1;32m----> 6\u001b[1;33m \u001b[1;32mfor\u001b[0m \u001b[0mtrue_cname\u001b[0m \u001b[1;32min\u001b[0m \u001b[0mtestClass_names\u001b[0m\u001b[1;33m:\u001b[0m\u001b[1;33m\u001b[0m\u001b[1;33m\u001b[0m\u001b[0m\n\u001b[0m\u001b[0;32m      7\u001b[0m     \u001b[1;32mfor\u001b[0m \u001b[0mO\u001b[0m \u001b[1;32min\u001b[0m \u001b[0mtestDataSet\u001b[0m\u001b[1;33m[\u001b[0m\u001b[0mtrue_cname\u001b[0m\u001b[1;33m]\u001b[0m\u001b[1;33m:\u001b[0m\u001b[1;33m\u001b[0m\u001b[1;33m\u001b[0m\u001b[0m\n\u001b[0;32m      8\u001b[0m         \u001b[0mscore\u001b[0m \u001b[1;33m=\u001b[0m \u001b[1;33m{\u001b[0m\u001b[0mcname\u001b[0m\u001b[1;33m:\u001b[0m \u001b[0mmodel\u001b[0m\u001b[1;33m.\u001b[0m\u001b[0mscore\u001b[0m\u001b[1;33m(\u001b[0m\u001b[0mO\u001b[0m\u001b[1;33m,\u001b[0m \u001b[1;33m[\u001b[0m\u001b[0mlen\u001b[0m\u001b[1;33m(\u001b[0m\u001b[0mO\u001b[0m\u001b[1;33m)\u001b[0m\u001b[1;33m]\u001b[0m\u001b[1;33m)\u001b[0m \u001b[1;32mfor\u001b[0m \u001b[0mcname\u001b[0m\u001b[1;33m,\u001b[0m \u001b[0mmodel\u001b[0m \u001b[1;32min\u001b[0m \u001b[0mmodels\u001b[0m\u001b[1;33m.\u001b[0m\u001b[0mitems\u001b[0m\u001b[1;33m(\u001b[0m\u001b[1;33m)\u001b[0m\u001b[1;33m}\u001b[0m\u001b[1;33m\u001b[0m\u001b[1;33m\u001b[0m\u001b[0m\n",
      "\u001b[1;31mNameError\u001b[0m: name 'testClass_names' is not defined"
     ]
    }
   ],
   "source": [
    "\"\"\"\n",
    "print(\"Testing testDataSet\")\n",
    "n_correct = {'len': 0, 'xuong': 0, 'trai': 0, 'phai': 0}\n",
    "y_testTrue = []\n",
    "y_testPredict = []\n",
    "labels = ['trai', 'len', 'xuong', 'phai']\n",
    "for true_cname in testClass_names:\n",
    "    for O in testDataSet[true_cname]:\n",
    "        score = {cname: model.score(O, [len(O)]) for cname, model in models.items()}\n",
    "        if (true_cname == max(score, key=score.get)): n_correct[true_cname] += 1\n",
    "        y_testTrue.append(true_cname)\n",
    "        y_testPredict.append(max(score, key = score.get))\n",
    "        print(true_cname, score, 'predict:', max(score, key=score.get))\n",
    "\"\"\""
   ]
  },
  {
   "cell_type": "code",
   "execution_count": null,
   "metadata": {},
   "outputs": [],
   "source": [
    "#np.around(models['trong'].transmat_, 2)"
   ]
  },
  {
   "cell_type": "code",
   "execution_count": null,
   "metadata": {},
   "outputs": [],
   "source": [
    "\"\"\"\n",
    "for cname in testClass_names:\n",
    "    print('Accuracy:', cname, n_correct[cname]/n_testDataSet[cname])\n",
    "print('All Accuracy:', sum(n_correct.values())/sum(n_testDataSet.values()))\n",
    "\"\"\""
   ]
  },
  {
   "cell_type": "code",
   "execution_count": null,
   "metadata": {},
   "outputs": [],
   "source": [
    "#plotCM(y_testTrue, y_testPredict, labels)"
   ]
  },
  {
   "cell_type": "code",
   "execution_count": null,
   "metadata": {},
   "outputs": [],
   "source": []
  }
 ],
 "metadata": {
  "kernelspec": {
   "display_name": "Python 3",
   "language": "python",
   "name": "python3"
  },
  "language_info": {
   "codemirror_mode": {
    "name": "ipython",
    "version": 3
   },
   "file_extension": ".py",
   "mimetype": "text/x-python",
   "name": "python",
   "nbconvert_exporter": "python",
   "pygments_lexer": "ipython3",
   "version": "3.8.3"
  }
 },
 "nbformat": 4,
 "nbformat_minor": 4
}
