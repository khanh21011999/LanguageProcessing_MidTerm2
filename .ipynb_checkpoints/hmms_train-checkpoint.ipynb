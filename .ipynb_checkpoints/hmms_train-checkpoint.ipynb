{
 "cells": [
  {
   "cell_type": "code",
   "execution_count": 293,
   "metadata": {},
   "outputs": [],
   "source": [
    "import librosa\n",
    "import numpy as np\n",
    "import os\n",
    "import math\n",
    "from sklearn.cluster import KMeans\n",
    "import hmmlearn.hmm"
   ]
  },
  {
   "cell_type": "markdown",
   "metadata": {},
   "source": [
    "## Get MFCC function"
   ]
  },
  {
   "cell_type": "code",
   "execution_count": 294,
   "metadata": {},
   "outputs": [],
   "source": [
    "# read file\n",
    "def get_mfcc(file_path):\n",
    "    y, sr = librosa.load(file_path) # read .wav file\n",
    "    hop_length = math.floor(sr*0.010) # 10ms hop\n",
    "    win_length = math.floor(sr*0.025) # 25ms frame\n",
    "    # mfcc is 12 x T matrix\n",
    "    mfcc = librosa.feature.mfcc(\n",
    "        y, sr, n_mfcc=12, n_fft=1024,\n",
    "        hop_length=hop_length, win_length=win_length)\n",
    "    # substract mean from mfcc --> normalize mfcc\n",
    "    mfcc = mfcc - np.mean(mfcc, axis=1).reshape((-1,1)) \n",
    "    # delta feature 1st order and 2nd order\n",
    "    delta1 = librosa.feature.delta(mfcc, order=1)\n",
    "    delta2 = librosa.feature.delta(mfcc, order=2)\n",
    "    # X is 36 x T\n",
    "    X = np.concatenate([mfcc, delta1, delta2], axis=0) # O^r\n",
    "    # return T x 36 (transpose of X)\n",
    "    return X.T # hmmlearn use T x N matrix"
   ]
  },
  {
   "cell_type": "markdown",
   "metadata": {},
   "source": [
    "## lấy mfcc của tất cả các file trong dir"
   ]
  },
  {
   "cell_type": "code",
   "execution_count": 295,
   "metadata": {},
   "outputs": [],
   "source": [
    "# lấy mfcc của tất cả các file wav trong wav\n",
    "def get_class_data(data_dir):\n",
    "    files = os.listdir(data_dir)\n",
    "    mfcc = [get_mfcc(os.path.join(data_dir,f)) for f in files if f.endswith(\".wav\")]\n",
    "    return mfcc"
   ]
  },
  {
   "cell_type": "markdown",
   "metadata": {},
   "source": [
    "## Hàm Clustering"
   ]
  },
  {
   "cell_type": "code",
   "execution_count": 296,
   "metadata": {},
   "outputs": [],
   "source": [
    "def clustering(X, n_clusters=14):\n",
    "    kmeans = KMeans(n_clusters=n_clusters, n_init=50, random_state=0, verbose=0)\n",
    "    kmeans.fit(X)\n",
    "    print(\"centers\", kmeans.cluster_centers_.shape)\n",
    "    return kmeans"
   ]
  },
  {
   "cell_type": "markdown",
   "metadata": {},
   "source": [
    "## Data"
   ]
  },
  {
   "cell_type": "code",
   "execution_count": 297,
   "metadata": {},
   "outputs": [
    {
     "name": "stdout",
     "output_type": "stream",
     "text": [
      "Load cothe dataset\n",
      "Load da dataset\n",
      "Load duoc dataset\n",
      "Load nguoi dataset\n",
      "Load trong dataset\n"
     ]
    }
   ],
   "source": [
    "class_names = ['cothe', 'da', 'duoc', 'nguoi','trong']\n",
    "dataset = {}\n",
    "for cname in class_names:\n",
    "    print(f\"Load {cname} dataset\")\n",
    "    dataset[cname] = get_class_data(os.path.join('data',cname))\n"
   ]
  },
  {
   "cell_type": "code",
   "execution_count": 298,
   "metadata": {},
   "outputs": [
    {
     "name": "stdout",
     "output_type": "stream",
     "text": [
      "124\n",
      "117\n",
      "105\n",
      "100\n",
      "127\n"
     ]
    }
   ],
   "source": [
    "print(len(dataset['cothe']))\n",
    "print(len(dataset['da']))\n",
    "print(len(dataset['duoc']))\n",
    "print(len(dataset['nguoi']))\n",
    "print(len(dataset['trong']))"
   ]
  },
  {
   "cell_type": "markdown",
   "metadata": {},
   "source": [
    "## TestData"
   ]
  },
  {
   "cell_type": "code",
   "execution_count": 299,
   "metadata": {},
   "outputs": [
    {
     "name": "stdout",
     "output_type": "stream",
     "text": [
      "Load da testDataSet\n",
      "Load duoc testDataSet\n",
      "Load trong testDataSet\n",
      "Load nguoi testDataSet\n",
      "Load cothe testDataSet\n",
      "10\n",
      "10\n",
      "10\n",
      "10\n",
      "10\n"
     ]
    }
   ],
   "source": [
    "testClass_names = ['da', 'duoc', 'trong', 'nguoi', 'cothe']\n",
    "testDataSet = {}\n",
    "for cname in testClass_names:\n",
    "    print(f\"Load {cname} testDataSet\")\n",
    "    testDataSet[cname] = get_class_data(os.path.join('test', cname))\n",
    "print(len(testDataSet['da']))\n",
    "print(len(testDataSet['duoc']))\n",
    "print(len(testDataSet['trong']))\n",
    "print(len(testDataSet['nguoi']))\n",
    "print(len(testDataSet['cothe']))"
   ]
  },
  {
   "cell_type": "markdown",
   "metadata": {},
   "source": [
    "## split train test"
   ]
  },
  {
   "cell_type": "code",
   "execution_count": 300,
   "metadata": {},
   "outputs": [
    {
     "name": "stdout",
     "output_type": "stream",
     "text": [
      "99\n",
      "93\n",
      "84\n",
      "80\n",
      "101\n"
     ]
    }
   ],
   "source": [
    "trainset = {}\n",
    "testset = {}\n",
    "n_test = {'cothe': 0, 'da': 0, 'duoc': 0, 'nguoi': 0,'trong': 0}\n",
    "for cname in class_names:\n",
    "    n = len(dataset[cname])\n",
    "    n_train = math.floor(n*0.8)\n",
    "    trainset[cname] = dataset[cname][:n_train]\n",
    "    testset[cname] = dataset[cname][n_train:]\n",
    "    n_test[cname] += len(testset[cname])\n",
    "    \n",
    "print(len(trainset['cothe']))\n",
    "print(len(trainset['da']))\n",
    "print(len(trainset['duoc']))\n",
    "print(len(trainset['nguoi']))\n",
    "print(len(trainset['trong']))"
   ]
  },
  {
   "cell_type": "markdown",
   "metadata": {},
   "source": [
    "## Fit kmeans trên tập train"
   ]
  },
  {
   "cell_type": "code",
   "execution_count": 301,
   "metadata": {},
   "outputs": [
    {
     "name": "stdout",
     "output_type": "stream",
     "text": [
      "vectors (12520, 36)\n",
      "centers (14, 36)\n",
      "centers (14, 36)\n",
      "KMeans(n_clusters=14, n_init=50, random_state=0)\n"
     ]
    }
   ],
   "source": [
    "# Get all vectors in the datasets\n",
    "all_vectors = np.concatenate([np.concatenate(v, axis=0) for k, v in trainset.items()], axis=0)\n",
    "print(\"vectors\", all_vectors.shape)\n",
    "# Run K-Means algorithm to get clusters\n",
    "kmeans = clustering(all_vectors)\n",
    "print(\"centers\", kmeans.cluster_centers_.shape)\n",
    "print(kmeans)"
   ]
  },
  {
   "cell_type": "code",
   "execution_count": 302,
   "metadata": {},
   "outputs": [],
   "source": [
    "for cname in class_names:\n",
    "    trainset[cname] = list([kmeans.predict(v).reshape(-1, 1) for v in trainset[cname]])\n",
    "    testset[cname] = list([kmeans.predict(v).reshape(-1, 1) for v in testset[cname]])\n",
    "for cname in testClass_names:\n",
    "    testDataSet[cname] = list([kmeans.predict(v).reshape(-1, 1) for v in testDataSet[cname]])\n",
    "    "
   ]
  },
  {
   "cell_type": "markdown",
   "metadata": {},
   "source": [
    "# Train"
   ]
  },
  {
   "cell_type": "code",
   "execution_count": 303,
   "metadata": {},
   "outputs": [],
   "source": [
    "models = {}"
   ]
  },
  {
   "cell_type": "markdown",
   "metadata": {},
   "source": [
    "## Models cho 'có thể' 4x3"
   ]
  },
  {
   "cell_type": "code",
   "execution_count": 304,
   "metadata": {},
   "outputs": [
    {
     "name": "stdout",
     "output_type": "stream",
     "text": [
      "training class cothe\n",
      "(4501, 1) [34, 31, 56, 39, 44, 40, 46, 35, 45, 47, 37, 56, 36, 31, 39, 35, 42, 30, 30, 37, 36, 39, 26, 34, 47, 36, 41, 34, 26, 30, 25, 27, 16, 39, 27, 52, 25, 27, 20, 22, 36, 53, 44, 44, 28, 57, 53, 36, 37, 30, 34, 38, 51, 43, 40, 47, 38, 44, 102, 44, 52, 56, 35, 37, 39, 25, 41, 52, 43, 33, 49, 59, 35, 42, 40, 37, 40, 35, 36, 28, 45, 44, 23, 30, 48, 35, 32, 35, 35, 26, 36, 43, 45, 62, 165, 163, 179, 165, 158] 99\n"
     ]
    },
    {
     "name": "stderr",
     "output_type": "stream",
     "text": [
      "         1      -11662.7896             +nan\n",
      "         2       -8178.6870       +3484.1026\n",
      "         3       -7275.4580        +903.2290\n",
      "         4       -6906.4269        +369.0311\n",
      "         5       -6673.5786        +232.8482\n",
      "         6       -6523.0856        +150.4930\n",
      "         7       -6406.9561        +116.1296\n",
      "         8       -6337.8441         +69.1119\n",
      "         9       -6302.1388         +35.7054\n",
      "        10       -6282.4439         +19.6949\n",
      "        11       -6270.6083         +11.8356\n",
      "        12       -6262.7322          +7.8761\n",
      "        13       -6257.7123          +5.0198\n",
      "        14       -6254.5660          +3.1464\n",
      "        15       -6252.4467          +2.1193\n",
      "        16       -6250.9339          +1.5127\n",
      "        17       -6249.8346          +1.0994\n",
      "        18       -6249.0382          +0.7964\n",
      "        19       -6248.4560          +0.5821\n",
      "        20       -6248.0120          +0.4440\n",
      "        21       -6247.6469          +0.3652\n",
      "        22       -6247.3189          +0.3280\n",
      "        23       -6247.0006          +0.3183\n",
      "        24       -6246.6742          +0.3264\n",
      "        25       -6246.3280          +0.3462\n",
      "        26       -6245.9542          +0.3738\n",
      "        27       -6245.5472          +0.4070\n",
      "        28       -6245.1035          +0.4437\n",
      "        29       -6244.6213          +0.4822\n",
      "        30       -6244.1003          +0.5210\n",
      "        31       -6243.5419          +0.5584\n",
      "        32       -6242.9490          +0.5929\n",
      "        33       -6242.3252          +0.6239\n",
      "        34       -6241.6734          +0.6517\n",
      "        35       -6240.9946          +0.6789\n",
      "        36       -6240.2845          +0.7101\n",
      "        37       -6239.5314          +0.7531\n",
      "        38       -6238.7132          +0.8182\n",
      "        39       -6237.7953          +0.9179\n",
      "        40       -6236.7308          +1.0644\n",
      "        41       -6235.4629          +1.2679\n",
      "        42       -6233.9306          +1.5323\n",
      "        43       -6232.0799          +1.8506\n",
      "        44       -6229.8824          +2.1975\n",
      "        45       -6227.3585          +2.5239\n",
      "        46       -6224.5901          +2.7684\n",
      "        47       -6221.7009          +2.8893\n",
      "        48       -6218.8333          +2.8676\n",
      "        49       -6216.1788          +2.6545\n",
      "        50       -6213.9890          +2.1898\n",
      "        51       -6212.4511          +1.5378\n",
      "        52       -6211.5469          +0.9042\n",
      "        53       -6211.0938          +0.4530\n",
      "        54       -6210.8928          +0.2010\n",
      "        55       -6210.8104          +0.0825\n",
      "        56       -6210.7779          +0.0325\n"
     ]
    },
    {
     "name": "stdout",
     "output_type": "stream",
     "text": [
      "Training done\n"
     ]
    },
    {
     "name": "stderr",
     "output_type": "stream",
     "text": [
      "        57       -6210.7652          +0.0127\n",
      "        58       -6210.7602          +0.0050\n"
     ]
    }
   ],
   "source": [
    "hmm = hmmlearn.hmm.MultinomialHMM(n_components=4*3, random_state=0, n_iter=1000, verbose=True, init_params='e', params='ste')\n",
    "hmm.startprob_ = np.array([0.7, 0.2, 0.1, 0.0, 0.0, 0.0, 0.0, 0.0, 0.0, 0.0, 0.0, 0.0, ])\n",
    "hmm.transmat_ =np.array([\n",
    "    [0.7, 0.2, 0.1, 0.0, 0.0, 0.0, 0.0, 0.0, 0.0, 0.0, 0.0, 0.0, ],\n",
    "    [0.0, 0.7, 0.2, 0.1, 0.0, 0.0, 0.0, 0.0, 0.0, 0.0, 0.0, 0.0, ],\n",
    "    [0.0, 0.0, 0.7, 0.2, 0.1, 0.0, 0.0, 0.0, 0.0, 0.0, 0.0, 0.0, ],\n",
    "    [0.0, 0.0, 0.0, 0.7, 0.2, 0.1, 0.0, 0.0, 0.0, 0.0, 0.0, 0.0, ],\n",
    "    [0.0, 0.0, 0.0, 0.0, 0.7, 0.2, 0.1, 0.0, 0.0, 0.0, 0.0, 0.0, ],\n",
    "    [0.0, 0.0, 0.0, 0.0, 0.0, 0.7, 0.2, 0.1, 0.0, 0.0, 0.0, 0.0, ],\n",
    "    [0.0, 0.0, 0.0, 0.0, 0.0, 0.0, 0.7, 0.2, 0.1, 0.0, 0.0, 0.0, ],\n",
    "    [0.0, 0.0, 0.0, 0.0, 0.0, 0.0, 0.0, 0.7, 0.2, 0.1, 0.0, 0.0, ],\n",
    "    [0.0, 0.0, 0.0, 0.0, 0.0, 0.0, 0.0, 0.0, 0.7, 0.2, 0.1, 0.0, ],\n",
    "    [0.0, 0.0, 0.0, 0.0, 0.0, 0.0, 0.0, 0.0, 0.0, 0.7, 0.2, 0.1, ],\n",
    "    [0.0, 0.0, 0.0, 0.0, 0.0, 0.0, 0.0, 0.0, 0.0, 0.0, 0.7, 0.3, ],\n",
    "    [0.0, 0.0, 0.0, 0.0, 0.0, 0.0, 0.0, 0.0, 0.0, 0.0, 0.0, 1.0, ],])\n",
    "\n",
    "\n",
    "Xbn = np.concatenate(trainset['cothe'])\n",
    "lengths = list([len(x) for x in trainset['cothe']])\n",
    "print(\"training class\", 'cothe')\n",
    "print(Xbn.shape, lengths, len(lengths))\n",
    "hmm.fit(Xbn, lengths=lengths)\n",
    "models['cothe'] = hmm\n",
    "print(\"Training done\")"
   ]
  },
  {
   "cell_type": "markdown",
   "metadata": {},
   "source": [
    "## Models cho 'đã' 2x3"
   ]
  },
  {
   "cell_type": "code",
   "execution_count": 305,
   "metadata": {},
   "outputs": [
    {
     "name": "stderr",
     "output_type": "stream",
     "text": [
      "         1       -4764.8870             +nan\n",
      "         2       -3715.7744       +1049.1126"
     ]
    },
    {
     "name": "stdout",
     "output_type": "stream",
     "text": [
      "training class da\n",
      "(1804, 1) [42, 25, 31, 25, 18, 15, 15, 17, 21, 14, 23, 23, 18, 12, 21, 17, 16, 22, 15, 14, 16, 14, 16, 26, 12, 13, 17, 13, 23, 13, 16, 14, 12, 19, 20, 24, 20, 20, 24, 20, 18, 26, 26, 22, 21, 21, 15, 20, 35, 25, 16, 18, 16, 26, 20, 22, 22, 30, 20, 21, 25, 24, 20, 21, 22, 22, 19, 21, 15, 20, 14, 16, 15, 21, 15, 16, 19, 12, 18, 18, 15, 24, 24, 22, 17, 15, 18, 19, 18, 15, 15, 18, 15] 93\n"
     ]
    },
    {
     "name": "stderr",
     "output_type": "stream",
     "text": [
      "\n",
      "         3       -3496.9916        +218.7828\n",
      "         4       -3311.2098        +185.7818\n",
      "         5       -3193.7871        +117.4227\n",
      "         6       -3146.7414         +47.0456\n",
      "         7       -3116.2045         +30.5369\n",
      "         8       -3095.6511         +20.5534\n",
      "         9       -3076.5455         +19.1056\n",
      "        10       -3054.8308         +21.7147\n",
      "        11       -3038.2372         +16.5935\n",
      "        12       -3028.6458          +9.5914\n",
      "        13       -3023.5757          +5.0701\n",
      "        14       -3020.7335          +2.8422\n",
      "        15       -3017.6985          +3.0350\n",
      "        16       -3013.8625          +3.8360\n",
      "        17       -3010.6634          +3.1991\n",
      "        18       -3008.4912          +2.1722\n",
      "        19       -3007.0562          +1.4350\n",
      "        20       -3006.1412          +0.9150\n",
      "        21       -3005.5624          +0.5788\n",
      "        22       -3005.1834          +0.3790\n",
      "        23       -3004.9203          +0.2631\n",
      "        24       -3004.7264          +0.1939\n",
      "        25       -3004.5754          +0.1509\n",
      "        26       -3004.4521          +0.1233\n",
      "        27       -3004.3469          +0.1053\n",
      "        28       -3004.2534          +0.0935\n",
      "        29       -3004.1673          +0.0860\n",
      "        30       -3004.0857          +0.0816\n",
      "        31       -3004.0063          +0.0794\n",
      "        32       -3003.9272          +0.0791\n",
      "        33       -3003.8468          +0.0804\n",
      "        34       -3003.7637          +0.0831\n",
      "        35       -3003.6762          +0.0875\n",
      "        36       -3003.5825          +0.0937\n",
      "        37       -3003.4801          +0.1024\n",
      "        38       -3003.3657          +0.1144\n",
      "        39       -3003.2342          +0.1315\n",
      "        40       -3003.0776          +0.1566\n",
      "        41       -3002.8828          +0.1948\n",
      "        42       -3002.6278          +0.2550\n",
      "        43       -3002.2759          +0.3519\n",
      "        44       -3001.7698          +0.5061\n",
      "        45       -3001.0327          +0.7371\n",
      "        46       -2999.9990          +1.0337\n",
      "        47       -2998.6902          +1.3088\n",
      "        48       -2997.2592          +1.4309\n",
      "        49       -2995.8890          +1.3703\n",
      "        50       -2994.6708          +1.2181\n",
      "        51       -2993.6006          +1.0703\n",
      "        52       -2992.6198          +0.9808\n",
      "        53       -2991.6401          +0.9797\n",
      "        54       -2990.5541          +1.0860\n",
      "        55       -2989.2786          +1.2755\n",
      "        56       -2987.8544          +1.4242\n",
      "        57       -2986.4225          +1.4319\n",
      "        58       -2985.0185          +1.4040\n",
      "        59       -2983.5311          +1.4875\n",
      "        60       -2981.7923          +1.7387\n",
      "        61       -2979.6666          +2.1258\n",
      "        62       -2977.1691          +2.4975\n",
      "        63       -2974.5690          +2.6001\n",
      "        64       -2972.2667          +2.3023\n",
      "        65       -2970.4414          +1.8253\n",
      "        66       -2968.9909          +1.4505\n",
      "        67       -2967.8237          +1.1673\n",
      "        68       -2966.8883          +0.9354\n",
      "        69       -2966.0133          +0.8750\n",
      "        70       -2965.0815          +0.9318\n",
      "        71       -2964.4674          +0.6141\n",
      "        72       -2964.1967          +0.2707\n",
      "        73       -2964.0512          +0.1455\n",
      "        74       -2963.9501          +0.1011\n",
      "        75       -2963.8676          +0.0825\n",
      "        76       -2963.7926          +0.0749\n",
      "        77       -2963.7181          +0.0745\n",
      "        78       -2963.6381          +0.0800\n",
      "        79       -2963.5473          +0.0908\n",
      "        80       -2963.4416          +0.1057\n",
      "        81       -2963.3187          +0.1229\n",
      "        82       -2963.1790          +0.1397\n",
      "        83       -2963.0255          +0.1535\n",
      "        84       -2962.8626          +0.1629\n",
      "        85       -2962.6943          +0.1683\n",
      "        86       -2962.5222          +0.1722\n",
      "        87       -2962.3440          +0.1781\n",
      "        88       -2962.1533          +0.1907\n",
      "        89       -2961.9408          +0.2125\n",
      "        90       -2961.7021          +0.2387\n",
      "        91       -2961.4510          +0.2511\n",
      "        92       -2961.2221          +0.2289\n",
      "        93       -2961.0462          +0.1760\n",
      "        94       -2960.9264          +0.1198\n",
      "        95       -2960.8473          +0.0790\n",
      "        96       -2960.7933          +0.0541\n",
      "        97       -2960.7543          +0.0390\n",
      "        98       -2960.7249          +0.0293\n",
      "        99       -2960.7024          +0.0226\n",
      "       100       -2960.6848          +0.0175\n"
     ]
    },
    {
     "name": "stdout",
     "output_type": "stream",
     "text": [
      "Training done\n"
     ]
    },
    {
     "name": "stderr",
     "output_type": "stream",
     "text": [
      "       101       -2960.6712          +0.0136\n",
      "       102       -2960.6605          +0.0106\n",
      "       103       -2960.6522          +0.0083\n"
     ]
    }
   ],
   "source": [
    "hmm = hmmlearn.hmm.MultinomialHMM(n_components=2*3, random_state=0, n_iter=1000, verbose=True, init_params='e', params='ste')\n",
    "hmm.startprob_ = np.array([0.7, 0.2, 0.1, 0.0, 0.0, 0.0 ])\n",
    "hmm.transmat_ =np.array([\n",
    "    [0.7, 0.2, 0.1, 0.0, 0.0, 0.0],\n",
    "    [0.0, 0.7, 0.2, 0.1, 0.0, 0.0],\n",
    "    [0.0, 0.0, 0.7, 0.2, 0.1, 0.0],\n",
    "    [0.0, 0.0, 0.0, 0.7, 0.2, 0.1],\n",
    "    [0.0, 0.0, 0.0, 0.0, 0.7, 0.3],\n",
    "    [0.0, 0.0, 0.0, 0.0, 0.0, 1.0],])\n",
    "\n",
    "Xct = np.concatenate(trainset['da'])\n",
    "lengths = list([len(x) for x in trainset['da']])\n",
    "print(\"training class\", 'da')\n",
    "print(Xct.shape, lengths, len(lengths))\n",
    "hmm.fit(Xct, lengths=lengths)\n",
    "models['da'] = hmm\n",
    "print(\"Training done\")"
   ]
  },
  {
   "cell_type": "markdown",
   "metadata": {},
   "source": [
    "## Models cho 'được' 4x3"
   ]
  },
  {
   "cell_type": "code",
   "execution_count": 306,
   "metadata": {},
   "outputs": [
    {
     "name": "stderr",
     "output_type": "stream",
     "text": [
      "         1       -4810.0183             +nan\n",
      "         2       -3765.2880       +1044.7304\n",
      "         3       -3450.7596        +314.5284\n"
     ]
    },
    {
     "name": "stdout",
     "output_type": "stream",
     "text": [
      "training class duoc\n",
      "(1860, 1) [25, 20, 19, 17, 14, 22, 21, 27, 23, 30, 15, 18, 21, 30, 19, 20, 21, 30, 22, 14, 17, 23, 23, 19, 21, 18, 18, 20, 38, 21, 22, 35, 29, 18, 19, 22, 42, 22, 20, 24, 22, 21, 22, 22, 44, 29, 18, 14, 20, 24, 22, 19, 41, 24, 20, 18, 16, 20, 18, 21, 22, 30, 17, 21, 19, 16, 19, 18, 19, 16, 20, 14, 17, 16, 32, 26, 28, 24, 25, 25, 29, 21, 15, 17] 84\n"
     ]
    },
    {
     "name": "stderr",
     "output_type": "stream",
     "text": [
      "         4       -3239.4531        +211.3064\n",
      "         5       -3062.6042        +176.8490\n",
      "         6       -2885.1663        +177.4379\n",
      "         7       -2764.4671        +120.6992\n",
      "         8       -2707.1059         +57.3612\n",
      "         9       -2658.9729         +48.1330\n",
      "        10       -2633.2841         +25.6888\n",
      "        11       -2621.6741         +11.6100\n",
      "        12       -2614.3702          +7.3039\n",
      "        13       -2611.4099          +2.9603\n",
      "        14       -2609.6560          +1.7539\n",
      "        15       -2608.1431          +1.5128\n",
      "        16       -2607.7529          +0.3902\n",
      "        17       -2607.5970          +0.1560\n",
      "        18       -2607.5134          +0.0836\n",
      "        19       -2607.4637          +0.0497\n",
      "        20       -2607.4314          +0.0323\n",
      "        21       -2607.4085          +0.0229\n",
      "        22       -2607.3908          +0.0177\n",
      "        23       -2607.3761          +0.0147\n",
      "        24       -2607.3630          +0.0131\n",
      "        25       -2607.3509          +0.0121\n",
      "        26       -2607.3395          +0.0114\n",
      "        27       -2607.3287          +0.0108\n"
     ]
    },
    {
     "name": "stdout",
     "output_type": "stream",
     "text": [
      "Training done\n"
     ]
    },
    {
     "name": "stderr",
     "output_type": "stream",
     "text": [
      "        28       -2607.3184          +0.0102\n",
      "        29       -2607.3089          +0.0095\n"
     ]
    }
   ],
   "source": [
    "hmm = hmmlearn.hmm.MultinomialHMM(n_components=4*3, random_state=0, n_iter=1000, verbose=True, init_params='e', params='ste')\n",
    "hmm.startprob_ = np.array([0.7, 0.2, 0.1, 0.0, 0.0, 0.0, 0.0, 0.0, 0.0, 0.0, 0.0, 0.0, ])\n",
    "hmm.transmat_ =np.array([\n",
    "    [0.7, 0.2, 0.1, 0.0, 0.0, 0.0, 0.0, 0.0, 0.0, 0.0, 0.0, 0.0, ],\n",
    "    [0.0, 0.7, 0.2, 0.1, 0.0, 0.0, 0.0, 0.0, 0.0, 0.0, 0.0, 0.0, ],\n",
    "    [0.0, 0.0, 0.7, 0.2, 0.1, 0.0, 0.0, 0.0, 0.0, 0.0, 0.0, 0.0, ],\n",
    "    [0.0, 0.0, 0.0, 0.7, 0.2, 0.1, 0.0, 0.0, 0.0, 0.0, 0.0, 0.0, ],\n",
    "    [0.0, 0.0, 0.0, 0.0, 0.7, 0.2, 0.1, 0.0, 0.0, 0.0, 0.0, 0.0, ],\n",
    "    [0.0, 0.0, 0.0, 0.0, 0.0, 0.7, 0.2, 0.1, 0.0, 0.0, 0.0, 0.0, ],\n",
    "    [0.0, 0.0, 0.0, 0.0, 0.0, 0.0, 0.7, 0.2, 0.1, 0.0, 0.0, 0.0, ],\n",
    "    [0.0, 0.0, 0.0, 0.0, 0.0, 0.0, 0.0, 0.7, 0.2, 0.1, 0.0, 0.0, ],\n",
    "    [0.0, 0.0, 0.0, 0.0, 0.0, 0.0, 0.0, 0.0, 0.7, 0.2, 0.1, 0.0, ],\n",
    "    [0.0, 0.0, 0.0, 0.0, 0.0, 0.0, 0.0, 0.0, 0.0, 0.7, 0.2, 0.1, ],\n",
    "    [0.0, 0.0, 0.0, 0.0, 0.0, 0.0, 0.0, 0.0, 0.0, 0.0, 0.7, 0.3, ],\n",
    "    [0.0, 0.0, 0.0, 0.0, 0.0, 0.0, 0.0, 0.0, 0.0, 0.0, 0.0, 1.0, ],])\n",
    "\n",
    "Xcth = np.concatenate(trainset['duoc'])\n",
    "lengths = list([len(x) for x in trainset['duoc']])\n",
    "print(\"training class\", 'duoc')\n",
    "print(Xcth.shape, lengths, len(lengths))\n",
    "hmm.fit(Xcth, lengths=lengths)\n",
    "models['duoc'] = hmm\n",
    "print(\"Training done\")"
   ]
  },
  {
   "cell_type": "markdown",
   "metadata": {},
   "source": [
    "## Models cho 'người' 4x3"
   ]
  },
  {
   "cell_type": "code",
   "execution_count": 307,
   "metadata": {},
   "outputs": [
    {
     "name": "stderr",
     "output_type": "stream",
     "text": [
      "         1       -4768.9256             +nan\n",
      "         2       -3055.3535       +1713.5721\n",
      "         3       -2551.0050        +504.3486"
     ]
    },
    {
     "name": "stdout",
     "output_type": "stream",
     "text": [
      "training class nguoi\n",
      "(1892, 1) [20, 18, 23, 25, 25, 38, 20, 25, 27, 22, 23, 23, 20, 26, 23, 19, 28, 24, 25, 19, 22, 28, 19, 24, 28, 20, 20, 32, 20, 18, 20, 31, 22, 19, 24, 14, 22, 15, 13, 22, 19, 25, 18, 27, 20, 20, 24, 17, 22, 19, 22, 26, 20, 23, 35, 28, 22, 30, 25, 27, 26, 23, 31, 30, 21, 19, 18, 20, 22, 15, 26, 19, 22, 51, 37, 42, 29, 29, 19, 18] 80\n"
     ]
    },
    {
     "name": "stderr",
     "output_type": "stream",
     "text": [
      "\n",
      "         4       -2435.6670        +115.3379\n",
      "         5       -2395.5295         +40.1375\n",
      "         6       -2377.7974         +17.7321\n",
      "         7       -2365.9235         +11.8739\n",
      "         8       -2356.7484          +9.1750\n",
      "         9       -2348.4798          +8.2686\n",
      "        10       -2340.0927          +8.3872\n",
      "        11       -2332.1805          +7.9121\n",
      "        12       -2325.8355          +6.3450\n",
      "        13       -2320.5171          +5.3184\n",
      "        14       -2315.4404          +5.0767\n",
      "        15       -2310.4111          +5.0294\n",
      "        16       -2305.4117          +4.9994\n",
      "        17       -2300.2429          +5.1688\n",
      "        18       -2294.6148          +5.6281\n",
      "        19       -2288.3010          +6.3138\n",
      "        20       -2281.3505          +6.9504\n",
      "        21       -2274.1630          +7.1875\n",
      "        22       -2266.8930          +7.2700\n",
      "        23       -2259.9450          +6.9480\n",
      "        24       -2254.5292          +5.4158\n",
      "        25       -2250.4949          +4.0343\n",
      "        26       -2247.4981          +2.9967\n",
      "        27       -2245.2113          +2.2868\n",
      "        28       -2243.0367          +2.1746\n",
      "        29       -2239.4004          +3.6364\n",
      "        30       -2235.8654          +3.5349\n",
      "        31       -2233.5988          +2.2666\n",
      "        32       -2231.8473          +1.7516\n",
      "        33       -2230.5826          +1.2647\n",
      "        34       -2229.7261          +0.8565\n",
      "        35       -2229.1338          +0.5923\n",
      "        36       -2228.6348          +0.4991\n",
      "        37       -2228.0080          +0.6268\n",
      "        38       -2227.2366          +0.7713\n",
      "        39       -2226.7166          +0.5201\n",
      "        40       -2226.4476          +0.2689\n",
      "        41       -2226.2261          +0.2216\n",
      "        42       -2225.6803          +0.5457\n",
      "        43       -2224.7713          +0.9090\n",
      "        44       -2224.3408          +0.4305\n",
      "        45       -2224.2002          +0.1406\n",
      "        46       -2224.1253          +0.0749\n",
      "        47       -2224.0638          +0.0615\n",
      "        48       -2223.9935          +0.0703\n",
      "        49       -2223.8485          +0.1449\n",
      "        50       -2223.4119          +0.4366\n",
      "        51       -2222.6798          +0.7321\n",
      "        52       -2222.2438          +0.4360\n",
      "        53       -2222.0390          +0.2048\n",
      "        54       -2221.8694          +0.1696\n",
      "        55       -2221.6761          +0.1932\n",
      "        56       -2221.4305          +0.2456\n",
      "        57       -2221.1517          +0.2789\n",
      "        58       -2220.9354          +0.2163\n",
      "        59       -2220.8290          +0.1064\n",
      "        60       -2220.7812          +0.0478\n",
      "        61       -2220.7527          +0.0285\n",
      "        62       -2220.7319          +0.0209\n",
      "        63       -2220.7151          +0.0168\n",
      "        64       -2220.7010          +0.0141\n"
     ]
    },
    {
     "name": "stdout",
     "output_type": "stream",
     "text": [
      "Training done\n"
     ]
    },
    {
     "name": "stderr",
     "output_type": "stream",
     "text": [
      "        65       -2220.6888          +0.0121\n",
      "        66       -2220.6782          +0.0106\n",
      "        67       -2220.6688          +0.0094\n"
     ]
    }
   ],
   "source": [
    "hmm = hmmlearn.hmm.MultinomialHMM(n_components=5*3, random_state=0, n_iter=1000, verbose=True, init_params='e', params='ste')\n",
    "hmm.startprob_ = np.array([0.7, 0.2, 0.1, 0.0, 0.0, 0.0, 0.0, 0.0, 0.0, 0.0, 0.0, 0.0, 0.0, 0.0, 0.0])\n",
    "hmm.transmat_ =np.array([\n",
    "    [0.7, 0.2, 0.1, 0.0, 0.0, 0.0, 0.0, 0.0, 0.0, 0.0, 0.0, 0.0, 0.0, 0.0, 0.0, ],\n",
    "    [0.0, 0.7, 0.2, 0.1, 0.0, 0.0, 0.0, 0.0, 0.0, 0.0, 0.0, 0.0, 0.0, 0.0, 0.0, ],\n",
    "    [0.0, 0.0, 0.7, 0.2, 0.1, 0.0, 0.0, 0.0, 0.0, 0.0, 0.0, 0.0, 0.0, 0.0, 0.0, ],\n",
    "    [0.0, 0.0, 0.0, 0.7, 0.2, 0.1, 0.0, 0.0, 0.0, 0.0, 0.0, 0.0, 0.0, 0.0, 0.0, ],\n",
    "    [0.0, 0.0, 0.0, 0.0, 0.7, 0.2, 0.1, 0.0, 0.0, 0.0, 0.0, 0.0, 0.0, 0.0, 0.0, ],\n",
    "    [0.0, 0.0, 0.0, 0.0, 0.0, 0.7, 0.2, 0.1, 0.0, 0.0, 0.0, 0.0, 0.0, 0.0, 0.0, ],\n",
    "    [0.0, 0.0, 0.0, 0.0, 0.0, 0.0, 0.7, 0.2, 0.1, 0.0, 0.0, 0.0, 0.0, 0.0, 0.0, ],\n",
    "    [0.0, 0.0, 0.0, 0.0, 0.0, 0.0, 0.0, 0.7, 0.2, 0.1, 0.0, 0.0, 0.0, 0.0, 0.0, ],\n",
    "    [0.0, 0.0, 0.0, 0.0, 0.0, 0.0, 0.0, 0.0, 0.7, 0.2, 0.1, 0.0, 0.0, 0.0, 0.0, ],\n",
    "    [0.0, 0.0, 0.0, 0.0, 0.0, 0.0, 0.0, 0.0, 0.0, 0.7, 0.2, 0.1, 0.0, 0.0, 0.0, ],\n",
    "    [0.0, 0.0, 0.0, 0.0, 0.0, 0.0, 0.0, 0.0, 0.0, 0.0, 0.7, 0.2, 0.1, 0.0, 0.0, ],\n",
    "    [0.0, 0.0, 0.0, 0.0, 0.0, 0.0, 0.0, 0.0, 0.0, 0.0, 0.0, 0.7, 0.2, 0.1, 0.0, ],\n",
    "    [0.0, 0.0, 0.0, 0.0, 0.0, 0.0, 0.0, 0.0, 0.0, 0.0, 0.0, 0.0, 0.7, 0.2, 0.1, ],\n",
    "    [0.0, 0.0, 0.0, 0.0, 0.0, 0.0, 0.0, 0.0, 0.0, 0.0, 0.0, 0.0, 0.0, 0.7, 0.3, ],\n",
    "    [0.0, 0.0, 0.0, 0.0, 0.0, 0.0, 0.0, 0.0, 0.0, 0.0, 0.0, 0.0, 0.0, 0.0, 1.0, ], ])\n",
    "\n",
    "Xcth = np.concatenate(trainset['nguoi'])\n",
    "lengths = list([len(x) for x in trainset['nguoi']])\n",
    "print(\"training class\", 'nguoi')\n",
    "print(Xcth.shape, lengths, len(lengths))\n",
    "hmm.fit(Xcth, lengths=lengths)\n",
    "models['nguoi'] = hmm\n",
    "print(\"Training done\")"
   ]
  },
  {
   "cell_type": "markdown",
   "metadata": {},
   "source": [
    "## Models cho 'trong' 3x3"
   ]
  },
  {
   "cell_type": "code",
   "execution_count": 308,
   "metadata": {},
   "outputs": [
    {
     "name": "stderr",
     "output_type": "stream",
     "text": [
      "         1       -6393.4051             +nan\n",
      "         2       -4709.4268       +1683.9784\n"
     ]
    },
    {
     "name": "stdout",
     "output_type": "stream",
     "text": [
      "training class trong\n",
      "(2463, 1) [50, 50, 35, 33, 30, 30, 26, 23, 17, 20, 22, 21, 19, 32, 32, 22, 23, 29, 21, 22, 24, 38, 22, 18, 25, 26, 24, 21, 28, 21, 20, 19, 31, 22, 16, 21, 22, 19, 20, 33, 28, 25, 24, 25, 23, 26, 19, 21, 38, 29, 34, 18, 22, 19, 23, 17, 19, 20, 23, 24, 21, 33, 20, 20, 25, 21, 21, 25, 25, 24, 19, 28, 30, 20, 22, 21, 19, 16, 22, 26, 17, 25, 18, 31, 20, 21, 28, 20, 20, 28, 21, 24, 21, 23, 29, 22, 22, 23, 39, 21, 28] 101\n"
     ]
    },
    {
     "name": "stderr",
     "output_type": "stream",
     "text": [
      "         3       -4179.3284        +530.0984\n",
      "         4       -3763.3374        +415.9910\n",
      "         5       -3605.6602        +157.6772\n",
      "         6       -3556.1207         +49.5395\n",
      "         7       -3503.7788         +52.3419\n",
      "         8       -3393.1904        +110.5884\n",
      "         9       -3269.6907        +123.4997\n",
      "        10       -3193.9599         +75.7308\n",
      "        11       -3158.4294         +35.5305\n",
      "        12       -3143.5683         +14.8611\n",
      "        13       -3137.7824          +5.7860\n",
      "        14       -3135.6999          +2.0824\n",
      "        15       -3134.9590          +0.7409\n",
      "        16       -3134.4370          +0.5220\n",
      "        17       -3132.9669          +1.4702\n",
      "        18       -3131.1087          +1.8582\n",
      "        19       -3130.8453          +0.2634\n",
      "        20       -3130.8257          +0.0195\n",
      "        21       -3130.8111          +0.0147\n",
      "        22       -3130.7939          +0.0172\n",
      "        23       -3130.7667          +0.0272\n",
      "        24       -3130.7163          +0.0504\n",
      "        25       -3130.6172          +0.0991\n",
      "        26       -3130.4223          +0.1949\n",
      "        27       -3130.0522          +0.3701\n",
      "        28       -3129.3985          +0.6537\n",
      "        29       -3128.3670          +1.0316\n",
      "        30       -3126.9405          +1.4264\n",
      "        31       -3125.1469          +1.7937\n",
      "        32       -3122.8755          +2.2714\n",
      "        33       -3119.7241          +3.1514\n",
      "        34       -3115.3633          +4.3608\n",
      "        35       -3110.9042          +4.4591\n",
      "        36       -3108.2597          +2.6445\n",
      "        37       -3107.3403          +0.9194\n",
      "        38       -3107.1181          +0.2222\n",
      "        39       -3107.0704          +0.0478\n",
      "        40       -3107.0585          +0.0118\n",
      "        41       -3107.0547          +0.0038"
     ]
    },
    {
     "name": "stdout",
     "output_type": "stream",
     "text": [
      "Training done\n"
     ]
    },
    {
     "name": "stderr",
     "output_type": "stream",
     "text": [
      "\n"
     ]
    }
   ],
   "source": [
    "hmm = hmmlearn.hmm.MultinomialHMM(n_components=3*3, random_state=0, n_iter=1000, verbose=True, init_params='e', params='ste')\n",
    "hmm.startprob_ = np.array([0.7, 0.2, 0.1, 0.0, 0.0, 0.0, 0.0, 0.0, 0.0, ])\n",
    "hmm.transmat_ =np.array([\n",
    "    [0.7, 0.2, 0.1, 0.0, 0.0, 0.0, 0.0, 0.0, 0.0, ],\n",
    "    [0.0, 0.7, 0.2, 0.1, 0.0, 0.0, 0.0, 0.0, 0.0, ],\n",
    "    [0.0, 0.0, 0.7, 0.2, 0.1, 0.0, 0.0, 0.0, 0.0, ],\n",
    "    [0.0, 0.0, 0.0, 0.7, 0.2, 0.1, 0.0, 0.0, 0.0, ],\n",
    "    [0.0, 0.0, 0.0, 0.0, 0.7, 0.2, 0.1, 0.0, 0.0, ],\n",
    "    [0.0, 0.0, 0.0, 0.0, 0.0, 0.7, 0.2, 0.1, 0.0, ],\n",
    "    [0.0, 0.0, 0.0, 0.0, 0.0, 0.0, 0.7, 0.2, 0.1, ],\n",
    "    [0.0, 0.0, 0.0, 0.0, 0.0, 0.0, 0.0, 0.7, 0.3, ],\n",
    "    [0.0, 0.0, 0.0, 0.0, 0.0, 0.0, 0.0, 0.0, 1.0, ],])\n",
    "\n",
    "Xvn = np.concatenate(trainset['trong'])\n",
    "lengths = list([len(x) for x in trainset['trong']])\n",
    "print(\"training class\", 'trong')\n",
    "print(Xvn.shape, lengths, len(lengths))\n",
    "hmm.fit(Xvn, lengths=lengths)\n",
    "models['trong'] = hmm\n",
    "print(\"Training done\")"
   ]
  },
  {
   "cell_type": "markdown",
   "metadata": {},
   "source": [
    "# Test"
   ]
  },
  {
   "cell_type": "code",
   "execution_count": 309,
   "metadata": {},
   "outputs": [
    {
     "name": "stdout",
     "output_type": "stream",
     "text": [
      "Testing\n",
      "cothe {'cothe': -549.9951776639559, 'da': -1708.0490186765305, 'duoc': -1270.4211653050581, 'nguoi': -inf, 'trong': -11333.565646735415} predict: cothe\n",
      "cothe {'cothe': -170.7046211904538, 'da': -339.0161507222581, 'duoc': -620.8592403509093, 'nguoi': -inf, 'trong': -290.57445139581347} predict: cothe\n",
      "cothe {'cothe': -485.6332596083742, 'da': -306.2196007424038, 'duoc': -378.11374511425544, 'nguoi': -inf, 'trong': -1132.969068571496} predict: da\n",
      "cothe {'cothe': -535.0826292622528, 'da': -387.4879043554186, 'duoc': -963.7176798919318, 'nguoi': -inf, 'trong': -608.9915597448346} predict: da\n",
      "cothe {'cothe': -380.32723375083367, 'da': -435.22061588817405, 'duoc': -1448.3031238655437, 'nguoi': -inf, 'trong': -6012.094179629728} predict: cothe\n",
      "cothe {'cothe': -444.2993776662988, 'da': -917.4623820284074, 'duoc': -1204.500162721123, 'nguoi': -inf, 'trong': -8465.948025255824} predict: cothe\n",
      "cothe {'cothe': -333.8418253165746, 'da': -552.0556015679952, 'duoc': -1373.0627314339413, 'nguoi': -inf, 'trong': -7822.332767925791} predict: cothe\n",
      "cothe {'cothe': -507.9551744651139, 'da': -484.69464696620236, 'duoc': -1628.6818731777687, 'nguoi': -inf, 'trong': -6512.502008176023} predict: da\n",
      "cothe {'cothe': -549.0136279588775, 'da': -566.2528419787316, 'duoc': -1346.9691941725698, 'nguoi': -inf, 'trong': -7271.1183777722645} predict: cothe\n",
      "cothe {'cothe': -304.97289771335727, 'da': -477.22142161610174, 'duoc': -1581.3911706894612, 'nguoi': -inf, 'trong': -7104.328028585191} predict: cothe\n",
      "cothe {'cothe': -309.39321207692996, 'da': -443.20398054862903, 'duoc': -2220.6238996532034, 'nguoi': -inf, 'trong': -7106.949928801867} predict: cothe\n",
      "cothe {'cothe': -468.25847468405476, 'da': -485.72313870085907, 'duoc': -1744.937877887003, 'nguoi': -inf, 'trong': -7027.35753187075} predict: cothe\n",
      "cothe {'cothe': -342.67443079600434, 'da': -510.42258657082874, 'duoc': -1457.3772109167282, 'nguoi': -inf, 'trong': -7471.159023403703} predict: cothe\n",
      "cothe {'cothe': -910.4235289528456, 'da': -514.3073765253347, 'duoc': -1523.838434482306, 'nguoi': -inf, 'trong': -5497.225185171801} predict: da\n",
      "cothe {'cothe': -291.0796006444465, 'da': -616.9473081859707, 'duoc': -2654.207036718544, 'nguoi': -inf, 'trong': -7578.111493158696} predict: cothe\n",
      "cothe {'cothe': -271.21872063280983, 'da': -404.6756498878074, 'duoc': -2571.2970584312657, 'nguoi': -inf, 'trong': -6392.8506803610535} predict: cothe\n",
      "cothe {'cothe': -2013.668631365766, 'da': -626.6837419745598, 'duoc': -2070.8681149847143, 'nguoi': -inf, 'trong': -7550.479807499137} predict: da\n",
      "cothe {'cothe': -336.90497138201545, 'da': -416.6546329680793, 'duoc': -468.467982706261, 'nguoi': -inf, 'trong': -1104.149519837607} predict: cothe\n",
      "cothe {'cothe': -274.6780719559038, 'da': -385.89683346831174, 'duoc': -419.5500038949419, 'nguoi': -inf, 'trong': -1036.0321032072334} predict: cothe\n",
      "cothe {'cothe': -1874.8983734809242, 'da': -1024.5407623406181, 'duoc': -1239.324534097351, 'nguoi': -inf, 'trong': -6188.226346686748} predict: da\n",
      "cothe {'cothe': -206.0981895956265, 'da': -450.2430656353982, 'duoc': -801.7000067329233, 'nguoi': -inf, 'trong': -345.1120143296343} predict: cothe\n",
      "cothe {'cothe': -1391.0963492593614, 'da': -617.3715107737588, 'duoc': -708.3400208731355, 'nguoi': -inf, 'trong': -6543.26718473158} predict: da\n",
      "cothe {'cothe': -1363.8739906885621, 'da': -1081.7037232446326, 'duoc': -876.6672111381154, 'nguoi': -inf, 'trong': -7861.873832794243} predict: duoc\n",
      "cothe {'cothe': -198.73212529299943, 'da': -413.2223428040829, 'duoc': -862.0399086395755, 'nguoi': -inf, 'trong': -412.8654562064894} predict: cothe\n",
      "cothe {'cothe': -222.4598086605626, 'da': -468.2093435179618, 'duoc': -2704.1480826906477, 'nguoi': -inf, 'trong': -9487.162819396648} predict: cothe\n",
      "da {'cothe': -44.66257085840645, 'da': -20.27323535810087, 'duoc': -20.687935273397983, 'nguoi': -31.521760699172, 'trong': -23.665803920239803} predict: da\n",
      "da {'cothe': -66.04834958046266, 'da': -42.598924998557, 'duoc': -41.03683485499504, 'nguoi': -161.17860516141482, 'trong': -49.90135395800177} predict: duoc\n",
      "da {'cothe': -120.36745057217473, 'da': -25.856183302378113, 'duoc': -31.914023574004414, 'nguoi': -30.204854433804936, 'trong': -52.07487406305502} predict: da\n",
      "da {'cothe': -37.75809062131973, 'da': -24.12763199490804, 'duoc': -31.701403045493947, 'nguoi': -33.32549974688698, 'trong': -32.391223748673454} predict: da\n",
      "da {'cothe': -37.308731460860834, 'da': -15.893108697811149, 'duoc': -28.869561689059335, 'nguoi': -21.300977532973146, 'trong': -33.574626248739484} predict: da\n",
      "da {'cothe': -37.749515151386866, 'da': -26.96412646982214, 'duoc': -38.0024224079545, 'nguoi': -26.88714421512305, 'trong': -48.87387136858184} predict: nguoi\n",
      "da {'cothe': -51.95383350162985, 'da': -20.387218521768606, 'duoc': -25.57571570101153, 'nguoi': -34.82891585289907, 'trong': -37.007887711647356} predict: da\n",
      "da {'cothe': -59.92297975550237, 'da': -29.406455041550053, 'duoc': -38.54505611534516, 'nguoi': -70.4768582598825, 'trong': -57.84645216411791} predict: da\n",
      "da {'cothe': -150.36290053439743, 'da': -38.46255574974773, 'duoc': -36.1526879539425, 'nguoi': -104.33121810421414, 'trong': -45.966588244407774} predict: duoc\n",
      "da {'cothe': -64.88799638776521, 'da': -26.311096063535928, 'duoc': -34.41472414625649, 'nguoi': -56.25395298372476, 'trong': -62.61202934048879} predict: da\n",
      "da {'cothe': -61.77630774973778, 'da': -28.63636562347761, 'duoc': -57.095983225225446, 'nguoi': -81.59912324917154, 'trong': -102.91654011384044} predict: da\n",
      "da {'cothe': -93.74869563001306, 'da': -84.3966694869466, 'duoc': -82.41148226977548, 'nguoi': -inf, 'trong': -159.97036222739194} predict: duoc\n",
      "da {'cothe': -inf, 'da': -26.74021839546168, 'duoc': -38.509711581697594, 'nguoi': -413.2453416509375, 'trong': -53.50030869710296} predict: da\n",
      "da {'cothe': -26.409544844802344, 'da': -24.25607495630934, 'duoc': -39.966084050627785, 'nguoi': -38.744810660748605, 'trong': -26.219355735181967} predict: da\n",
      "da {'cothe': -36.831337635211256, 'da': -27.456315958145137, 'duoc': -29.301071791995376, 'nguoi': -29.094349534133432, 'trong': -57.0409654951918} predict: da\n",
      "da {'cothe': -27.814418503609897, 'da': -19.551565809034948, 'duoc': -24.750915696755456, 'nguoi': -22.420070469703283, 'trong': -29.791450092043615} predict: da\n",
      "da {'cothe': -202.67658732373496, 'da': -26.5190397184126, 'duoc': -33.93427765749554, 'nguoi': -27.86755698292599, 'trong': -49.002431104092416} predict: da\n",
      "da {'cothe': -41.83733441593335, 'da': -20.21109586200766, 'duoc': -21.514178744795174, 'nguoi': -12.26412211692813, 'trong': -46.125629383416396} predict: nguoi\n",
      "da {'cothe': -38.13887480038131, 'da': -19.556080000516342, 'duoc': -25.808406624191534, 'nguoi': -25.033597739123124, 'trong': -52.025943428405824} predict: da\n",
      "da {'cothe': -45.54492499379361, 'da': -19.303026327139804, 'duoc': -25.913111987937036, 'nguoi': -25.48116467668603, 'trong': -33.96547960680965} predict: da\n",
      "da {'cothe': -49.40926873449684, 'da': -23.410296612781565, 'duoc': -28.899637961254154, 'nguoi': -24.914084478684686, 'trong': -35.53907672759842} predict: da\n",
      "da {'cothe': -115.00179517304349, 'da': -29.691232655357652, 'duoc': -24.60081594467664, 'nguoi': -37.685454187902444, 'trong': -38.27658204835863} predict: duoc\n",
      "da {'cothe': -59.65164365284678, 'da': -27.12666584625842, 'duoc': -35.07758008428919, 'nguoi': -40.76282198062004, 'trong': -43.349093693672465} predict: da\n",
      "da {'cothe': -59.65164365284678, 'da': -27.12666584625842, 'duoc': -35.07758008428919, 'nguoi': -40.76282198062004, 'trong': -43.349093693672465} predict: da\n",
      "duoc {'cothe': -97.03809453794197, 'da': -63.861525154478535, 'duoc': -124.84006998233228, 'nguoi': -111.6076130924769, 'trong': -121.24675977466448} predict: da\n",
      "duoc {'cothe': -67.91661838643331, 'da': -42.2734614748995, 'duoc': -34.154571010445636, 'nguoi': -89.9990666930665, 'trong': -70.8181169121508} predict: duoc\n",
      "duoc {'cothe': -86.61239905725692, 'da': -50.490090294182686, 'duoc': -26.009345407515987, 'nguoi': -65.74285972202085, 'trong': -58.66668800065972} predict: duoc\n",
      "duoc {'cothe': -62.953558687379825, 'da': -50.81028148523103, 'duoc': -29.870393866501704, 'nguoi': -54.5349191456989, 'trong': -109.1649780669173} predict: duoc\n",
      "duoc {'cothe': -76.55141974332689, 'da': -86.05239354681044, 'duoc': -58.21924892725212, 'nguoi': -inf, 'trong': -96.35387970383256} predict: duoc\n",
      "duoc {'cothe': -45.34012762865343, 'da': -50.42503137837482, 'duoc': -32.48484215905868, 'nguoi': -57.552695024451765, 'trong': -78.51822059128288} predict: duoc\n",
      "duoc {'cothe': -44.845272292635606, 'da': -39.90393230702441, 'duoc': -48.06643268129128, 'nguoi': -78.76034790244785, 'trong': -329.1514188565554} predict: da\n",
      "duoc {'cothe': -74.23202250820945, 'da': -54.12390451651065, 'duoc': -46.27402652326729, 'nguoi': -103.71282401437294, 'trong': -229.5482052710104} predict: duoc\n",
      "duoc {'cothe': -99.68338009623405, 'da': -248.0524447875763, 'duoc': -65.0045078793549, 'nguoi': -1281.0128312186096, 'trong': -407.21758565045724} predict: duoc\n",
      "duoc {'cothe': -52.50191021281449, 'da': -37.049827204348205, 'duoc': -25.10993790537034, 'nguoi': -48.03687621720823, 'trong': -66.89539479349271} predict: duoc\n",
      "duoc {'cothe': -39.74702119475422, 'da': -25.63870833078358, 'duoc': -63.65657368330945, 'nguoi': -40.11719302240607, 'trong': -29.281764929770134} predict: da\n",
      "duoc {'cothe': -29.27938774127498, 'da': -20.949443317145928, 'duoc': -24.305086176521673, 'nguoi': -25.445503071966723, 'trong': -26.968842882290595} predict: da\n",
      "duoc {'cothe': -75.69968248296975, 'da': -69.78944485775415, 'duoc': -38.81815096611456, 'nguoi': -inf, 'trong': -194.32378562513367} predict: duoc\n",
      "duoc {'cothe': -29.596866604131957, 'da': -20.056089829679394, 'duoc': -24.363623059647402, 'nguoi': -18.157931117866625, 'trong': -48.66583038187364} predict: nguoi\n",
      "duoc {'cothe': -202.51878978125038, 'da': -34.883843051046746, 'duoc': -28.482302688312675, 'nguoi': -82.70912355566651, 'trong': -66.43454649764878} predict: duoc\n",
      "duoc {'cothe': -67.02934041922296, 'da': -154.56375204095943, 'duoc': -28.397774319453802, 'nguoi': -96.00250434532568, 'trong': -40.961927807258384} predict: duoc\n",
      "duoc {'cothe': -45.44219366088319, 'da': -29.91373536247299, 'duoc': -23.39703994776418, 'nguoi': -64.29351414606914, 'trong': -75.13907337968081} predict: duoc\n",
      "duoc {'cothe': -80.21571790777037, 'da': -38.721633893173156, 'duoc': -27.73095282075259, 'nguoi': -91.19906666478043, 'trong': -38.869173911575125} predict: duoc\n",
      "duoc {'cothe': -54.05548300816568, 'da': -42.244621151094236, 'duoc': -21.534318896121423, 'nguoi': -66.1672137045239, 'trong': -40.471148298285485} predict: duoc\n",
      "duoc {'cothe': -91.30381190430852, 'da': -47.317992427513204, 'duoc': -33.93958622755883, 'nguoi': -83.54246678598429, 'trong': -44.8485837539352} predict: duoc\n",
      "duoc {'cothe': -79.55304026574301, 'da': -34.00010353026647, 'duoc': -25.024820462435493, 'nguoi': -55.261280133312795, 'trong': -65.97372685633934} predict: duoc\n",
      "nguoi {'cothe': -36.580559107254345, 'da': -33.848581368806265, 'duoc': -36.57394732923465, 'nguoi': -20.015133260777183, 'trong': -58.81396522693066} predict: nguoi\n",
      "nguoi {'cothe': -47.58248103858684, 'da': -53.03487409887237, 'duoc': -51.97868010380229, 'nguoi': -57.70354612049841, 'trong': -83.46079305946081} predict: cothe\n",
      "nguoi {'cothe': -43.170682810145195, 'da': -31.70161135005606, 'duoc': -36.2516649837601, 'nguoi': -40.00660487813846, 'trong': -69.54613473369919} predict: da\n",
      "nguoi {'cothe': -195.45191419439604, 'da': -37.110220322792955, 'duoc': -37.913691907439926, 'nguoi': -24.28578474281605, 'trong': -82.12377248724586} predict: nguoi\n",
      "nguoi {'cothe': -36.435822425917266, 'da': -35.41055764787383, 'duoc': -34.517317513247505, 'nguoi': -26.480657038855885, 'trong': -55.692286038668776} predict: nguoi\n",
      "nguoi {'cothe': -44.0974292603012, 'da': -41.60390082227644, 'duoc': -33.99527312671831, 'nguoi': -35.1211090590586, 'trong': -73.72744268333683} predict: duoc\n",
      "nguoi {'cothe': -47.62753938048389, 'da': -41.078233773239866, 'duoc': -40.012500788413796, 'nguoi': -13.727965170848107, 'trong': -93.17272977370627} predict: nguoi\n",
      "nguoi {'cothe': -55.2830613667189, 'da': -51.29661482034879, 'duoc': -52.00647029834853, 'nguoi': -32.501728062260334, 'trong': -104.12938724502344} predict: nguoi\n",
      "nguoi {'cothe': -61.333783926651506, 'da': -56.979356767785774, 'duoc': -112.13448773646324, 'nguoi': -28.731511820459403, 'trong': -117.50510361000558} predict: nguoi\n",
      "nguoi {'cothe': -41.276102223804806, 'da': -36.239728203595156, 'duoc': -32.40587185882773, 'nguoi': -21.78189870161384, 'trong': -57.29287358958952} predict: nguoi\n",
      "nguoi {'cothe': -44.80366219841234, 'da': -32.68532804146045, 'duoc': -36.36668354712664, 'nguoi': -17.413642686097006, 'trong': -102.03858158539977} predict: nguoi\n",
      "nguoi {'cothe': -49.33805698004575, 'da': -52.399890777936776, 'duoc': -44.934159779355696, 'nguoi': -28.68285137352841, 'trong': -71.68003812885075} predict: nguoi\n",
      "nguoi {'cothe': -38.99370821512386, 'da': -28.99433687294688, 'duoc': -33.40838510136677, 'nguoi': -17.097358687228304, 'trong': -67.6901553006554} predict: nguoi\n",
      "nguoi {'cothe': -42.754818396616336, 'da': -26.04693237973461, 'duoc': -31.06029883172022, 'nguoi': -26.671782647180976, 'trong': -47.73827405248704} predict: da\n",
      "nguoi {'cothe': -39.920682177541714, 'da': -20.596824426891796, 'duoc': -21.20293126044679, 'nguoi': -19.84360040084294, 'trong': -47.21307561793331} predict: nguoi\n",
      "nguoi {'cothe': -36.34038857505781, 'da': -33.32941934009668, 'duoc': -37.34770204360417, 'nguoi': -22.444512687771226, 'trong': -59.04056061938087} predict: nguoi\n",
      "nguoi {'cothe': -45.657543320996666, 'da': -35.40441803627081, 'duoc': -30.546924048854773, 'nguoi': -16.820434438647926, 'trong': -79.43282873525533} predict: nguoi\n",
      "nguoi {'cothe': -36.35273137556813, 'da': -30.5643958772544, 'duoc': -29.778465658371772, 'nguoi': -20.311322086408826, 'trong': -62.19988309843933} predict: nguoi\n",
      "nguoi {'cothe': -39.797681526850475, 'da': -39.290228494639834, 'duoc': -63.565530170857514, 'nguoi': -19.256590561170757, 'trong': -75.40208556196832} predict: nguoi\n",
      "nguoi {'cothe': -35.078168104898396, 'da': -32.00221279883244, 'duoc': -37.23238745863656, 'nguoi': -25.060503258621708, 'trong': -49.18937955783212} predict: nguoi\n",
      "trong {'cothe': -192.80772461720545, 'da': -46.795169322052416, 'duoc': -70.867672682919, 'nguoi': -128.85488440350298, 'trong': -24.2249525614487} predict: trong\n",
      "trong {'cothe': -106.53055993853806, 'da': -53.44131364728528, 'duoc': -114.78890892897208, 'nguoi': -352.5757012446938, 'trong': -29.429015171361417} predict: trong\n",
      "trong {'cothe': -198.70956012942656, 'da': -50.317109241538795, 'duoc': -89.14732499425001, 'nguoi': -188.18450402497993, 'trong': -27.451274967032543} predict: trong\n",
      "trong {'cothe': -164.84007457326203, 'da': -59.97375177495132, 'duoc': -48.70863839353858, 'nguoi': -60.9337884982407, 'trong': -28.117424064239678} predict: trong\n",
      "trong {'cothe': -140.05849946935217, 'da': -49.64051020109131, 'duoc': -46.52259574014406, 'nguoi': -66.92911546057103, 'trong': -31.051293994344977} predict: trong\n",
      "trong {'cothe': -94.10100879181785, 'da': -51.127170139422276, 'duoc': -44.98768236596792, 'nguoi': -71.40893200184358, 'trong': -33.333540122345646} predict: trong\n",
      "trong {'cothe': -238.6142044032068, 'da': -47.37016697233708, 'duoc': -45.49708491829751, 'nguoi': -64.08243599925551, 'trong': -26.010661872989203} predict: trong\n",
      "trong {'cothe': -195.41688286960044, 'da': -53.89648364227332, 'duoc': -151.68104105892948, 'nguoi': -357.81325852718624, 'trong': -31.119686215523306} predict: trong\n",
      "trong {'cothe': -182.87104375692877, 'da': -66.6177503540639, 'duoc': -59.48565151461236, 'nguoi': -86.34705272034958, 'trong': -25.43826586528836} predict: trong\n",
      "trong {'cothe': -99.8501589787541, 'da': -44.34963091297153, 'duoc': -34.84785537351131, 'nguoi': -58.76946782974421, 'trong': -34.78483839305832} predict: trong\n",
      "trong {'cothe': -82.69167751487983, 'da': -38.869783104651916, 'duoc': -34.35773363122252, 'nguoi': -55.91358969158118, 'trong': -22.995941057481552} predict: trong\n",
      "trong {'cothe': -71.80145710570147, 'da': -56.84207022066518, 'duoc': -81.4182624649675, 'nguoi': -129.86662638875035, 'trong': -49.14006313495203} predict: trong\n",
      "trong {'cothe': -74.01723508719816, 'da': -54.10537672657543, 'duoc': -87.68139563154544, 'nguoi': -245.12882292150718, 'trong': -45.617196238628374} predict: trong\n",
      "trong {'cothe': -103.17333377466764, 'da': -65.77073882561773, 'duoc': -107.47604629052664, 'nguoi': -254.21089619018352, 'trong': -35.62027858975908} predict: trong\n",
      "trong {'cothe': -82.30999175505795, 'da': -37.21451035233174, 'duoc': -62.02251049669592, 'nguoi': -108.29949697130725, 'trong': -36.33590360735878} predict: trong\n",
      "trong {'cothe': -213.21234283370504, 'da': -66.39097270876273, 'duoc': -59.968617220023745, 'nguoi': -80.05777154118613, 'trong': -35.98791694526063} predict: trong\n",
      "trong {'cothe': -76.61684073779966, 'da': -51.025675476798085, 'duoc': -66.92459562293412, 'nguoi': -218.22656907798606, 'trong': -41.77763833003296} predict: trong\n",
      "trong {'cothe': -49.43652663566226, 'da': -45.18856721851101, 'duoc': -45.878696240292456, 'nguoi': -49.55817331711334, 'trong': -31.495985834776498} predict: trong\n",
      "trong {'cothe': -50.7020326330684, 'da': -49.84620176305202, 'duoc': -49.46568715036456, 'nguoi': -55.431659450261265, 'trong': -75.0085097191674} predict: duoc\n",
      "trong {'cothe': -77.75849218393647, 'da': -38.92056564269017, 'duoc': -40.289349811318175, 'nguoi': -41.71271340741307, 'trong': -36.97685367754315} predict: trong\n",
      "trong {'cothe': -65.7469151926517, 'da': -50.47334531030907, 'duoc': -31.318133523300716, 'nguoi': -47.92224873734111, 'trong': -51.092159037301464} predict: duoc\n",
      "trong {'cothe': -157.30534163277295, 'da': -52.00183835787716, 'duoc': -64.56011589693011, 'nguoi': -185.10244550055407, 'trong': -33.47976857952149} predict: trong\n",
      "trong {'cothe': -74.3153776582641, 'da': -52.447873308258394, 'duoc': -52.0032288706331, 'nguoi': -58.082362729209265, 'trong': -55.291497681005495} predict: duoc\n",
      "trong {'cothe': -159.9256347770266, 'da': -106.11406366105257, 'duoc': -116.6820993548047, 'nguoi': -inf, 'trong': -156.4981843454992} predict: da\n",
      "trong {'cothe': -68.91161655082041, 'da': -41.89100150959978, 'duoc': -41.45087553377277, 'nguoi': -48.50089309271878, 'trong': -33.06519359327355} predict: trong\n",
      "trong {'cothe': -171.8384633232711, 'da': -48.03978528734855, 'duoc': -45.456354255387765, 'nguoi': -60.10223643849868, 'trong': -37.75313527475513} predict: trong\n"
     ]
    }
   ],
   "source": [
    "print(\"Testing\")\n",
    "n_correct = {'cothe': 0, 'da': 0, 'duoc': 0, 'nguoi': 0,'trong': 0}\n",
    "for true_cname in class_names:\n",
    "    for O in testset[true_cname]:\n",
    "        score = {cname: model.score(O, [len(O)]) for cname, model in models.items()}\n",
    "        if (true_cname == max(score, key=score.get)): n_correct[true_cname] += 1\n",
    "        print(true_cname, score, 'predict:', max(score, key=score.get))"
   ]
  },
  {
   "cell_type": "code",
   "execution_count": null,
   "metadata": {},
   "outputs": [],
   "source": []
  },
  {
   "cell_type": "code",
   "execution_count": 310,
   "metadata": {},
   "outputs": [
    {
     "name": "stdout",
     "output_type": "stream",
     "text": [
      "Accuracy: cothe 0.68\n",
      "Accuracy: da 0.75\n",
      "Accuracy: duoc 0.7619047619047619\n",
      "Accuracy: nguoi 0.8\n",
      "Accuracy: trong 0.8461538461538461\n"
     ]
    }
   ],
   "source": [
    "for cname in class_names:\n",
    "    print('Accuracy:', cname, n_correct[cname]/n_test[cname])"
   ]
  },
  {
   "cell_type": "code",
   "execution_count": null,
   "metadata": {},
   "outputs": [],
   "source": []
  },
  {
   "cell_type": "code",
   "execution_count": 311,
   "metadata": {},
   "outputs": [
    {
     "name": "stdout",
     "output_type": "stream",
     "text": [
      "All Accuracy: 0.7672413793103449\n"
     ]
    }
   ],
   "source": [
    "print('All Accuracy:', sum(n_correct.values())/sum(n_test.values()))"
   ]
  },
  {
   "cell_type": "code",
   "execution_count": 312,
   "metadata": {},
   "outputs": [
    {
     "name": "stdout",
     "output_type": "stream",
     "text": [
      "Testing testDataSet\n",
      "da {'cothe': -125.39408537542131, 'da': -76.89664328852531, 'duoc': -57.755110209924574, 'nguoi': -91.81986249205448, 'trong': -125.37273700267481} predict: duoc\n",
      "da {'cothe': -83.03533608782242, 'da': -28.194905836668756, 'duoc': -41.72894709808951, 'nguoi': -31.291251955961894, 'trong': -51.127452089771346} predict: da\n",
      "da {'cothe': -242.00705465805584, 'da': -56.274530269660914, 'duoc': -53.810564508358915, 'nguoi': -3395.4022616295338, 'trong': -686.9043890210642} predict: duoc\n",
      "da {'cothe': -165.43052267837012, 'da': -30.914299651460038, 'duoc': -46.0146842355355, 'nguoi': -35.65947309335265, 'trong': -97.56380764963929} predict: da\n",
      "da {'cothe': -66.86608138331907, 'da': -34.45970545027512, 'duoc': -40.19358497247924, 'nguoi': -51.364699724874626, 'trong': -54.321058837614075} predict: da\n",
      "da {'cothe': -52.932105759045754, 'da': -35.38491834027571, 'duoc': -29.918581770237953, 'nguoi': -41.70721292477989, 'trong': -45.34407478954438} predict: duoc\n",
      "da {'cothe': -50.74695939479582, 'da': -27.760237748651843, 'duoc': -29.33179351911482, 'nguoi': -37.77239887457491, 'trong': -56.44744813707828} predict: da\n",
      "da {'cothe': -62.14171508748498, 'da': -26.49903715660374, 'duoc': -30.654799932163296, 'nguoi': -28.376577837469938, 'trong': -57.063185752064754} predict: da\n",
      "da {'cothe': -74.62102898490899, 'da': -36.40207821480811, 'duoc': -33.30395614695498, 'nguoi': -52.77876288465539, 'trong': -60.20942272583652} predict: duoc\n",
      "da {'cothe': -61.45096093492779, 'da': -31.75865300299019, 'duoc': -46.14270389612944, 'nguoi': -30.903032042782673, 'trong': -70.57390921906062} predict: nguoi\n",
      "duoc {'cothe': -175.75902260405806, 'da': -50.65861988772485, 'duoc': -31.776010126329687, 'nguoi': -73.14149269517223, 'trong': -50.611570953886364} predict: duoc\n",
      "duoc {'cothe': -57.970572856097625, 'da': -44.89802875180839, 'duoc': -26.762863170676095, 'nguoi': -85.98271086073973, 'trong': -53.08053587545376} predict: duoc\n",
      "duoc {'cothe': -206.47071407546875, 'da': -46.662669813763976, 'duoc': -37.91216379537407, 'nguoi': -inf, 'trong': -319.23944629165544} predict: duoc\n",
      "duoc {'cothe': -215.82156254023718, 'da': -36.719422444604106, 'duoc': -25.09217165098176, 'nguoi': -37.42407454651995, 'trong': -45.881193754391504} predict: duoc\n",
      "duoc {'cothe': -43.24442976086356, 'da': -28.294399599210863, 'duoc': -22.113919648647677, 'nguoi': -34.09538991329265, 'trong': -45.486098209557724} predict: duoc\n",
      "duoc {'cothe': -212.95814484451827, 'da': -25.87080561423749, 'duoc': -26.268100850344606, 'nguoi': -34.79594928351536, 'trong': -26.207414743008616} predict: da\n",
      "duoc {'cothe': -199.0379239298337, 'da': -30.48172058742113, 'duoc': -25.869051974221247, 'nguoi': -33.256958160273356, 'trong': -57.00551486272038} predict: duoc\n",
      "duoc {'cothe': -195.04092777163984, 'da': -33.65064897054502, 'duoc': -24.4287233822596, 'nguoi': -39.98355535228946, 'trong': -44.96072702272987} predict: duoc\n",
      "duoc {'cothe': -62.9851475881683, 'da': -32.125037551258, 'duoc': -22.849643808509487, 'nguoi': -34.56096181971462, 'trong': -25.66320657533612} predict: duoc\n",
      "duoc {'cothe': -189.3473603651798, 'da': -27.171492502820936, 'duoc': -26.091333681933843, 'nguoi': -31.090051718503805, 'trong': -37.68250228641948} predict: duoc\n",
      "trong {'cothe': -187.72810109327733, 'da': -228.97618114006895, 'duoc': -80.21259356396624, 'nguoi': -289.3380387853395, 'trong': -85.65486772601943} predict: duoc\n",
      "trong {'cothe': -208.82730641890927, 'da': -171.25919631793877, 'duoc': -96.92752228461417, 'nguoi': -inf, 'trong': -94.1780490641503} predict: trong\n",
      "trong {'cothe': -123.13757368147589, 'da': -74.75775553923343, 'duoc': -68.05594149260725, 'nguoi': -86.29892191872369, 'trong': -41.84871122359488} predict: trong\n",
      "trong {'cothe': -277.81596689962083, 'da': -68.9954809698058, 'duoc': -58.92354401185404, 'nguoi': -84.96444062518071, 'trong': -36.446400116800056} predict: trong\n",
      "trong {'cothe': -258.18785507662216, 'da': -56.89947942074653, 'duoc': -54.26413345547965, 'nguoi': -69.95057040460777, 'trong': -31.798758568475552} predict: trong\n",
      "trong {'cothe': -134.51798297109286, 'da': -76.72548252721785, 'duoc': -61.049167522819026, 'nguoi': -95.88004312101756, 'trong': -47.89269491686125} predict: trong\n",
      "trong {'cothe': -200.34680278341867, 'da': -49.98515982818188, 'duoc': -36.61874175820789, 'nguoi': -66.99774066252218, 'trong': -37.46858349716303} predict: duoc\n",
      "trong {'cothe': -265.0499634364515, 'da': -61.40764492554278, 'duoc': -51.2426344942687, 'nguoi': -73.59331306561404, 'trong': -34.763242739398834} predict: trong\n",
      "trong {'cothe': -168.38817588807774, 'da': -58.290348089880446, 'duoc': -48.461885393378154, 'nguoi': -71.41272002172819, 'trong': -39.4122639302038} predict: trong\n",
      "trong {'cothe': -inf, 'da': -58.625042137088634, 'duoc': -56.3437026514409, 'nguoi': -438.1714981443502, 'trong': -35.06327985251075} predict: trong\n",
      "nguoi {'cothe': -53.440968335433794, 'da': -54.131648221591966, 'duoc': -98.19194964646087, 'nguoi': -42.936454054080606, 'trong': -83.93153729900338} predict: nguoi\n",
      "nguoi {'cothe': -38.912889053996544, 'da': -37.74924828754517, 'duoc': -53.255581105571096, 'nguoi': -22.38543101757743, 'trong': -70.07841057567512} predict: nguoi\n",
      "nguoi {'cothe': -67.15498428237574, 'da': -60.26508659977592, 'duoc': -304.92327505690287, 'nguoi': -77.40790952592351, 'trong': -118.73766309971074} predict: da\n",
      "nguoi {'cothe': -56.72164628587237, 'da': -40.04206946571911, 'duoc': -78.90974499747553, 'nguoi': -39.44526632690336, 'trong': -93.25661701955926} predict: nguoi\n",
      "nguoi {'cothe': -66.24657106177352, 'da': -44.3528123123358, 'duoc': -111.00118739276648, 'nguoi': -51.90447000836798, 'trong': -97.03524262188762} predict: da\n",
      "nguoi {'cothe': -53.35287547911769, 'da': -30.887239695224462, 'duoc': -31.187112437360796, 'nguoi': -37.52482134618032, 'trong': -45.6342403094183} predict: da\n",
      "nguoi {'cothe': -47.75706626329771, 'da': -35.239993345776774, 'duoc': -118.58054743341636, 'nguoi': -38.066342661937654, 'trong': -89.70801651833459} predict: da\n",
      "nguoi {'cothe': -77.64204171905581, 'da': -43.90314853419582, 'duoc': -43.888625926492246, 'nguoi': -42.17876442021733, 'trong': -64.75442645071477} predict: nguoi\n",
      "nguoi {'cothe': -62.83453453372115, 'da': -34.224792695054866, 'duoc': -41.88367468103247, 'nguoi': -38.83698667961756, 'trong': -90.03744470430652} predict: da\n",
      "nguoi {'cothe': -64.53916999742967, 'da': -55.60328327053966, 'duoc': -118.73315554074624, 'nguoi': -38.50407955607254, 'trong': -114.09270567133949} predict: nguoi\n",
      "cothe {'cothe': -75.41621543643284, 'da': -846.6768877634981, 'duoc': -147.69768435273164, 'nguoi': -650.7631653387672, 'trong': -257.80973235262854} predict: cothe\n",
      "cothe {'cothe': -114.96878764203525, 'da': -700.3442667634798, 'duoc': -123.973855341281, 'nguoi': -inf, 'trong': -903.4285323583193} predict: cothe\n",
      "cothe {'cothe': -150.08309232611785, 'da': -1121.7037026776347, 'duoc': -321.00795245641604, 'nguoi': -inf, 'trong': -862.4859770723058} predict: cothe\n",
      "cothe {'cothe': -71.40958689749438, 'da': -832.0243305941632, 'duoc': -311.3162371884008, 'nguoi': -inf, 'trong': -712.4424288947858} predict: cothe\n",
      "cothe {'cothe': -178.11093387601275, 'da': -702.070666977756, 'duoc': -259.62849010504306, 'nguoi': -inf, 'trong': -746.148633163751} predict: cothe\n",
      "cothe {'cothe': -78.68323595000211, 'da': -1358.9643390591013, 'duoc': -124.61991070220397, 'nguoi': -inf, 'trong': -1013.320863666769} predict: cothe\n",
      "cothe {'cothe': -97.37315169463976, 'da': -977.1546212500947, 'duoc': -260.21875714018654, 'nguoi': -inf, 'trong': -970.9792076228442} predict: cothe\n",
      "cothe {'cothe': -66.34721133839747, 'da': -1113.7022465930838, 'duoc': -125.44172002434094, 'nguoi': -inf, 'trong': -790.641133459713} predict: cothe\n",
      "cothe {'cothe': -205.49567915145585, 'da': -981.6787028158528, 'duoc': -838.9108122201203, 'nguoi': -1227.2040041517116, 'trong': -195.65207732961304} predict: trong\n",
      "cothe {'cothe': -128.06996466543234, 'da': -557.1456447331525, 'duoc': -157.32031773000566, 'nguoi': -inf, 'trong': -686.4584937264362} predict: cothe\n"
     ]
    }
   ],
   "source": [
    "print(\"Testing testDataSet\")\n",
    "n_correct = {'cothe': 0, 'da': 0, 'duoc': 0, 'nguoi': 0,'trong': 0}\n",
    "for true_cname in testClass_names:\n",
    "    for O in testDataSet[true_cname]:\n",
    "        score = {cname: model.score(O, [len(O)]) for cname, model in models.items()}\n",
    "        if (true_cname == max(score, key=score.get)): n_correct[true_cname] += 1\n",
    "        print(true_cname, score, 'predict:', max(score, key=score.get))"
   ]
  },
  {
   "cell_type": "code",
   "execution_count": 313,
   "metadata": {},
   "outputs": [
    {
     "name": "stdout",
     "output_type": "stream",
     "text": [
      "Accuracy: da 0.20833333333333334\n",
      "Accuracy: duoc 0.42857142857142855\n",
      "Accuracy: trong 0.3076923076923077\n",
      "Accuracy: nguoi 0.25\n",
      "Accuracy: cothe 0.36\n"
     ]
    }
   ],
   "source": [
    "for cname in testClass_names:\n",
    "    print('Accuracy:', cname, n_correct[cname]/n_test[cname])"
   ]
  },
  {
   "cell_type": "code",
   "execution_count": 314,
   "metadata": {},
   "outputs": [
    {
     "name": "stdout",
     "output_type": "stream",
     "text": [
      "{'cothe': 25, 'da': 24, 'duoc': 21, 'nguoi': 20, 'trong': 26}\n"
     ]
    }
   ],
   "source": [
    "print(n_test)"
   ]
  },
  {
   "cell_type": "code",
   "execution_count": 315,
   "metadata": {},
   "outputs": [],
   "source": [
    "#np.around(models['trong'].transmat_, 2)"
   ]
  },
  {
   "cell_type": "code",
   "execution_count": null,
   "metadata": {},
   "outputs": [],
   "source": []
  }
 ],
 "metadata": {
  "kernelspec": {
   "display_name": "Python 3",
   "language": "python",
   "name": "python3"
  },
  "language_info": {
   "codemirror_mode": {
    "name": "ipython",
    "version": 3
   },
   "file_extension": ".py",
   "mimetype": "text/x-python",
   "name": "python",
   "nbconvert_exporter": "python",
   "pygments_lexer": "ipython3",
   "version": "3.7.7"
  }
 },
 "nbformat": 4,
 "nbformat_minor": 4
}
