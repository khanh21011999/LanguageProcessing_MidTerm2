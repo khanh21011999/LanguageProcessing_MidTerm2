{
 "cells": [
  {
   "cell_type": "code",
   "execution_count": 1,
   "metadata": {},
   "outputs": [
    {
     "name": "stderr",
     "output_type": "stream",
     "text": [
      "c:\\program files\\python37\\lib\\site-packages\\librosa\\util\\decorators.py:9: NumbaDeprecationWarning: \u001b[1mAn import was requested from a module that has moved location.\n",
      "Import requested from: 'numba.decorators', please update to use 'numba.core.decorators' or pin to Numba version 0.48.0. This alias will not be present in Numba version 0.50.0.\u001b[0m\n",
      "  from numba.decorators import jit as optional_jit\n",
      "c:\\program files\\python37\\lib\\site-packages\\librosa\\util\\decorators.py:9: NumbaDeprecationWarning: \u001b[1mAn import was requested from a module that has moved location.\n",
      "Import of 'jit' requested from: 'numba.decorators', please update to use 'numba.core.decorators' or pin to Numba version 0.48.0. This alias will not be present in Numba version 0.50.0.\u001b[0m\n",
      "  from numba.decorators import jit as optional_jit\n"
     ]
    }
   ],
   "source": [
    "import librosa\n",
    "import numpy as np\n",
    "import os\n",
    "import math\n",
    "from sklearn.cluster import KMeans\n",
    "import hmmlearn.hmm"
   ]
  },
  {
   "cell_type": "markdown",
   "metadata": {},
   "source": [
    "## Get MFCC function"
   ]
  },
  {
   "cell_type": "code",
   "execution_count": 2,
   "metadata": {},
   "outputs": [],
   "source": [
    "# read file\n",
    "def get_mfcc(file_path):\n",
    "    y, sr = librosa.load(file_path) # read .wav file\n",
    "    hop_length = math.floor(sr*0.010) # 10ms hop\n",
    "    win_length = math.floor(sr*0.025) # 25ms frame\n",
    "    # mfcc is 12 x T matrix\n",
    "    mfcc = librosa.feature.mfcc(\n",
    "        y, sr, n_mfcc=12, n_fft=1024,\n",
    "        hop_length=hop_length, win_length=win_length)\n",
    "    # substract mean from mfcc --> normalize mfcc\n",
    "    mfcc = mfcc - np.mean(mfcc, axis=1).reshape((-1,1)) \n",
    "    # delta feature 1st order and 2nd order\n",
    "    delta1 = librosa.feature.delta(mfcc, order=1)\n",
    "    delta2 = librosa.feature.delta(mfcc, order=2)\n",
    "    # X is 36 x T\n",
    "    X = np.concatenate([mfcc, delta1, delta2], axis=0) # O^r\n",
    "    # return T x 36 (transpose of X)\n",
    "    return X.T # hmmlearn use T x N matrix"
   ]
  },
  {
   "cell_type": "markdown",
   "metadata": {},
   "source": [
    "## lấy mfcc của tất cả các file trong dir"
   ]
  },
  {
   "cell_type": "code",
   "execution_count": 3,
   "metadata": {},
   "outputs": [],
   "source": [
    "# lấy mfcc của tất cả các file wav trong wav\n",
    "def get_class_data(data_dir):\n",
    "    files = os.listdir(data_dir)\n",
    "    mfcc = [get_mfcc(os.path.join(data_dir,f)) for f in files if f.endswith(\".wav\")]\n",
    "    return mfcc"
   ]
  },
  {
   "cell_type": "markdown",
   "metadata": {},
   "source": [
    "## Hàm Clustering"
   ]
  },
  {
   "cell_type": "code",
   "execution_count": 4,
   "metadata": {},
   "outputs": [],
   "source": [
    "def clustering(X, n_clusters=14):\n",
    "    kmeans = KMeans(n_clusters=n_clusters, n_init=50, random_state=0, verbose=0)\n",
    "    kmeans.fit(X)\n",
    "    print(\"centers\", kmeans.cluster_centers_.shape)\n",
    "    return kmeans"
   ]
  },
  {
   "cell_type": "markdown",
   "metadata": {},
   "source": [
    "## Data"
   ]
  },
  {
   "cell_type": "code",
   "execution_count": 5,
   "metadata": {},
   "outputs": [
    {
     "name": "stdout",
     "output_type": "stream",
     "text": [
      "Load cothe dataset\n",
      "Load chungta dataset\n",
      "Load duoc dataset\n",
      "Load nguoi dataset\n",
      "Load trong dataset\n"
     ]
    }
   ],
   "source": [
    "class_names = ['cothe', 'chungta', 'duoc', 'nguoi','trong']\n",
    "dataset = {}\n",
    "for cname in class_names:\n",
    "    print(f\"Load {cname} dataset\")\n",
    "    dataset[cname] = get_class_data(os.path.join('data',cname))"
   ]
  },
  {
   "cell_type": "code",
   "execution_count": 6,
   "metadata": {},
   "outputs": [
    {
     "name": "stdout",
     "output_type": "stream",
     "text": [
      "124\n",
      "100\n",
      "105\n",
      "100\n",
      "150\n"
     ]
    }
   ],
   "source": [
    "print(len(dataset['cothe']))\n",
    "print(len(dataset['chungta']))\n",
    "print(len(dataset['duoc']))\n",
    "print(len(dataset['nguoi']))\n",
    "print(len(dataset['trong']))"
   ]
  },
  {
   "cell_type": "code",
   "execution_count": 7,
   "metadata": {},
   "outputs": [
    {
     "name": "stdout",
     "output_type": "stream",
     "text": [
      "Load chungta testDataSet\n",
      "Load duoc testDataSet\n",
      "Load trong testDataSet\n",
      "Load nguoi testDataSet\n",
      "Load cothe testDataSet\n",
      "5\n",
      "5\n",
      "5\n",
      "5\n",
      "5\n",
      "{'cothe': 5, 'chungta': 5, 'duoc': 5, 'nguoi': 5, 'trong': 5}\n"
     ]
    }
   ],
   "source": [
    "testClass_names = ['chungta', 'duoc', 'trong', 'nguoi', 'cothe']\n",
    "n_testDataSet = {'cothe': 0, 'chungta': 0, 'duoc': 0, 'nguoi': 0,'trong': 0}\n",
    "testDataSet = {}\n",
    "for cname in testClass_names:\n",
    "    print(f\"Load {cname} testDataSet\")\n",
    "    testDataSet[cname] = get_class_data(os.path.join('test', cname))\n",
    "    n_testDataSet[cname] = len(testDataSet[cname])\n",
    "print(len(testDataSet['chungta']))\n",
    "print(len(testDataSet['duoc']))\n",
    "print(len(testDataSet['trong']))\n",
    "print(len(testDataSet['nguoi']))\n",
    "print(len(testDataSet['cothe']))\n",
    "print(n_testDataSet)"
   ]
  },
  {
   "cell_type": "markdown",
   "metadata": {},
   "source": [
    "## split train test"
   ]
  },
  {
   "cell_type": "code",
   "execution_count": 8,
   "metadata": {},
   "outputs": [
    {
     "name": "stdout",
     "output_type": "stream",
     "text": [
      "99\n",
      "80\n",
      "84\n",
      "80\n",
      "120\n"
     ]
    }
   ],
   "source": [
    "trainset = {}\n",
    "testset = {}\n",
    "n_test = {'cothe': 0, 'chungta': 0, 'duoc': 0, 'nguoi': 0,'trong': 0}\n",
    "for cname in class_names:\n",
    "    n = len(dataset[cname])\n",
    "    n_train = math.floor(n*0.8)\n",
    "    trainset[cname] = dataset[cname][:n_train]\n",
    "    testset[cname] = dataset[cname][n_train:]\n",
    "    n_test[cname] += len(testset[cname])\n",
    "    \n",
    "print(len(trainset['cothe']))\n",
    "print(len(trainset['chungta']))\n",
    "print(len(trainset['duoc']))\n",
    "print(len(trainset['nguoi']))\n",
    "print(len(trainset['trong']))"
   ]
  },
  {
   "cell_type": "markdown",
   "metadata": {},
   "source": [
    "## Fit kmeans trên tập train"
   ]
  },
  {
   "cell_type": "code",
   "execution_count": 9,
   "metadata": {},
   "outputs": [
    {
     "name": "stdout",
     "output_type": "stream",
     "text": [
      "vectors (14257, 36)\n",
      "centers (14, 36)\n",
      "centers (14, 36)\n",
      "KMeans(algorithm='auto', copy_x=True, init='k-means++', max_iter=300,\n",
      "       n_clusters=14, n_init=50, n_jobs=None, precompute_distances='auto',\n",
      "       random_state=0, tol=0.0001, verbose=0)\n"
     ]
    }
   ],
   "source": [
    "# Get all vectors in the datasets\n",
    "all_vectors = np.concatenate([np.concatenate(v, axis=0) for k, v in trainset.items()], axis=0)\n",
    "print(\"vectors\", all_vectors.shape)\n",
    "# Run K-Means algorithm to get clusters\n",
    "kmeans = clustering(all_vectors)\n",
    "print(\"centers\", kmeans.cluster_centers_.shape)\n",
    "print(kmeans)"
   ]
  },
  {
   "cell_type": "code",
   "execution_count": 10,
   "metadata": {},
   "outputs": [],
   "source": [
    "for cname in class_names:\n",
    "    trainset[cname] = list([kmeans.predict(v).reshape(-1, 1) for v in trainset[cname]])\n",
    "    testset[cname] = list([kmeans.predict(v).reshape(-1, 1) for v in testset[cname]])\n",
    "for cname in testClass_names:\n",
    "    testDataSet[cname] = list([kmeans.predict(v).reshape(-1, 1) for v in testDataSet[cname]])\n",
    "    \n",
    "    "
   ]
  },
  {
   "cell_type": "markdown",
   "metadata": {},
   "source": [
    "# Train"
   ]
  },
  {
   "cell_type": "code",
   "execution_count": 11,
   "metadata": {},
   "outputs": [],
   "source": [
    "models = {}"
   ]
  },
  {
   "cell_type": "markdown",
   "metadata": {},
   "source": [
    "## Models cho 'có thể' 4x3"
   ]
  },
  {
   "cell_type": "code",
   "execution_count": 12,
   "metadata": {},
   "outputs": [
    {
     "name": "stdout",
     "output_type": "stream",
     "text": [
      "training class cothe\n",
      "(4501, 1) [34, 31, 56, 39, 44, 40, 46, 35, 45, 47, 37, 56, 36, 31, 39, 35, 42, 30, 30, 37, 36, 39, 26, 34, 47, 36, 41, 34, 26, 30, 25, 27, 16, 39, 27, 52, 25, 27, 20, 22, 36, 53, 44, 44, 28, 57, 53, 36, 37, 30, 34, 38, 51, 43, 40, 47, 38, 44, 102, 44, 52, 56, 35, 37, 39, 25, 41, 52, 43, 33, 49, 59, 35, 42, 40, 37, 40, 35, 36, 28, 45, 44, 23, 30, 48, 35, 32, 35, 35, 26, 36, 43, 45, 62, 165, 163, 179, 165, 158] 99\n"
     ]
    },
    {
     "name": "stderr",
     "output_type": "stream",
     "text": [
      "         1      -11236.2083             +nan\n",
      "         2       -8061.2830       +3174.9253\n",
      "         3       -7035.6852       +1025.5978\n",
      "         4       -6801.1138        +234.5715\n",
      "         5       -6705.6262         +95.4876\n",
      "         6       -6659.4709         +46.1553\n",
      "         7       -6599.8659         +59.6050\n",
      "         8       -6468.8281        +131.0378\n",
      "         9       -6401.4080         +67.4201\n",
      "        10       -6249.9008        +151.5072\n",
      "        11       -6183.5637         +66.3371\n",
      "        12       -6178.4992          +5.0645\n",
      "        13       -6175.1820          +3.3172\n",
      "        14       -6172.6610          +2.5210\n",
      "        15       -6169.7157          +2.9453\n",
      "        16       -6164.2804          +5.4353\n",
      "        17       -6155.4603          +8.8201\n",
      "        18       -6146.2674          +9.1928\n",
      "        19       -6141.7276          +4.5398\n",
      "        20       -6138.1080          +3.6196\n",
      "        21       -6134.8941          +3.2139\n",
      "        22       -6133.9149          +0.9792\n",
      "        23       -6133.3603          +0.5547\n",
      "        24       -6132.9596          +0.4006\n",
      "        25       -6132.6643          +0.2953\n",
      "        26       -6132.4471          +0.2172\n",
      "        27       -6131.9108          +0.5363\n",
      "        28       -6129.5140          +2.3968\n",
      "        29       -6128.1227          +1.3912\n",
      "        30       -6127.7121          +0.4106\n",
      "        31       -6127.5443          +0.1678\n",
      "        32       -6127.4693          +0.0750\n",
      "        33       -6127.4314          +0.0379\n",
      "        34       -6127.4106          +0.0208\n"
     ]
    },
    {
     "name": "stdout",
     "output_type": "stream",
     "text": [
      "Training done\n"
     ]
    },
    {
     "name": "stderr",
     "output_type": "stream",
     "text": [
      "        35       -6127.3987          +0.0119\n",
      "        36       -6127.3915          +0.0072\n"
     ]
    }
   ],
   "source": [
    "hmm = hmmlearn.hmm.MultinomialHMM(n_components=4*3, random_state=0, n_iter=1000, verbose=True, init_params='e', params='ste')\n",
    "hmm.startprob_ = np.array([0.7, 0.2, 0.1, 0.0, 0.0, 0.0, 0.0, 0.0, 0.0, 0.0, 0.0, 0.0, ])\n",
    "hmm.transmat_ =np.array([\n",
    "    [0.7, 0.2, 0.1, 0.0, 0.0, 0.0, 0.0, 0.0, 0.0, 0.0, 0.0, 0.0, ],\n",
    "    [0.0, 0.7, 0.2, 0.1, 0.0, 0.0, 0.0, 0.0, 0.0, 0.0, 0.0, 0.0, ],\n",
    "    [0.0, 0.0, 0.7, 0.2, 0.1, 0.0, 0.0, 0.0, 0.0, 0.0, 0.0, 0.0, ],\n",
    "    [0.0, 0.0, 0.0, 0.7, 0.2, 0.1, 0.0, 0.0, 0.0, 0.0, 0.0, 0.0, ],\n",
    "    [0.0, 0.0, 0.0, 0.0, 0.7, 0.2, 0.1, 0.0, 0.0, 0.0, 0.0, 0.0, ],\n",
    "    [0.0, 0.0, 0.0, 0.0, 0.0, 0.7, 0.2, 0.1, 0.0, 0.0, 0.0, 0.0, ],\n",
    "    [0.0, 0.0, 0.0, 0.0, 0.0, 0.0, 0.7, 0.2, 0.1, 0.0, 0.0, 0.0, ],\n",
    "    [0.0, 0.0, 0.0, 0.0, 0.0, 0.0, 0.0, 0.7, 0.2, 0.1, 0.0, 0.0, ],\n",
    "    [0.0, 0.0, 0.0, 0.0, 0.0, 0.0, 0.0, 0.0, 0.7, 0.2, 0.1, 0.0, ],\n",
    "    [0.0, 0.0, 0.0, 0.0, 0.0, 0.0, 0.0, 0.0, 0.0, 0.7, 0.2, 0.1, ],\n",
    "    [0.0, 0.0, 0.0, 0.0, 0.0, 0.0, 0.0, 0.0, 0.0, 0.0, 0.7, 0.3, ],\n",
    "    [0.0, 0.0, 0.0, 0.0, 0.0, 0.0, 0.0, 0.0, 0.0, 0.0, 0.0, 1.0, ],])\n",
    "\n",
    "\n",
    "Xbn = np.concatenate(trainset['cothe'])\n",
    "lengths = list([len(x) for x in trainset['cothe']])\n",
    "print(\"training class\", 'cothe')\n",
    "print(Xbn.shape, lengths, len(lengths))\n",
    "hmm.fit(Xbn, lengths=lengths)\n",
    "models['cothe'] = hmm\n",
    "print(\"Training done\")"
   ]
  },
  {
   "cell_type": "markdown",
   "metadata": {},
   "source": [
    "#Models cho 'đã' 2x3"
   ]
  },
  {
   "cell_type": "code",
   "execution_count": 13,
   "metadata": {},
   "outputs": [
    {
     "data": {
      "text/plain": [
       "'\\nhmm = hmmlearn.hmm.MultinomialHMM(n_components=2*3, random_state=0, n_iter=1000, verbose=True, init_params=\\'e\\', params=\\'ste\\')\\nhmm.startprob_ = np.array([0.7, 0.2, 0.1, 0.0, 0.0, 0.0 ])\\nhmm.transmat_ =np.array([\\n    [0.7, 0.2, 0.1, 0.0, 0.0, 0.0],\\n    [0.0, 0.7, 0.2, 0.1, 0.0, 0.0],\\n    [0.0, 0.0, 0.7, 0.2, 0.1, 0.0],\\n    [0.0, 0.0, 0.0, 0.7, 0.2, 0.1],\\n    [0.0, 0.0, 0.0, 0.0, 0.7, 0.3],\\n    [0.0, 0.0, 0.0, 0.0, 0.0, 1.0],])\\n\\nXct = np.concatenate(trainset[\\'da\\'])\\nlengths = list([len(x) for x in trainset[\\'da\\']])\\nprint(\"training class\", \\'da\\')\\nprint(Xct.shape, lengths, len(lengths))\\nhmm.fit(Xct, lengths=lengths)\\nmodels[\\'da\\'] = hmm\\nprint(\"Training done\")'"
      ]
     },
     "execution_count": 13,
     "metadata": {},
     "output_type": "execute_result"
    }
   ],
   "source": [
    "\"\"\"\n",
    "hmm = hmmlearn.hmm.MultinomialHMM(n_components=2*3, random_state=0, n_iter=1000, verbose=True, init_params='e', params='ste')\n",
    "hmm.startprob_ = np.array([0.7, 0.2, 0.1, 0.0, 0.0, 0.0 ])\n",
    "hmm.transmat_ =np.array([\n",
    "    [0.7, 0.2, 0.1, 0.0, 0.0, 0.0],\n",
    "    [0.0, 0.7, 0.2, 0.1, 0.0, 0.0],\n",
    "    [0.0, 0.0, 0.7, 0.2, 0.1, 0.0],\n",
    "    [0.0, 0.0, 0.0, 0.7, 0.2, 0.1],\n",
    "    [0.0, 0.0, 0.0, 0.0, 0.7, 0.3],\n",
    "    [0.0, 0.0, 0.0, 0.0, 0.0, 1.0],])\n",
    "\n",
    "Xct = np.concatenate(trainset['da'])\n",
    "lengths = list([len(x) for x in trainset['da']])\n",
    "print(\"training class\", 'da')\n",
    "print(Xct.shape, lengths, len(lengths))\n",
    "hmm.fit(Xct, lengths=lengths)\n",
    "models['da'] = hmm\n",
    "print(\"Training done\")\"\"\""
   ]
  },
  {
   "cell_type": "markdown",
   "metadata": {},
   "source": [
    "## Models cho 'chúng ta'"
   ]
  },
  {
   "cell_type": "code",
   "execution_count": 14,
   "metadata": {},
   "outputs": [
    {
     "name": "stdout",
     "output_type": "stream",
     "text": [
      "training class chungta\n",
      "(3266, 1) [41, 46, 47, 36, 43, 34, 36, 42, 36, 40, 37, 36, 30, 40, 36, 41, 36, 37, 36, 42, 40, 39, 35, 38, 38, 41, 36, 44, 38, 59, 49, 37, 43, 35, 52, 42, 50, 48, 46, 54, 55, 47, 45, 38, 39, 38, 42, 38, 43, 33, 35, 32, 42, 32, 41, 34, 40, 37, 35, 37, 47, 31, 34, 36, 34, 31, 43, 30, 37, 54, 42, 40, 75, 45, 51, 57, 43, 41, 39, 37] 80\n"
     ]
    },
    {
     "name": "stderr",
     "output_type": "stream",
     "text": [
      "         1       -8271.0115             +nan\n",
      "         2       -5559.2022       +2711.8094\n",
      "         3       -4612.5442        +946.6580\n",
      "         4       -4302.4412        +310.1030\n",
      "         5       -4189.8884        +112.5528\n",
      "         6       -4133.1066         +56.7817\n",
      "         7       -4091.0999         +42.0067\n",
      "         8       -4060.1050         +30.9949\n",
      "         9       -4039.8144         +20.2906\n",
      "        10       -4026.6232         +13.1912\n",
      "        11       -4018.3885          +8.2347\n",
      "        12       -4013.4050          +4.9834\n",
      "        13       -4010.2614          +3.1436\n",
      "        14       -4008.1040          +2.1574\n",
      "        15       -4006.4454          +1.6587\n",
      "        16       -4004.9638          +1.4815\n",
      "        17       -4003.3933          +1.5705\n",
      "        18       -4001.5867          +1.8066\n",
      "        19       -3999.6002          +1.9865\n",
      "        20       -3997.2856          +2.3146\n",
      "        21       -3994.2120          +3.0736\n",
      "        22       -3989.8119          +4.4000\n",
      "        23       -3983.8180          +5.9940\n",
      "        24       -3977.2452          +6.5728\n",
      "        25       -3971.9519          +5.2933\n",
      "        26       -3968.7079          +3.2440\n",
      "        27       -3966.9968          +1.7111\n",
      "        28       -3966.0585          +0.9383\n",
      "        29       -3965.4104          +0.6481\n",
      "        30       -3964.8325          +0.5778\n",
      "        31       -3964.2380          +0.5946\n",
      "        32       -3963.5938          +0.6441\n",
      "        33       -3962.8892          +0.7046\n",
      "        34       -3962.1140          +0.7752\n",
      "        35       -3961.2300          +0.8840\n",
      "        36       -3960.1731          +1.0569\n",
      "        37       -3958.9924          +1.1807\n",
      "        38       -3957.9275          +1.0649\n",
      "        39       -3957.1050          +0.8225\n",
      "        40       -3956.4531          +0.6519\n",
      "        41       -3955.8741          +0.5790\n",
      "        42       -3955.2973          +0.5768\n",
      "        43       -3954.6616          +0.6357\n",
      "        44       -3953.8955          +0.7661\n",
      "        45       -3952.9258          +0.9696\n",
      "        46       -3951.7506          +1.1752\n",
      "        47       -3950.5054          +1.2453\n",
      "        48       -3949.3535          +1.1519\n",
      "        49       -3948.3306          +1.0229\n",
      "        50       -3947.2954          +1.0352\n",
      "        51       -3945.8172          +1.4783\n",
      "        52       -3942.7400          +3.0772\n",
      "        53       -3936.1752          +6.5648\n",
      "        54       -3925.7934         +10.3818\n",
      "        55       -3916.3779          +9.4154\n",
      "        56       -3912.1948          +4.1831\n",
      "        57       -3911.1269          +1.0679\n",
      "        58       -3910.9197          +0.2072\n",
      "        59       -3910.8576          +0.0622\n",
      "        60       -3910.8097          +0.0478\n",
      "        61       -3910.7584          +0.0513\n",
      "        62       -3910.7001          +0.0583\n",
      "        63       -3910.6309          +0.0692\n",
      "        64       -3910.5434          +0.0876\n",
      "        65       -3910.4284          +0.1150\n",
      "        66       -3910.2901          +0.1383\n",
      "        67       -3910.1611          +0.1290\n",
      "        68       -3910.0756          +0.0855\n",
      "        69       -3910.0312          +0.0443\n",
      "        70       -3910.0087          +0.0226\n"
     ]
    },
    {
     "name": "stdout",
     "output_type": "stream",
     "text": [
      "Training done\n"
     ]
    },
    {
     "name": "stderr",
     "output_type": "stream",
     "text": [
      "        71       -3909.9954          +0.0133\n",
      "        72       -3909.9862          +0.0092\n"
     ]
    }
   ],
   "source": [
    "hmm = hmmlearn.hmm.MultinomialHMM(n_components=5*3, random_state=0, n_iter=1000, verbose=True, init_params='e', params='ste')\n",
    "hmm.startprob_ = np.array([0.7, 0.2, 0.1, 0.0, 0.0, 0.0, 0.0, 0.0, 0.0, 0.0, 0.0, 0.0, 0.0, 0.0, 0.0, ])\n",
    "hmm.transmat_ =np.array([\n",
    "    [0.7, 0.2, 0.1, 0.0, 0.0, 0.0, 0.0, 0.0, 0.0, 0.0, 0.0, 0.0, 0.0, 0.0, 0.0, ],\n",
    "    [0.0, 0.7, 0.2, 0.1, 0.0, 0.0, 0.0, 0.0, 0.0, 0.0, 0.0, 0.0, 0.0, 0.0, 0.0, ],\n",
    "    [0.0, 0.0, 0.7, 0.2, 0.1, 0.0, 0.0, 0.0, 0.0, 0.0, 0.0, 0.0, 0.0, 0.0, 0.0, ],\n",
    "    [0.0, 0.0, 0.0, 0.7, 0.2, 0.1, 0.0, 0.0, 0.0, 0.0, 0.0, 0.0, 0.0, 0.0, 0.0, ],\n",
    "    [0.0, 0.0, 0.0, 0.0, 0.7, 0.2, 0.1, 0.0, 0.0, 0.0, 0.0, 0.0, 0.0, 0.0, 0.0, ],\n",
    "    [0.0, 0.0, 0.0, 0.0, 0.0, 0.7, 0.2, 0.1, 0.0, 0.0, 0.0, 0.0, 0.0, 0.0, 0.0, ],\n",
    "    [0.0, 0.0, 0.0, 0.0, 0.0, 0.0, 0.7, 0.2, 0.1, 0.0, 0.0, 0.0, 0.0, 0.0, 0.0, ],\n",
    "    [0.0, 0.0, 0.0, 0.0, 0.0, 0.0, 0.0, 0.7, 0.2, 0.1, 0.0, 0.0, 0.0, 0.0, 0.0, ],\n",
    "    [0.0, 0.0, 0.0, 0.0, 0.0, 0.0, 0.0, 0.0, 0.7, 0.2, 0.1, 0.0, 0.0, 0.0, 0.0, ],\n",
    "    [0.0, 0.0, 0.0, 0.0, 0.0, 0.0, 0.0, 0.0, 0.0, 0.7, 0.2, 0.1, 0.0, 0.0, 0.0, ],\n",
    "    [0.0, 0.0, 0.0, 0.0, 0.0, 0.0, 0.0, 0.0, 0.0, 0.0, 0.7, 0.2, 0.1, 0.0, 0.0, ],\n",
    "    [0.0, 0.0, 0.0, 0.0, 0.0, 0.0, 0.0, 0.0, 0.0, 0.0, 0.0, 0.7, 0.2, 0.1, 0.0, ],\n",
    "    [0.0, 0.0, 0.0, 0.0, 0.0, 0.0, 0.0, 0.0, 0.0, 0.0, 0.0, 0.0, 0.7, 0.2, 0.1, ],\n",
    "    [0.0, 0.0, 0.0, 0.0, 0.0, 0.0, 0.0, 0.0, 0.0, 0.0, 0.0, 0.0, 0.0, 0.7, 0.3, ],\n",
    "    [0.0, 0.0, 0.0, 0.0, 0.0, 0.0, 0.0, 0.0, 0.0, 0.0, 0.0, 0.0, 0.0, 0.0, 1.0, ],])\n",
    "\n",
    "Xct = np.concatenate(trainset['chungta'])\n",
    "lengths = list([len(x) for x in trainset['chungta']])\n",
    "print(\"training class\", 'chungta')\n",
    "print(Xct.shape, lengths, len(lengths))\n",
    "hmm.fit(Xct, lengths=lengths)\n",
    "models['chungta'] = hmm\n",
    "print(\"Training done\")"
   ]
  },
  {
   "cell_type": "markdown",
   "metadata": {},
   "source": [
    "## Models cho 'được' 4x3"
   ]
  },
  {
   "cell_type": "code",
   "execution_count": 15,
   "metadata": {},
   "outputs": [
    {
     "name": "stdout",
     "output_type": "stream",
     "text": [
      "training class duoc\n",
      "(1856, 1) [25, 20, 19, 17, 14, 22, 21, 23, 23, 30, 15, 18, 21, 30, 19, 20, 21, 30, 22, 14, 17, 23, 23, 19, 21, 18, 18, 20, 38, 21, 22, 35, 29, 18, 19, 22, 42, 22, 20, 24, 22, 21, 22, 22, 44, 29, 18, 14, 20, 24, 22, 19, 41, 24, 20, 18, 16, 20, 18, 21, 22, 30, 17, 21, 19, 16, 19, 18, 19, 16, 20, 14, 17, 16, 32, 26, 28, 24, 25, 25, 29, 21, 15, 17] 84\n"
     ]
    },
    {
     "name": "stderr",
     "output_type": "stream",
     "text": [
      "         1       -4688.9644             +nan\n",
      "         2       -3286.6452       +1402.3193\n",
      "         3       -2852.6372        +434.0079\n",
      "         4       -2684.0806        +168.5567\n",
      "         5       -2613.3296         +70.7509\n",
      "         6       -2564.3033         +49.0263\n",
      "         7       -2518.4920         +45.8112\n",
      "         8       -2478.6026         +39.8895\n",
      "         9       -2443.9518         +34.6508\n",
      "        10       -2416.8882         +27.0636\n",
      "        11       -2401.2816         +15.6066\n",
      "        12       -2392.6696          +8.6120\n",
      "        13       -2387.0971          +5.5725\n",
      "        14       -2383.6410          +3.4561\n",
      "        15       -2381.8192          +1.8218\n",
      "        16       -2380.7846          +1.0347\n",
      "        17       -2380.0765          +0.7081\n",
      "        18       -2379.5253          +0.5512\n",
      "        19       -2379.0531          +0.4722\n",
      "        20       -2378.6342          +0.4189\n",
      "        21       -2378.2753          +0.3589\n",
      "        22       -2377.9886          +0.2867\n",
      "        23       -2377.7724          +0.2162\n",
      "        24       -2377.6118          +0.1606\n",
      "        25       -2377.4892          +0.1226\n",
      "        26       -2377.3910          +0.0981\n",
      "        27       -2377.3085          +0.0826\n",
      "        28       -2377.2356          +0.0728\n",
      "        29       -2377.1685          +0.0672\n",
      "        30       -2377.1038          +0.0647\n",
      "        31       -2377.0388          +0.0649\n",
      "        32       -2376.9711          +0.0677\n",
      "        33       -2376.8980          +0.0731\n",
      "        34       -2376.8168          +0.0812\n",
      "        35       -2376.7242          +0.0927\n",
      "        36       -2376.6162          +0.1080\n",
      "        37       -2376.4879          +0.1282\n",
      "        38       -2376.3334          +0.1545\n",
      "        39       -2376.1454          +0.1880\n",
      "        40       -2375.9155          +0.2299\n",
      "        41       -2375.6352          +0.2802\n",
      "        42       -2375.2984          +0.3368\n",
      "        43       -2374.9043          +0.3941\n",
      "        44       -2374.4611          +0.4432\n",
      "        45       -2373.9853          +0.4758\n",
      "        46       -2373.4969          +0.4883\n",
      "        47       -2373.0135          +0.4834\n",
      "        48       -2372.5456          +0.4680\n",
      "        49       -2372.0957          +0.4499\n",
      "        50       -2371.6592          +0.4365\n",
      "        51       -2371.2263          +0.4328\n",
      "        52       -2370.7891          +0.4373\n",
      "        53       -2370.3505          +0.4386\n",
      "        54       -2369.9310          +0.4195\n",
      "        55       -2369.5627          +0.3683\n",
      "        56       -2369.2717          +0.2909\n",
      "        57       -2369.0644          +0.2074\n",
      "        58       -2368.9275          +0.1368\n",
      "        59       -2368.8402          +0.0873\n",
      "        60       -2368.7835          +0.0567\n",
      "        61       -2368.7445          +0.0391\n",
      "        62       -2368.7155          +0.0290\n",
      "        63       -2368.6923          +0.0231\n",
      "        64       -2368.6729          +0.0194\n",
      "        65       -2368.6560          +0.0169\n",
      "        66       -2368.6409          +0.0151\n",
      "        67       -2368.6272          +0.0137\n",
      "        68       -2368.6146          +0.0126\n",
      "        69       -2368.6028          +0.0118\n",
      "        70       -2368.5918          +0.0110\n",
      "        71       -2368.5814          +0.0104\n"
     ]
    },
    {
     "name": "stdout",
     "output_type": "stream",
     "text": [
      "Training done\n"
     ]
    },
    {
     "name": "stderr",
     "output_type": "stream",
     "text": [
      "        72       -2368.5715          +0.0099\n"
     ]
    }
   ],
   "source": [
    "hmm = hmmlearn.hmm.MultinomialHMM(n_components=4*3, random_state=0, n_iter=1000, verbose=True, init_params='e', params='ste')\n",
    "hmm.startprob_ = np.array([0.7, 0.2, 0.1, 0.0, 0.0, 0.0, 0.0, 0.0, 0.0, 0.0, 0.0, 0.0, ])\n",
    "hmm.transmat_ =np.array([\n",
    "    [0.7, 0.2, 0.1, 0.0, 0.0, 0.0, 0.0, 0.0, 0.0, 0.0, 0.0, 0.0, ],\n",
    "    [0.0, 0.7, 0.2, 0.1, 0.0, 0.0, 0.0, 0.0, 0.0, 0.0, 0.0, 0.0, ],\n",
    "    [0.0, 0.0, 0.7, 0.2, 0.1, 0.0, 0.0, 0.0, 0.0, 0.0, 0.0, 0.0, ],\n",
    "    [0.0, 0.0, 0.0, 0.7, 0.2, 0.1, 0.0, 0.0, 0.0, 0.0, 0.0, 0.0, ],\n",
    "    [0.0, 0.0, 0.0, 0.0, 0.7, 0.2, 0.1, 0.0, 0.0, 0.0, 0.0, 0.0, ],\n",
    "    [0.0, 0.0, 0.0, 0.0, 0.0, 0.7, 0.2, 0.1, 0.0, 0.0, 0.0, 0.0, ],\n",
    "    [0.0, 0.0, 0.0, 0.0, 0.0, 0.0, 0.7, 0.2, 0.1, 0.0, 0.0, 0.0, ],\n",
    "    [0.0, 0.0, 0.0, 0.0, 0.0, 0.0, 0.0, 0.7, 0.2, 0.1, 0.0, 0.0, ],\n",
    "    [0.0, 0.0, 0.0, 0.0, 0.0, 0.0, 0.0, 0.0, 0.7, 0.2, 0.1, 0.0, ],\n",
    "    [0.0, 0.0, 0.0, 0.0, 0.0, 0.0, 0.0, 0.0, 0.0, 0.7, 0.2, 0.1, ],\n",
    "    [0.0, 0.0, 0.0, 0.0, 0.0, 0.0, 0.0, 0.0, 0.0, 0.0, 0.7, 0.3, ],\n",
    "    [0.0, 0.0, 0.0, 0.0, 0.0, 0.0, 0.0, 0.0, 0.0, 0.0, 0.0, 1.0, ],])\n",
    "\n",
    "Xcth = np.concatenate(trainset['duoc'])\n",
    "lengths = list([len(x) for x in trainset['duoc']])\n",
    "print(\"training class\", 'duoc')\n",
    "print(Xcth.shape, lengths, len(lengths))\n",
    "hmm.fit(Xcth, lengths=lengths)\n",
    "models['duoc'] = hmm\n",
    "print(\"Training done\")"
   ]
  },
  {
   "cell_type": "markdown",
   "metadata": {},
   "source": [
    "## Models cho 'người' 4x3"
   ]
  },
  {
   "cell_type": "code",
   "execution_count": 16,
   "metadata": {},
   "outputs": [
    {
     "name": "stderr",
     "output_type": "stream",
     "text": [
      "         1       -4899.0141             +nan\n"
     ]
    },
    {
     "name": "stdout",
     "output_type": "stream",
     "text": [
      "training class nguoi\n",
      "(1892, 1) [20, 18, 23, 25, 25, 38, 20, 25, 27, 22, 23, 23, 20, 26, 23, 19, 28, 24, 25, 19, 22, 28, 19, 24, 28, 20, 20, 32, 20, 18, 20, 31, 22, 19, 24, 14, 22, 15, 13, 22, 19, 25, 18, 27, 20, 20, 24, 17, 22, 19, 22, 26, 20, 23, 35, 28, 22, 30, 25, 27, 26, 23, 31, 30, 21, 19, 18, 20, 22, 15, 26, 19, 22, 51, 37, 42, 29, 29, 19, 18] 80\n"
     ]
    },
    {
     "name": "stderr",
     "output_type": "stream",
     "text": [
      "         2       -3285.6026       +1613.4115\n",
      "         3       -2903.9772        +381.6254\n",
      "         4       -2683.0788        +220.8984\n",
      "         5       -2553.1312        +129.9476\n",
      "         6       -2498.1923         +54.9389\n",
      "         7       -2480.4489         +17.7435\n",
      "         8       -2470.7204          +9.7284\n",
      "         9       -2468.0998          +2.6207\n",
      "        10       -2466.5337          +1.5661\n",
      "        11       -2465.3395          +1.1941\n",
      "        12       -2464.2719          +1.0676\n",
      "        13       -2463.1880          +1.0840\n",
      "        14       -2461.9715          +1.2164\n",
      "        15       -2460.5217          +1.4499\n",
      "        16       -2458.7637          +1.7580\n",
      "        17       -2456.7172          +2.0465\n",
      "        18       -2454.5883          +2.1289\n",
      "        19       -2452.7144          +1.8739\n",
      "        20       -2451.3008          +1.4137\n",
      "        21       -2450.3024          +0.9984\n",
      "        22       -2449.5714          +0.7311\n",
      "        23       -2448.9854          +0.5859\n",
      "        24       -2448.4793          +0.5062\n",
      "        25       -2448.0399          +0.4393\n",
      "        26       -2447.6816          +0.3584\n",
      "        27       -2447.4098          +0.2717\n",
      "        28       -2447.2128          +0.1970\n",
      "        29       -2447.0733          +0.1396\n",
      "        30       -2446.9761          +0.0972\n",
      "        31       -2446.9095          +0.0666\n",
      "        32       -2446.8644          +0.0450\n",
      "        33       -2446.8341          +0.0303\n",
      "        34       -2446.8136          +0.0205\n",
      "        35       -2446.7997          +0.0140\n",
      "        36       -2446.7900          +0.0096"
     ]
    },
    {
     "name": "stdout",
     "output_type": "stream",
     "text": [
      "Training done\n"
     ]
    },
    {
     "name": "stderr",
     "output_type": "stream",
     "text": [
      "\n"
     ]
    }
   ],
   "source": [
    "hmm = hmmlearn.hmm.MultinomialHMM(n_components=4*3, random_state=0, n_iter=1000, verbose=True, init_params='e', params='ste')\n",
    "hmm.startprob_ = np.array([0.7, 0.2, 0.1, 0.0, 0.0, 0.0, 0.0, 0.0, 0.0, 0.0, 0.0, 0.0, ])\n",
    "hmm.transmat_ =np.array([\n",
    "    [0.7, 0.2, 0.1, 0.0, 0.0, 0.0, 0.0, 0.0, 0.0, 0.0, 0.0, 0.0, ],\n",
    "    [0.0, 0.7, 0.2, 0.1, 0.0, 0.0, 0.0, 0.0, 0.0, 0.0, 0.0, 0.0, ],\n",
    "    [0.0, 0.0, 0.7, 0.2, 0.1, 0.0, 0.0, 0.0, 0.0, 0.0, 0.0, 0.0, ],\n",
    "    [0.0, 0.0, 0.0, 0.7, 0.2, 0.1, 0.0, 0.0, 0.0, 0.0, 0.0, 0.0, ],\n",
    "    [0.0, 0.0, 0.0, 0.0, 0.7, 0.2, 0.1, 0.0, 0.0, 0.0, 0.0, 0.0, ],\n",
    "    [0.0, 0.0, 0.0, 0.0, 0.0, 0.7, 0.2, 0.1, 0.0, 0.0, 0.0, 0.0, ],\n",
    "    [0.0, 0.0, 0.0, 0.0, 0.0, 0.0, 0.7, 0.2, 0.1, 0.0, 0.0, 0.0, ],\n",
    "    [0.0, 0.0, 0.0, 0.0, 0.0, 0.0, 0.0, 0.7, 0.2, 0.1, 0.0, 0.0, ],\n",
    "    [0.0, 0.0, 0.0, 0.0, 0.0, 0.0, 0.0, 0.0, 0.7, 0.2, 0.1, 0.0, ],\n",
    "    [0.0, 0.0, 0.0, 0.0, 0.0, 0.0, 0.0, 0.0, 0.0, 0.7, 0.2, 0.1, ],\n",
    "    [0.0, 0.0, 0.0, 0.0, 0.0, 0.0, 0.0, 0.0, 0.0, 0.0, 0.7, 0.3, ],\n",
    "    [0.0, 0.0, 0.0, 0.0, 0.0, 0.0, 0.0, 0.0, 0.0, 0.0, 0.0, 1.0, ], ])\n",
    "\n",
    "Xcth = np.concatenate(trainset['nguoi'])\n",
    "lengths = list([len(x) for x in trainset['nguoi']])\n",
    "print(\"training class\", 'nguoi')\n",
    "print(Xcth.shape, lengths, len(lengths))\n",
    "hmm.fit(Xcth, lengths=lengths)\n",
    "models['nguoi'] = hmm\n",
    "print(\"Training done\")"
   ]
  },
  {
   "cell_type": "markdown",
   "metadata": {},
   "source": [
    "## Models cho 'trong' 3x3"
   ]
  },
  {
   "cell_type": "code",
   "execution_count": 17,
   "metadata": {},
   "outputs": [
    {
     "name": "stdout",
     "output_type": "stream",
     "text": [
      "training class trong\n",
      "(2742, 1) [19, 23, 17, 30, 26, 38, 23, 21, 22, 24, 32, 32, 22, 29, 22, 18, 25, 26, 24, 21, 28, 21, 20, 20, 21, 19, 18, 30, 22, 22, 26, 23, 14, 12, 31, 19, 18, 21, 21, 23, 21, 24, 21, 21, 20, 18, 20, 20, 21, 20, 19, 24, 18, 24, 19, 31, 22, 16, 21, 22, 19, 20, 33, 28, 25, 24, 25, 23, 26, 19, 21, 38, 29, 34, 18, 22, 19, 23, 17, 19, 20, 23, 24, 21, 33, 20, 20, 25, 21, 21, 25, 25, 24, 19, 28, 30, 20, 22, 21, 19, 16, 22, 26, 17, 25, 18, 31, 20, 21, 28, 20, 20, 28, 21, 24, 21, 23, 29, 22, 22] 120\n"
     ]
    },
    {
     "name": "stderr",
     "output_type": "stream",
     "text": [
      "         1       -6979.2600             +nan\n",
      "         2       -4976.1457       +2003.1143\n",
      "         3       -3912.6133       +1063.5324\n",
      "         4       -3525.4433        +387.1701\n",
      "         5       -3385.3957        +140.0476\n",
      "         6       -3327.8599         +57.5358\n",
      "         7       -3304.8240         +23.0358\n",
      "         8       -3293.5508         +11.2732\n",
      "         9       -3288.5326          +5.0182\n",
      "        10       -3285.9721          +2.5605\n",
      "        11       -3284.0368          +1.9354\n",
      "        12       -3282.1780          +1.8588\n",
      "        13       -3279.9690          +2.2090\n",
      "        14       -3276.7898          +3.1793\n",
      "        15       -3271.7769          +5.0128\n",
      "        16       -3264.8103          +6.9667\n",
      "        17       -3258.2669          +6.5434\n",
      "        18       -3254.3599          +3.9069\n",
      "        19       -3252.2052          +2.1548\n",
      "        20       -3250.3204          +1.8848\n",
      "        21       -3247.7972          +2.5232\n",
      "        22       -3240.5292          +7.2680\n",
      "        23       -3235.9796          +4.5496\n",
      "        24       -3234.7903          +1.1893\n",
      "        25       -3234.0843          +0.7060\n",
      "        26       -3233.5688          +0.5155\n",
      "        27       -3233.1611          +0.4077\n",
      "        28       -3232.8268          +0.3344\n",
      "        29       -3232.5462          +0.2805\n",
      "        30       -3232.3064          +0.2398\n",
      "        31       -3232.0967          +0.2097\n",
      "        32       -3231.9055          +0.1913\n",
      "        33       -3231.7094          +0.1961\n",
      "        34       -3231.4391          +0.2703\n",
      "        35       -3230.9284          +0.5107\n",
      "        36       -3230.1214          +0.8070\n",
      "        37       -3229.3783          +0.7431\n",
      "        38       -3228.8630          +0.5152\n",
      "        39       -3228.4500          +0.4130\n",
      "        40       -3228.0407          +0.4094\n",
      "        41       -3227.5815          +0.4592\n",
      "        42       -3227.0260          +0.5555\n",
      "        43       -3226.3165          +0.7096\n",
      "        44       -3225.3763          +0.9402\n",
      "        45       -3224.1072          +1.2691\n",
      "        46       -3222.3922          +1.7150\n",
      "        47       -3220.1124          +2.2799\n",
      "        48       -3217.1899          +2.9225\n",
      "        49       -3213.6636          +3.5263\n",
      "        50       -3209.7723          +3.8913\n",
      "        51       -3205.9683          +3.8040\n",
      "        52       -3202.7683          +3.2000\n",
      "        53       -3200.4849          +2.2834\n",
      "        54       -3199.0775          +1.4074\n",
      "        55       -3198.2758          +0.8017\n",
      "        56       -3197.8077          +0.4681\n",
      "        57       -3197.5069          +0.3007\n",
      "        58       -3197.2961          +0.2108\n",
      "        59       -3197.1419          +0.1542\n",
      "        60       -3197.0277          +0.1142\n",
      "        61       -3196.9433          +0.0844\n",
      "        62       -3196.8811          +0.0622\n",
      "        63       -3196.8354          +0.0457\n",
      "        64       -3196.8019          +0.0335\n",
      "        65       -3196.7773          +0.0245\n",
      "        66       -3196.7593          +0.0180\n",
      "        67       -3196.7461          +0.0132\n"
     ]
    },
    {
     "name": "stdout",
     "output_type": "stream",
     "text": [
      "Training done\n"
     ]
    },
    {
     "name": "stderr",
     "output_type": "stream",
     "text": [
      "        68       -3196.7364          +0.0097\n"
     ]
    }
   ],
   "source": [
    "hmm = hmmlearn.hmm.MultinomialHMM(n_components=3*3, random_state=0, n_iter=1000, verbose=True, init_params='e', params='ste')\n",
    "hmm.startprob_ = np.array([0.7, 0.2, 0.1, 0.0, 0.0, 0.0, 0.0, 0.0, 0.0, ])\n",
    "hmm.transmat_ =np.array([\n",
    "    [0.7, 0.2, 0.1, 0.0, 0.0, 0.0, 0.0, 0.0, 0.0, ],\n",
    "    [0.0, 0.7, 0.2, 0.1, 0.0, 0.0, 0.0, 0.0, 0.0, ],\n",
    "    [0.0, 0.0, 0.7, 0.2, 0.1, 0.0, 0.0, 0.0, 0.0, ],\n",
    "    [0.0, 0.0, 0.0, 0.7, 0.2, 0.1, 0.0, 0.0, 0.0, ],\n",
    "    [0.0, 0.0, 0.0, 0.0, 0.7, 0.2, 0.1, 0.0, 0.0, ],\n",
    "    [0.0, 0.0, 0.0, 0.0, 0.0, 0.7, 0.2, 0.1, 0.0, ],\n",
    "    [0.0, 0.0, 0.0, 0.0, 0.0, 0.0, 0.7, 0.2, 0.1, ],\n",
    "    [0.0, 0.0, 0.0, 0.0, 0.0, 0.0, 0.0, 0.7, 0.3, ],\n",
    "    [0.0, 0.0, 0.0, 0.0, 0.0, 0.0, 0.0, 0.0, 1.0, ],])\n",
    "\n",
    "Xvn = np.concatenate(trainset['trong'])\n",
    "lengths = list([len(x) for x in trainset['trong']])\n",
    "print(\"training class\", 'trong')\n",
    "print(Xvn.shape, lengths, len(lengths))\n",
    "hmm.fit(Xvn, lengths=lengths)\n",
    "models['trong'] = hmm\n",
    "print(\"Training done\")"
   ]
  },
  {
   "cell_type": "markdown",
   "metadata": {},
   "source": [
    "# Test"
   ]
  },
  {
   "cell_type": "code",
   "execution_count": 18,
   "metadata": {},
   "outputs": [
    {
     "name": "stdout",
     "output_type": "stream",
     "text": [
      "Testing\n",
      "cothe {'cothe': -435.072661289539, 'chungta': -1646.6961442391212, 'duoc': -735.3928798286262, 'nguoi': -inf, 'trong': -inf} predict: cothe\n",
      "cothe {'cothe': -100.63541899724476, 'chungta': -459.8281285644792, 'duoc': -531.0350160865905, 'nguoi': -inf, 'trong': -inf} predict: cothe\n",
      "cothe {'cothe': -199.57617216081914, 'chungta': -606.1437924808388, 'duoc': -237.03721726902887, 'nguoi': -inf, 'trong': -inf} predict: cothe\n",
      "cothe {'cothe': -220.86028015349706, 'chungta': -532.0127627644414, 'duoc': -3226.0198634241656, 'nguoi': -inf, 'trong': -inf} predict: cothe\n",
      "cothe {'cothe': -449.67027565708946, 'chungta': -576.973791639606, 'duoc': -1486.298501485175, 'nguoi': -inf, 'trong': -inf} predict: cothe\n",
      "cothe {'cothe': -323.4672535784477, 'chungta': -1517.4005793030808, 'duoc': -1250.6527512804607, 'nguoi': -inf, 'trong': -inf} predict: cothe\n",
      "cothe {'cothe': -216.60788878647116, 'chungta': -1323.738532908682, 'duoc': -1924.669656290977, 'nguoi': -inf, 'trong': -inf} predict: cothe\n",
      "cothe {'cothe': -493.8484347333702, 'chungta': -692.5800126595934, 'duoc': -1815.4368124842485, 'nguoi': -inf, 'trong': -inf} predict: cothe\n",
      "cothe {'cothe': -251.45609965405646, 'chungta': -680.042434158863, 'duoc': -1927.0809487998076, 'nguoi': -inf, 'trong': -inf} predict: cothe\n",
      "cothe {'cothe': -187.45588304728417, 'chungta': -680.6173750096464, 'duoc': -7699.895498242184, 'nguoi': -inf, 'trong': -inf} predict: cothe\n",
      "cothe {'cothe': -198.30575795681398, 'chungta': -772.785043525424, 'duoc': -918.8231190058335, 'nguoi': -inf, 'trong': -inf} predict: cothe\n",
      "cothe {'cothe': -226.05301549441896, 'chungta': -705.5145456103023, 'duoc': -383.43158069984037, 'nguoi': -inf, 'trong': -inf} predict: cothe\n",
      "cothe {'cothe': -209.59772051703726, 'chungta': -1063.5282608396017, 'duoc': -1689.3520791481933, 'nguoi': -inf, 'trong': -inf} predict: cothe\n",
      "cothe {'cothe': -583.7073309499309, 'chungta': -996.331659591112, 'duoc': -1716.1380312841795, 'nguoi': -inf, 'trong': -inf} predict: cothe\n",
      "cothe {'cothe': -224.50181657663404, 'chungta': -631.4581415479644, 'duoc': -1430.3335223757247, 'nguoi': -inf, 'trong': -inf} predict: cothe\n",
      "cothe {'cothe': -169.97051286568757, 'chungta': -449.32697865078075, 'duoc': -7386.327963350313, 'nguoi': -inf, 'trong': -inf} predict: cothe\n",
      "cothe {'cothe': -547.5148390585222, 'chungta': -727.2585370169229, 'duoc': -2273.211718666889, 'nguoi': -inf, 'trong': -inf} predict: cothe\n",
      "cothe {'cothe': -202.2181805633519, 'chungta': -522.2087522345217, 'duoc': -257.68229122281406, 'nguoi': -inf, 'trong': -510.5633345710067} predict: cothe\n",
      "cothe {'cothe': -188.50738437113804, 'chungta': -497.7425518245346, 'duoc': -298.15834323405124, 'nguoi': -inf, 'trong': -inf} predict: cothe\n",
      "cothe {'cothe': -678.8151845740423, 'chungta': -1426.1000552480216, 'duoc': -1642.0508341146353, 'nguoi': -inf, 'trong': -inf} predict: cothe\n",
      "cothe {'cothe': -121.65402550220826, 'chungta': -1379.2463860155206, 'duoc': -3676.6200603039188, 'nguoi': -inf, 'trong': -inf} predict: cothe\n",
      "cothe {'cothe': -735.7211123785706, 'chungta': -1446.0079513028138, 'duoc': -1275.0524939714232, 'nguoi': -inf, 'trong': -inf} predict: cothe\n",
      "cothe {'cothe': -376.74274129197784, 'chungta': -1648.3573898762356, 'duoc': -2002.2322856202657, 'nguoi': -inf, 'trong': -inf} predict: cothe\n",
      "cothe {'cothe': -133.96197430442928, 'chungta': -1053.3753404972833, 'duoc': -3664.8252961453154, 'nguoi': -inf, 'trong': -inf} predict: cothe\n",
      "cothe {'cothe': -194.22899698812458, 'chungta': -1095.8314901915812, 'duoc': -8727.551650679325, 'nguoi': -inf, 'trong': -inf} predict: cothe\n",
      "chungta {'cothe': -130.56752243287318, 'chungta': -42.547581879461724, 'duoc': -90.92844755534327, 'nguoi': -5200.51803219926, 'trong': -664.0968562720611} predict: chungta\n",
      "chungta {'cothe': -449.51895504706, 'chungta': -36.11228950971666, 'duoc': -108.96974577290896, 'nguoi': -6739.640197391221, 'trong': -inf} predict: chungta\n",
      "chungta {'cothe': -323.46424421796814, 'chungta': -44.27392884022247, 'duoc': -95.62778119741502, 'nguoi': -3900.0993937672283, 'trong': -299.37934846159044} predict: chungta\n",
      "chungta {'cothe': -480.765244118505, 'chungta': -44.00081003658257, 'duoc': -102.30048767836001, 'nguoi': -3668.444487642208, 'trong': -inf} predict: chungta\n",
      "chungta {'cothe': -326.59452094173275, 'chungta': -34.197930592111334, 'duoc': -99.64870343742314, 'nguoi': -5809.719782268161, 'trong': -inf} predict: chungta\n",
      "chungta {'cothe': -124.89332109796747, 'chungta': -45.291126080579204, 'duoc': -98.47945024248246, 'nguoi': -4795.2476178526385, 'trong': -664.6533811145126} predict: chungta\n",
      "chungta {'cothe': -523.2241820485792, 'chungta': -57.2711563837403, 'duoc': -963.8486023387487, 'nguoi': -inf, 'trong': -302.6482619723715} predict: chungta\n",
      "chungta {'cothe': -315.1746046297576, 'chungta': -47.4644496058751, 'duoc': -477.58582979027176, 'nguoi': -1559.9230051685374, 'trong': -inf} predict: chungta\n",
      "chungta {'cothe': -133.2639200542843, 'chungta': -52.69861300695337, 'duoc': -85.88877883369116, 'nguoi': -3898.1146794312476, 'trong': -666.7512177135484} predict: chungta\n",
      "chungta {'cothe': -332.4623767103822, 'chungta': -41.84948412579915, 'duoc': -99.63784354675916, 'nguoi': -4434.036222266582, 'trong': -inf} predict: chungta\n",
      "chungta {'cothe': -118.76603175856013, 'chungta': -33.93814360909784, 'duoc': -423.8244517312866, 'nguoi': -6618.077431118262, 'trong': -514.9856815015883} predict: chungta\n",
      "chungta {'cothe': -438.39584861396713, 'chungta': -44.29930236302073, 'duoc': -104.92005398947533, 'nguoi': -5585.738898833402, 'trong': -131.37101590911965} predict: chungta\n",
      "chungta {'cothe': -438.4220264471177, 'chungta': -39.94263476273383, 'duoc': -95.59030847187002, 'nguoi': -4140.6695234240515, 'trong': -292.7095284012984} predict: chungta\n",
      "chungta {'cothe': -134.9407545265123, 'chungta': -38.770315788511446, 'duoc': -92.1632526239066, 'nguoi': -4737.882096551176, 'trong': -83.99643129372573} predict: chungta\n",
      "chungta {'cothe': -92.73802038038433, 'chungta': -26.99105816388282, 'duoc': -83.4281769557456, 'nguoi': -962.4912801366103, 'trong': -1111.570049747855} predict: chungta\n",
      "chungta {'cothe': -99.40081351750656, 'chungta': -35.59427104879188, 'duoc': -88.53981895001206, 'nguoi': -5758.088310777899, 'trong': -200.2033223903766} predict: chungta\n",
      "chungta {'cothe': -313.6543276496297, 'chungta': -34.22123203822248, 'duoc': -91.90208361547361, 'nguoi': -915.1006354250911, 'trong': -81.70218535286345} predict: chungta\n",
      "chungta {'cothe': -143.22887847398852, 'chungta': -42.13654026159548, 'duoc': -81.53476566297539, 'nguoi': -3565.4876198883608, 'trong': -384.28038793983535} predict: chungta\n",
      "chungta {'cothe': -354.7080165206492, 'chungta': -31.258320406273853, 'duoc': -89.49083887570912, 'nguoi': -1240.9353760784902, 'trong': -inf} predict: chungta\n",
      "chungta {'cothe': -305.27022886838995, 'chungta': -28.552216850418766, 'duoc': -89.04208249654546, 'nguoi': -1369.564684279816, 'trong': -inf} predict: chungta\n",
      "duoc {'cothe': -157.70708686746156, 'chungta': -368.4106942298729, 'duoc': -63.46035918828298, 'nguoi': -67.15912983674737, 'trong': -506.126573932997} predict: duoc\n",
      "duoc {'cothe': -55.31102601641637, 'chungta': -178.4540692667336, 'duoc': -22.336323695054062, 'nguoi': -39.84768789570951, 'trong': -126.52517174990625} predict: duoc\n",
      "duoc {'cothe': -60.559883831251916, 'chungta': -202.22512873192994, 'duoc': -28.227183541644184, 'nguoi': -72.55800390173818, 'trong': -136.90381318275388} predict: duoc\n",
      "duoc {'cothe': -44.952392806993, 'chungta': -585.7018795586035, 'duoc': -37.94790909365189, 'nguoi': -57.41762409806495, 'trong': -484.3361222873891} predict: duoc\n",
      "duoc {'cothe': -78.82435765546563, 'chungta': -103.40524569441028, 'duoc': -60.90014070292306, 'nguoi': -inf, 'trong': -89.0062905371774} predict: duoc\n",
      "duoc {'cothe': -48.8975369827525, 'chungta': -650.3324557255394, 'duoc': -38.629133635475654, 'nguoi': -65.46575146396789, 'trong': -204.7576483193196} predict: duoc\n",
      "duoc {'cothe': -58.04978565885975, 'chungta': -734.3599111478752, 'duoc': -26.25426305091549, 'nguoi': -48.544537607586115, 'trong': -389.9276265595151} predict: duoc\n",
      "duoc {'cothe': -59.69820244996345, 'chungta': -670.4495954935109, 'duoc': -32.508546860476926, 'nguoi': -71.60248969189445, 'trong': -55.55344624451662} predict: duoc\n",
      "duoc {'cothe': -67.31873736073615, 'chungta': -657.3373038763252, 'duoc': -49.4261485317985, 'nguoi': -122.64836580596379, 'trong': -329.1621264126645} predict: duoc\n",
      "duoc {'cothe': -40.682234090679906, 'chungta': -639.7402783398628, 'duoc': -30.949278215484682, 'nguoi': -48.20654747362863, 'trong': -110.99615828235136} predict: duoc\n",
      "duoc {'cothe': -41.32842197123817, 'chungta': -200.41055606047235, 'duoc': -23.627017481101674, 'nguoi': -31.241182882828667, 'trong': -591.9943161474021} predict: duoc\n",
      "duoc {'cothe': -55.64893592006755, 'chungta': -58.660285094329254, 'duoc': -20.551959554499426, 'nguoi': -36.84826204419545, 'trong': -25.217612465011996} predict: duoc\n",
      "duoc {'cothe': -48.60231728252612, 'chungta': -37.68826217878286, 'duoc': -24.446860081027623, 'nguoi': -45.51860767233571, 'trong': -1409.4840400203504} predict: duoc\n",
      "duoc {'cothe': -52.39486888565852, 'chungta': -266.6926958740454, 'duoc': -23.18547283333493, 'nguoi': -66.34879231565952, 'trong': -305.006282580912} predict: duoc\n",
      "duoc {'cothe': -68.13549750730293, 'chungta': -144.1101588067501, 'duoc': -31.915825677188966, 'nguoi': -74.22295727732369, 'trong': -73.09096917455} predict: duoc\n",
      "duoc {'cothe': -54.04623336086323, 'chungta': -63.352893095579944, 'duoc': -31.259790577424116, 'nguoi': -69.5572558770342, 'trong': -47.772953889200295} predict: duoc\n",
      "duoc {'cothe': -70.57886571320563, 'chungta': -151.93183707981328, 'duoc': -25.375603712206935, 'nguoi': -71.16336385897807, 'trong': -73.22257081957333} predict: duoc\n",
      "duoc {'cothe': -32.27675183787802, 'chungta': -29.940527237206602, 'duoc': -20.042751664207845, 'nguoi': -29.363081474703385, 'trong': -23.342810548808284} predict: duoc\n",
      "duoc {'cothe': -40.19088836808352, 'chungta': -629.5931269939591, 'duoc': -36.919732055337086, 'nguoi': -56.70140890223283, 'trong': -384.9360846297426} predict: duoc\n",
      "duoc {'cothe': -21.71146037134895, 'chungta': -200.28290030921926, 'duoc': -22.339581088281236, 'nguoi': -14.546021448396834, 'trong': -167.1672514074603} predict: nguoi\n",
      "duoc {'cothe': -45.4243671287902, 'chungta': -179.93043461632507, 'duoc': -23.9460287674987, 'nguoi': -49.44282318372815, 'trong': -43.18357359378656} predict: duoc\n",
      "nguoi {'cothe': -33.252601392274684, 'chungta': -192.8295429806404, 'duoc': -32.61873719101026, 'nguoi': -20.312177968835194, 'trong': -94.6109958080151} predict: nguoi\n",
      "nguoi {'cothe': -49.17253275339116, 'chungta': -698.3217718836906, 'duoc': -86.21125808098535, 'nguoi': -40.869572669803446, 'trong': -211.34299104274473} predict: nguoi\n",
      "nguoi {'cothe': -42.49692633047497, 'chungta': -118.64610777277113, 'duoc': -41.49173847151069, 'nguoi': -36.94026929425108, 'trong': -95.1651060186003} predict: nguoi\n",
      "nguoi {'cothe': -42.91864152570427, 'chungta': -290.0334426325752, 'duoc': -33.597096257642754, 'nguoi': -17.057203826843747, 'trong': -76.71345658933396} predict: nguoi\n",
      "nguoi {'cothe': -37.068453978716185, 'chungta': -300.85748548350716, 'duoc': -39.58973715107899, 'nguoi': -27.07024954607913, 'trong': -60.481127886490825} predict: nguoi\n",
      "nguoi {'cothe': -32.44376219022717, 'chungta': -565.8076982220476, 'duoc': -30.40264937717778, 'nguoi': -26.996005168464272, 'trong': -173.92903888919102} predict: nguoi\n",
      "nguoi {'cothe': -51.1126440818886, 'chungta': -268.33215532103117, 'duoc': -53.85131077597622, 'nguoi': -31.19144545762629, 'trong': -163.80448156627958} predict: nguoi\n",
      "nguoi {'cothe': -52.827631322797586, 'chungta': -760.3744747577924, 'duoc': -61.37207789285777, 'nguoi': -33.450667937187184, 'trong': -167.70740823158724} predict: nguoi\n",
      "nguoi {'cothe': -43.1522000210396, 'chungta': -180.58090284407197, 'duoc': -84.66727395708946, 'nguoi': -33.200811423156345, 'trong': -433.55485583431704} predict: nguoi\n",
      "nguoi {'cothe': -35.37861615389751, 'chungta': -166.60012939660308, 'duoc': -22.698020005193197, 'nguoi': -20.357463872579242, 'trong': -95.11636852169276} predict: nguoi\n",
      "nguoi {'cothe': -49.25283253562707, 'chungta': -338.2226483804491, 'duoc': -47.39287208933318, 'nguoi': -26.838333799571373, 'trong': -91.62409334920032} predict: nguoi\n",
      "nguoi {'cothe': -55.37290473911638, 'chungta': -204.10236828698848, 'duoc': -39.33908142773144, 'nguoi': -24.74846971074944, 'trong': -169.88496963687118} predict: nguoi\n",
      "nguoi {'cothe': -36.383915574459564, 'chungta': -138.54749049105033, 'duoc': -26.59906946100904, 'nguoi': -21.42547118890027, 'trong': -66.01692734813759} predict: nguoi\n",
      "nguoi {'cothe': -35.237342374068405, 'chungta': -96.13190841919585, 'duoc': -30.689613420312227, 'nguoi': -32.33023607765064, 'trong': -154.11782847522434} predict: duoc\n",
      "nguoi {'cothe': -28.37348543063218, 'chungta': -162.10654968058594, 'duoc': -16.7575540154964, 'nguoi': -15.511289556322415, 'trong': -87.75967796287915} predict: nguoi\n",
      "nguoi {'cothe': -30.098310079325103, 'chungta': -227.6467432007519, 'duoc': -44.55903506180238, 'nguoi': -24.57041781261627, 'trong': -63.57226612865237} predict: nguoi\n",
      "nguoi {'cothe': -32.1565792200117, 'chungta': -422.0265510726425, 'duoc': -46.64329034817647, 'nguoi': -16.57363810190025, 'trong': -134.50718578030538} predict: nguoi\n",
      "nguoi {'cothe': -36.758037726905314, 'chungta': -129.87500462543278, 'duoc': -36.20403795857313, 'nguoi': -20.811118930613404, 'trong': -64.0271820824917} predict: nguoi\n",
      "nguoi {'cothe': -43.316604997307294, 'chungta': -289.31245790487554, 'duoc': -41.58506897618472, 'nguoi': -19.985505526210158, 'trong': -150.0669426554894} predict: nguoi\n",
      "nguoi {'cothe': -39.66684884561454, 'chungta': -411.609021331428, 'duoc': -28.23644993048337, 'nguoi': -24.784615497556633, 'trong': -361.80915165707813} predict: nguoi\n",
      "trong {'cothe': -118.00564714831955, 'chungta': -43.38419605570719, 'duoc': -56.52144589685669, 'nguoi': -1810.4304760460902, 'trong': -26.387477765844277} predict: trong\n",
      "trong {'cothe': -134.15532145999381, 'chungta': -207.38840527250116, 'duoc': -93.52883228722204, 'nguoi': -1970.5334215436806, 'trong': -61.80085713756551} predict: trong\n",
      "trong {'cothe': -72.07678090645807, 'chungta': -45.01789519999525, 'duoc': -42.61051367031151, 'nguoi': -1858.649171643109, 'trong': -21.451653832198502} predict: trong\n",
      "trong {'cothe': -90.92232828139686, 'chungta': -52.46726237194764, 'duoc': -53.28297032308551, 'nguoi': -1606.9327475259738, 'trong': -29.18562735869093} predict: trong\n",
      "trong {'cothe': -72.47690131070803, 'chungta': -31.335974179070952, 'duoc': -47.17941088383796, 'nguoi': -1482.661944272087, 'trong': -23.98191706310032} predict: trong\n",
      "trong {'cothe': -111.29379323777928, 'chungta': -42.405842236710626, 'duoc': -58.28993679552519, 'nguoi': -1843.904400607949, 'trong': -25.739988324970533} predict: trong\n",
      "trong {'cothe': -80.81501525371978, 'chungta': -32.94008884850732, 'duoc': -51.34982389913135, 'nguoi': -1601.3278480360173, 'trong': -20.36957308683793} predict: trong\n",
      "trong {'cothe': -76.40989958069291, 'chungta': -43.07226864778178, 'duoc': -66.35099752247007, 'nguoi': -1792.4588718899586, 'trong': -26.699320932085307} predict: trong\n",
      "trong {'cothe': -78.37470760522987, 'chungta': -736.8002476658486, 'duoc': -49.50854084151802, 'nguoi': -2049.269702668637, 'trong': -32.136353199144644} predict: trong\n",
      "trong {'cothe': -83.38389678726595, 'chungta': -45.311058601465525, 'duoc': -44.017418522607755, 'nguoi': -2063.1320878165648, 'trong': -27.270415895022367} predict: trong\n",
      "trong {'cothe': -73.96575631157596, 'chungta': -45.08807997726566, 'duoc': -46.0289167729869, 'nguoi': -2117.52394207192, 'trong': -27.25963276174091} predict: trong\n",
      "trong {'cothe': -112.53749971304796, 'chungta': -40.27413768042181, 'duoc': -63.179402617563134, 'nguoi': -2175.9487799950225, 'trong': -29.21645579405147} predict: trong\n",
      "trong {'cothe': -84.39940717141361, 'chungta': -27.65493268324014, 'duoc': -73.3456233353137, 'nguoi': -1924.3747522937902, 'trong': -24.829072103280318} predict: trong\n",
      "trong {'cothe': -57.66119277816159, 'chungta': -47.33261772540626, 'duoc': -36.33316759917101, 'nguoi': -1715.5502197790393, 'trong': -35.18131373894905} predict: trong\n",
      "trong {'cothe': -59.49992611602316, 'chungta': -33.37593483667818, 'duoc': -43.687591107332096, 'nguoi': -1932.029542684219, 'trong': -25.521743265296735} predict: trong\n",
      "trong {'cothe': -82.95285890567912, 'chungta': -878.679544618195, 'duoc': -48.26111965801971, 'nguoi': -1033.4103940392442, 'trong': -788.8260348284117} predict: duoc\n",
      "trong {'cothe': -78.71936736743763, 'chungta': -597.9840292073216, 'duoc': -54.753974045537035, 'nguoi': -562.4784680204962, 'trong': -35.671555041469944} predict: trong\n",
      "trong {'cothe': -94.88533802896455, 'chungta': -39.02849638870558, 'duoc': -84.32231264278637, 'nguoi': -1327.9829698874955, 'trong': -35.317369387175766} predict: trong\n",
      "trong {'cothe': -69.0122571920481, 'chungta': -33.05006019310487, 'duoc': -44.537171855313055, 'nguoi': -590.3525143875491, 'trong': -73.50813380456022} predict: chungta\n",
      "trong {'cothe': -104.61657625443246, 'chungta': -61.84509231737491, 'duoc': -61.23865851702531, 'nguoi': -inf, 'trong': -34.641236384733645} predict: trong\n",
      "trong {'cothe': -69.89950962244785, 'chungta': -101.30085882483255, 'duoc': -44.1346956500807, 'nguoi': -947.9566171598544, 'trong': -33.108304645609124} predict: trong\n",
      "trong {'cothe': -62.94015220618091, 'chungta': -44.874421715127006, 'duoc': -51.62260919430919, 'nguoi': -61.51314635647288, 'trong': -32.80739406294995} predict: trong\n",
      "trong {'cothe': -60.17835294600553, 'chungta': -63.13656992316634, 'duoc': -67.73632606940068, 'nguoi': -68.10457231295239, 'trong': -50.643945339884915} predict: trong\n",
      "trong {'cothe': -48.839343111456856, 'chungta': -120.8989091664097, 'duoc': -42.827674167644425, 'nguoi': -49.89784712147644, 'trong': -47.12931930469656} predict: duoc\n",
      "trong {'cothe': -54.23797667553143, 'chungta': -181.6585879162589, 'duoc': -32.51101856003147, 'nguoi': -49.79535381928477, 'trong': -442.03208980773024} predict: duoc\n",
      "trong {'cothe': -83.1361091688227, 'chungta': -138.16938730134564, 'duoc': -41.562830124300845, 'nguoi': -1419.0965366625558, 'trong': -30.755050706559388} predict: trong\n",
      "trong {'cothe': -70.53113599877993, 'chungta': -205.4380317029501, 'duoc': -58.10300171160536, 'nguoi': -81.97695214084644, 'trong': -52.96003048361451} predict: trong\n",
      "trong {'cothe': -132.79683541848226, 'chungta': -173.1996338585282, 'duoc': -80.43041917370462, 'nguoi': -inf, 'trong': -142.69256086646317} predict: duoc\n",
      "trong {'cothe': -71.46870937551202, 'chungta': -117.89790186757764, 'duoc': -44.3506879628914, 'nguoi': -76.26454025839882, 'trong': -28.088383849706155} predict: trong\n",
      "trong {'cothe': -75.2119050600829, 'chungta': -129.78830092706067, 'duoc': -50.48602038098843, 'nguoi': -83.33363841406607, 'trong': -33.305185014981916} predict: trong\n"
     ]
    }
   ],
   "source": [
    "print(\"Testing\")\n",
    "n_correct = {'cothe': 0, 'chungta': 0, 'duoc': 0, 'nguoi': 0,'trong': 0}\n",
    "for true_cname in class_names:\n",
    "    for O in testset[true_cname]:\n",
    "        score = {cname: model.score(O, [len(O)]) for cname, model in models.items()}\n",
    "        if (true_cname == max(score, key=score.get)): n_correct[true_cname] += 1\n",
    "        print(true_cname, score, 'predict:', max(score, key=score.get))"
   ]
  },
  {
   "cell_type": "code",
   "execution_count": 19,
   "metadata": {},
   "outputs": [
    {
     "name": "stdout",
     "output_type": "stream",
     "text": [
      "Accuracy: cothe 1.0\n",
      "Accuracy: chungta 1.0\n",
      "Accuracy: duoc 0.9523809523809523\n",
      "Accuracy: nguoi 0.95\n",
      "Accuracy: trong 0.8333333333333334\n"
     ]
    }
   ],
   "source": [
    "for cname in class_names:\n",
    "    print('Accuracy:', cname, n_correct[cname]/n_test[cname])"
   ]
  },
  {
   "cell_type": "code",
   "execution_count": 20,
   "metadata": {},
   "outputs": [
    {
     "name": "stdout",
     "output_type": "stream",
     "text": [
      "All Accuracy: 0.9396551724137931\n"
     ]
    }
   ],
   "source": [
    "print('All Accuracy:', sum(n_correct.values())/sum(n_test.values()))"
   ]
  },
  {
   "cell_type": "code",
   "execution_count": 21,
   "metadata": {},
   "outputs": [
    {
     "name": "stdout",
     "output_type": "stream",
     "text": [
      "{'cothe': 25, 'chungta': 20, 'duoc': 21, 'nguoi': 20, 'trong': 30}\n"
     ]
    }
   ],
   "source": [
    "print(n_test)"
   ]
  },
  {
   "cell_type": "code",
   "execution_count": 22,
   "metadata": {},
   "outputs": [
    {
     "name": "stdout",
     "output_type": "stream",
     "text": [
      "Testing testDataSet\n",
      "chungta {'cothe': -156.05843252483922, 'chungta': -179.0932387171526, 'duoc': -119.5182275865995, 'nguoi': -503.1246221166379, 'trong': -584.0690807967635} predict: duoc\n",
      "chungta {'cothe': -149.21120866066664, 'chungta': -83.04668824217087, 'duoc': -128.3812019793342, 'nguoi': -1778.0527928239917, 'trong': -690.2531693667312} predict: chungta\n",
      "chungta {'cothe': -187.01327953023807, 'chungta': -79.44975008316185, 'duoc': -109.82850741911884, 'nguoi': -2757.5007344827322, 'trong': -273.12354659813496} predict: chungta\n",
      "chungta {'cothe': -128.15320391944593, 'chungta': -77.20917330888531, 'duoc': -97.00224228705552, 'nguoi': -106.10953144923585, 'trong': -141.46423459648554} predict: chungta\n",
      "chungta {'cothe': -267.4595379836476, 'chungta': -71.67392430226296, 'duoc': -120.64479685726239, 'nguoi': -3294.6217487951644, 'trong': -1388.1889115562979} predict: chungta\n",
      "duoc {'cothe': -35.63745039598357, 'chungta': -27.850426008145515, 'duoc': -19.23179157590792, 'nguoi': -30.532317664370613, 'trong': -28.463758318833285} predict: duoc\n",
      "duoc {'cothe': -49.751144834802275, 'chungta': -108.38451576270978, 'duoc': -20.1879045372559, 'nguoi': -35.13718683289382, 'trong': -36.416273085633094} predict: duoc\n",
      "duoc {'cothe': -35.21672572454145, 'chungta': -34.60525265217003, 'duoc': -22.445448166262192, 'nguoi': -40.72281379226942, 'trong': -82.24012873935091} predict: duoc\n",
      "duoc {'cothe': -51.19507704790871, 'chungta': -169.0033397661948, 'duoc': -30.82043105527815, 'nguoi': -53.30244080241606, 'trong': -114.894967615374} predict: duoc\n",
      "duoc {'cothe': -38.77056670419798, 'chungta': -107.0437974617193, 'duoc': -23.657542686425003, 'nguoi': -28.80259647581548, 'trong': -46.51744484238009} predict: duoc\n",
      "trong {'cothe': -94.24129467331052, 'chungta': -86.81621690900035, 'duoc': -83.92252548338246, 'nguoi': -3072.2994936124646, 'trong': -49.15099967141642} predict: trong\n",
      "trong {'cothe': -73.00444541578139, 'chungta': -65.03776688263692, 'duoc': -43.93452318248227, 'nguoi': -inf, 'trong': -32.65873352288319} predict: trong\n",
      "trong {'cothe': -80.89911552714004, 'chungta': -70.93477723410355, 'duoc': -62.16289673702397, 'nguoi': -inf, 'trong': -43.7332674388727} predict: trong\n",
      "trong {'cothe': -89.38710107002761, 'chungta': -65.53619886441606, 'duoc': -55.59632370673914, 'nguoi': -2462.707980905265, 'trong': -32.132295540760765} predict: trong\n",
      "trong {'cothe': -83.6511089149715, 'chungta': -128.46927008037355, 'duoc': -50.53932079553181, 'nguoi': -inf, 'trong': -173.9057076080417} predict: duoc\n",
      "nguoi {'cothe': -58.065163853173864, 'chungta': -125.49704941421352, 'duoc': -66.03338327672431, 'nguoi': -29.515684943009838, 'trong': -269.49211374726855} predict: nguoi\n",
      "nguoi {'cothe': -88.15739312402236, 'chungta': -468.9407527923398, 'duoc': -55.730837266581496, 'nguoi': -60.09324441834362, 'trong': -909.317426057272} predict: duoc\n",
      "nguoi {'cothe': -68.20337761940625, 'chungta': -271.78122133295085, 'duoc': -67.22114070367672, 'nguoi': -43.128880798487394, 'trong': -566.8023057229146} predict: nguoi\n",
      "nguoi {'cothe': -55.06836900689261, 'chungta': -352.27489659812295, 'duoc': -55.036565193069535, 'nguoi': -30.453921394188963, 'trong': -182.15510831310098} predict: nguoi\n",
      "nguoi {'cothe': -60.24681187362067, 'chungta': -203.4689909259485, 'duoc': -48.42173539422073, 'nguoi': -29.16352486281028, 'trong': -627.2937210752294} predict: nguoi\n",
      "cothe {'cothe': -58.68812905501246, 'chungta': -197.25288799317326, 'duoc': -108.33980586339136, 'nguoi': -82.03381822835476, 'trong': -490.9435015619095} predict: cothe\n",
      "cothe {'cothe': -88.90295565124649, 'chungta': -347.0959827109058, 'duoc': -123.70319048453516, 'nguoi': -inf, 'trong': -1627.051316693111} predict: cothe\n",
      "cothe {'cothe': -65.96478029891277, 'chungta': -170.04948673690717, 'duoc': -107.27523782821069, 'nguoi': -138.9782131614027, 'trong': -264.2966344364575} predict: cothe\n",
      "cothe {'cothe': -73.62895473114993, 'chungta': -86.88227990635647, 'duoc': -126.00051082286967, 'nguoi': -inf, 'trong': -1426.0264069610575} predict: cothe\n",
      "cothe {'cothe': -79.33141423942807, 'chungta': -110.1643704809573, 'duoc': -126.36345870687005, 'nguoi': -inf, 'trong': -1648.107976294371} predict: cothe\n"
     ]
    }
   ],
   "source": [
    "print(\"Testing testDataSet\")\n",
    "n_correct = {'cothe': 0, 'chungta': 0, 'duoc': 0, 'nguoi': 0,'trong': 0}\n",
    "for true_cname in testClass_names:\n",
    "    for O in testDataSet[true_cname]:\n",
    "        score = {cname: model.score(O, [len(O)]) for cname, model in models.items()}\n",
    "        if (true_cname == max(score, key=score.get)): n_correct[true_cname] += 1\n",
    "        print(true_cname, score, 'predict:', max(score, key=score.get))"
   ]
  },
  {
   "cell_type": "code",
   "execution_count": 23,
   "metadata": {},
   "outputs": [
    {
     "name": "stdout",
     "output_type": "stream",
     "text": [
      "Accuracy: chungta 0.8\n",
      "Accuracy: duoc 1.0\n",
      "Accuracy: trong 0.8\n",
      "Accuracy: nguoi 0.8\n",
      "Accuracy: cothe 1.0\n",
      "All Accuracy: 0.88\n"
     ]
    }
   ],
   "source": [
    "for cname in testClass_names:\n",
    "    print('Accuracy:', cname, n_correct[cname]/n_testDataSet[cname])\n",
    "print('All Accuracy:', sum(n_correct.values())/sum(n_testDataSet.values()))"
   ]
  },
  {
   "cell_type": "code",
   "execution_count": 24,
   "metadata": {},
   "outputs": [],
   "source": [
    "#np.around(models['trong'].transmat_, 2)"
   ]
  },
  {
   "cell_type": "code",
   "execution_count": null,
   "metadata": {},
   "outputs": [],
   "source": []
  }
 ],
 "metadata": {
  "kernelspec": {
   "display_name": "Python 3",
   "language": "python",
   "name": "python3"
  },
  "language_info": {
   "codemirror_mode": {
    "name": "ipython",
    "version": 3
   },
   "file_extension": ".py",
   "mimetype": "text/x-python",
   "name": "python",
   "nbconvert_exporter": "python",
   "pygments_lexer": "ipython3",
   "version": "3.7.7"
  }
 },
 "nbformat": 4,
 "nbformat_minor": 4
}
